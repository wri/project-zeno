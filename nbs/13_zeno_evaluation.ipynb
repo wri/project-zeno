{
 "cells": [
  {
   "cell_type": "code",
   "execution_count": null,
   "id": "a1c2046d-de5b-41d5-8e33-2ab91597aa64",
   "metadata": {},
   "outputs": [],
   "source": [
    "from dotenv import load_dotenv"
   ]
  },
  {
   "cell_type": "code",
   "execution_count": null,
   "id": "1ad00628-81ba-4d11-b2a4-f5f0c2730a48",
   "metadata": {},
   "outputs": [],
   "source": [
    "_ = load_dotenv(\"../.env\")"
   ]
  },
  {
   "cell_type": "code",
   "execution_count": null,
   "id": "182604e8-dd18-48b1-9934-c6a6e2797165",
   "metadata": {},
   "outputs": [],
   "source": [
    "import os\n",
    "from collections import defaultdict\n",
    "\n",
    "from langfuse import Langfuse"
   ]
  },
  {
   "cell_type": "code",
   "execution_count": null,
   "id": "c9f4a87d-3568-4378-bcad-f1c965bba44b",
   "metadata": {},
   "outputs": [],
   "source": [
    "langfuse = Langfuse(\n",
    "    secret_key=os.getenv(\"LANGFUSE_SECRET_KEY\"),\n",
    "    public_key=os.getenv(\"LANGFUSE_PUBLIC_KEY\"),\n",
    "    host=os.getenv(\"LANGFUSE_HOST\"),\n",
    ")"
   ]
  },
  {
   "cell_type": "code",
   "execution_count": null,
   "id": "f9b0ad6b-abea-4e2f-9737-3e91c83b2889",
   "metadata": {},
   "outputs": [],
   "source": [
    "traces = langfuse.fetch_traces(user_id=\"srm\", tags=[\"kba-test\", \"2025-05-20\"])"
   ]
  },
  {
   "cell_type": "code",
   "execution_count": null,
   "id": "84ac6913-2017-496d-94ef-a610f950f095",
   "metadata": {},
   "outputs": [],
   "source": [
    "traces.meta"
   ]
  },
  {
   "cell_type": "code",
   "execution_count": null,
   "id": "061682da-180d-4e91-b6e3-056f8b9ae449",
   "metadata": {},
   "outputs": [],
   "source": [
    "def extract_tool_call_details(trace):\n",
    "    tool_call_details = defaultdict(dict)\n",
    "\n",
    "    for message in trace.output[\"messages\"]:\n",
    "        if isinstance(message[\"content\"], list) and message[\"type\"] == \"ai\":\n",
    "            for chunk in message[\"content\"]:\n",
    "                if chunk[\"type\"] == \"tool_use\":\n",
    "                    tool_call_details[chunk[\"name\"]][\"id\"] = chunk[\"id\"]\n",
    "                    tool_call_details[chunk[\"name\"]][\"input\"] = chunk[\"input\"]\n",
    "\n",
    "    for message in trace.output[\"messages\"]:\n",
    "        if message[\"type\"] == \"tool\":\n",
    "            for tool in tool_call_details:\n",
    "                if message[\"tool_call_id\"] == tool_call_details[tool][\"id\"]:\n",
    "                    tool_call_details[tool][\"output\"] = message[\"content\"]\n",
    "\n",
    "    return tool_call_details\n",
    "\n",
    "def score_tool_calls(trace):\n",
    "    tool_call_details = extract_tool_call_details(trace)\n",
    "    tools_called = set(tool_call_details.keys())\n",
    "    tools_not_called = set(trace.metadata[\"tools\"].split(\",\")) - tools_called\n",
    "    if len(tools_not_called):\n",
    "        return 0\n",
    "    else:\n",
    "        return 1\n",
    "\n",
    "def score_location_tool(trace):\n",
    "    tool_call_details = extract_tool_call_details(trace)\n",
    "    if \"location-tool\" in tool_call_details:\n",
    "        score_input = tool_call_details[\"location-tool\"][\"input\"] == trace.metadata[\"location_tool_input\"]\n",
    "        score_output = eval(tool_call_details[\"location-tool\"][\"output\"])[0] == trace.metadata[\"location_tool_output\"][0]\n",
    "        if score_input and score_output:\n",
    "            return True\n",
    "    return False"
   ]
  },
  {
   "cell_type": "code",
   "execution_count": null,
   "id": "33165747-46a1-4365-90aa-8b2e44fb023b",
   "metadata": {},
   "outputs": [],
   "source": [
    "for trace in traces.data:\n",
    "    tool_call_details = extract_tool_call_details(trace)\n",
    "    for k in tool_call_details:\n",
    "        print(k)\n",
    "    print(\"===\")"
   ]
  },
  {
   "cell_type": "code",
   "execution_count": null,
   "id": "b7205766-af02-4077-9438-2ebfc7d537fb",
   "metadata": {},
   "outputs": [],
   "source": [
    "for trace in traces.data:\n",
    "    langfuse.score(\n",
    "        trace_id=trace.id,\n",
    "        name=\"score_tool_calls\",\n",
    "        value=score_tool_calls(trace)\n",
    "    )\n",
    "\n",
    "    langfuse.score(\n",
    "        trace_id=trace.id,\n",
    "        name=\"score_location_tool\",\n",
    "        value=score_location_tool(trace)\n",
    "    )"
   ]
  },
  {
   "cell_type": "code",
   "execution_count": null,
   "id": "826956da-7b86-4895-b332-98aea89fcdbd",
   "metadata": {},
   "outputs": [],
   "source": []
  }
 ],
 "metadata": {
  "kernelspec": {
   "display_name": "Python 3 (ipykernel)",
   "language": "python",
   "name": "python3"
  },
  "language_info": {
   "codemirror_mode": {
    "name": "ipython",
    "version": 3
   },
   "file_extension": ".py",
   "mimetype": "text/x-python",
   "name": "python",
   "nbconvert_exporter": "python",
   "pygments_lexer": "ipython3",
   "version": "3.11.11"
  }
 },
 "nbformat": 4,
 "nbformat_minor": 5
}
