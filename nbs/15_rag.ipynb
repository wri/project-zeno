{
 "cells": [
  {
   "cell_type": "markdown",
   "id": "f4e52206",
   "metadata": {},
   "source": [
    "# RAG\n",
    "\n",
    "Date: 13 June, 2025\n",
    "\n",
    "Nomic and OpenAI Embeddings"
   ]
  },
  {
   "cell_type": "code",
   "execution_count": null,
   "id": "ccf9331a",
   "metadata": {},
   "outputs": [],
   "source": [
    "from pathlib import Path\n",
    "\n",
    "import pandas as pd\n",
    "from langchain_core.documents import Document\n",
    "from langchain_core.vectorstores import InMemoryVectorStore\n",
    "from langchain_ollama import OllamaEmbeddings\n",
    "from langchain_openai import OpenAIEmbeddings"
   ]
  },
  {
   "cell_type": "code",
   "execution_count": null,
   "id": "9552eb6c",
   "metadata": {},
   "outputs": [],
   "source": [
    "data_dir = Path(\"../data\")"
   ]
  },
  {
   "cell_type": "code",
   "execution_count": null,
   "id": "39369a56",
   "metadata": {},
   "outputs": [],
   "source": [
    "zeno_data = pd.read_csv(data_dir / \"zeno_data_clean.csv\")\n",
    "zeno_data.head(2)"
   ]
  },
  {
   "cell_type": "code",
   "execution_count": null,
   "id": "984e1054",
   "metadata": {},
   "outputs": [],
   "source": [
    "nomic_embeddings = OllamaEmbeddings(model=\"nomic-embed-text\")\n",
    "openai_embeddings = OpenAIEmbeddings(model=\"text-embedding-3-large\")\n",
    "\n",
    "nomic_index = InMemoryVectorStore(nomic_embeddings)\n",
    "openai_index = InMemoryVectorStore(openai_embeddings)"
   ]
  },
  {
   "cell_type": "code",
   "execution_count": null,
   "id": "4a1e3d58",
   "metadata": {},
   "outputs": [],
   "source": [
    "zeno_docs = []\n",
    "\n",
    "for idx, row in zeno_data[:-1].iterrows():\n",
    "    content = {\n",
    "        \"DATA_LAYER\": row[\"data_layer\"],\n",
    "        \"DESCRIPTION\": row[\"description\"],\n",
    "        \"CONTEXTUAL_LAYERS\": row[\"context_layer\"],\n",
    "        \"DATE\": row[\"date\"],\n",
    "        \"VARIABLES\": row[\"variables\"]\n",
    "    }\n",
    "\n",
    "    formatted_content = \"\\n\\n\".join([f\"{key}\\n{value}\" for key, value in content.items() if pd.notna(value)])\n",
    "    zeno_docs.append(\n",
    "        Document(\n",
    "            id=row[\"dataset_id\"],\n",
    "            page_content=formatted_content,\n",
    "            metadata={\"data_layer\": row[\"data_layer\"], \"source\": row[\"source\"], \"tile_url\": row[\"tile_url\"]},\n",
    "        )\n",
    "    )"
   ]
  },
  {
   "cell_type": "code",
   "execution_count": null,
   "id": "597bc2c4",
   "metadata": {},
   "outputs": [],
   "source": [
    "zeno_docs[0]"
   ]
  },
  {
   "cell_type": "code",
   "execution_count": null,
   "id": "87d37f35",
   "metadata": {},
   "outputs": [],
   "source": [
    "ids = nomic_index.add_documents(documents=zeno_docs)"
   ]
  },
  {
   "cell_type": "code",
   "execution_count": null,
   "id": "47f27723",
   "metadata": {},
   "outputs": [],
   "source": [
    "ids = openai_index.add_documents(documents=zeno_docs)"
   ]
  },
  {
   "cell_type": "code",
   "execution_count": null,
   "id": "e4e74c4e",
   "metadata": {},
   "outputs": [],
   "source": [
    "# Save & load_again\n",
    "nomic_index.dump(data_dir/\"zeno-docs-nomic-index\")\n",
    "nomic_index = InMemoryVectorStore.load(data_dir / \"zeno-docs-nomic-index\", embedding=nomic_embeddings)"
   ]
  },
  {
   "cell_type": "code",
   "execution_count": null,
   "id": "06572d84",
   "metadata": {},
   "outputs": [],
   "source": [
    "# Save & load_again\n",
    "openai_index.dump(data_dir/\"zeno-docs-openai-index\")\n",
    "openai_index = InMemoryVectorStore.load(data_dir / \"zeno-docs-openai-index\", embedding=openai_embeddings)"
   ]
  },
  {
   "cell_type": "code",
   "execution_count": null,
   "id": "5a13af4e",
   "metadata": {},
   "outputs": [],
   "source": [
    "queries = [\n",
    "    \"What percent of 2000 forest did Kalimantan Barat lose from 2001 through 2024?\",\n",
    "    \"What percent of Johor was tree cover in 2000?\",\n",
    "    \"Which year recorded more alerts within Protected Areas in Ucayali, Peru? 2023 or 2024?\",\n",
    "    \"Since 2001, do the forests within Gomba's KBAs act as a net carbon source or a net carbon sink, and by how much?\",\n",
    "    \"Has Chai Nat or Krabi in Thailand has had the most forest-related annual carbon emissions since 2001?\"\n",
    "    \"I'm researching carbon sequestration in Indonesian forests. Specifically, for Key Biodiversity Areas (KBAs), how much carbon has been absorbed from the atmosphere between 2000 and 2024?\",\n",
    "    \"How many deforestation alerts were reported in protected areas of the Republic of the Congo april 2024 - april 2025?\",\n",
    "    \"which country had the most deforestation in 2018\"\n",
    "]"
   ]
  },
  {
   "cell_type": "code",
   "execution_count": null,
   "id": "28235968",
   "metadata": {},
   "outputs": [],
   "source": [
    "nomic_retriever = nomic_index.as_retriever(\n",
    "    search_type=\"similarity\",\n",
    "    search_kwargs={\"k\": 3},\n",
    ")"
   ]
  },
  {
   "cell_type": "code",
   "execution_count": null,
   "id": "0959a1a3",
   "metadata": {},
   "outputs": [],
   "source": [
    "openai_retriever = openai_index.as_retriever(\n",
    "    search_type=\"similarity\",\n",
    "    search_kwargs={\"k\": 3},\n",
    ")"
   ]
  },
  {
   "cell_type": "code",
   "execution_count": null,
   "id": "5b97c505",
   "metadata": {},
   "outputs": [],
   "source": [
    "r = nomic_retriever.batch(queries[:2])"
   ]
  },
  {
   "cell_type": "code",
   "execution_count": null,
   "id": "cc3abc2f",
   "metadata": {},
   "outputs": [],
   "source": [
    "r[1]"
   ]
  },
  {
   "cell_type": "markdown",
   "id": "41914434",
   "metadata": {},
   "source": [
    "# ColBERT"
   ]
  },
  {
   "cell_type": "code",
   "execution_count": null,
   "id": "c91afc5a",
   "metadata": {},
   "outputs": [],
   "source": [
    "from pylate import indexes, models, retrieve"
   ]
  },
  {
   "cell_type": "code",
   "execution_count": null,
   "id": "098efd5e",
   "metadata": {},
   "outputs": [],
   "source": [
    "model = models.ColBERT(model_name_or_path=\"lightonai/GTE-ModernColBERT-v1\")\n",
    "colbert_index = indexes.PLAID(\n",
    "    index_folder=data_dir / \"colbert-index\",\n",
    "    index_name=\"dataset\",\n",
    "    override=True,\n",
    ")"
   ]
  },
  {
   "cell_type": "code",
   "execution_count": null,
   "id": "31d0ba32",
   "metadata": {},
   "outputs": [],
   "source": [
    "zeno_docs[0]"
   ]
  },
  {
   "cell_type": "code",
   "execution_count": null,
   "id": "495da7b9",
   "metadata": {},
   "outputs": [],
   "source": [
    "colbert_embeddings = model.encode(\n",
    "    [doc.page_content for doc in zeno_docs],\n",
    "    batch_size=4,\n",
    "    is_query=False,\n",
    "    show_progress_bar=True,\n",
    ")"
   ]
  },
  {
   "cell_type": "code",
   "execution_count": null,
   "id": "302b6e3d",
   "metadata": {},
   "outputs": [],
   "source": [
    "colbert_index.add_documents(\n",
    "    documents_ids=[doc.id for doc in zeno_docs],\n",
    "    documents_embeddings=colbert_embeddings,\n",
    ");"
   ]
  },
  {
   "cell_type": "code",
   "execution_count": null,
   "id": "4ab242db",
   "metadata": {},
   "outputs": [],
   "source": [
    "colbert_index = indexes.PLAID(\n",
    "    index_folder=data_dir / \"colbert-index\",\n",
    "    index_name=\"dataset\",\n",
    ")"
   ]
  },
  {
   "cell_type": "code",
   "execution_count": null,
   "id": "afe31259",
   "metadata": {},
   "outputs": [],
   "source": [
    "colbert_retriever = retrieve.ColBERT(index=colbert_index)"
   ]
  },
  {
   "cell_type": "code",
   "execution_count": null,
   "id": "a7b80a54",
   "metadata": {},
   "outputs": [],
   "source": [
    "query_embedding = model.encode(\n",
    "    queries[-1],\n",
    "    batch_size=1,\n",
    "    is_query=True,\n",
    "    show_progress_bar=True\n",
    ")"
   ]
  },
  {
   "cell_type": "code",
   "execution_count": null,
   "id": "1b646ea8",
   "metadata": {},
   "outputs": [],
   "source": [
    "scores = colbert_retriever.retrieve(\n",
    "    queries_embeddings=query_embedding,\n",
    "    k=3,\n",
    ")"
   ]
  },
  {
   "cell_type": "code",
   "execution_count": null,
   "id": "76b760a0",
   "metadata": {},
   "outputs": [],
   "source": [
    "scores"
   ]
  },
  {
   "cell_type": "code",
   "execution_count": null,
   "id": "80be2fba",
   "metadata": {},
   "outputs": [],
   "source": [
    "user_query = \"What percent of tree cover (intact forest) did Kalimantan Barat lose from 2015 through 2018?\"\n",
    "\n",
    "def get_relevant_documents(query):\n",
    "    results = []\n",
    "    query_embedding = model.encode(query, batch_size=1, is_query=True, show_progress_bar=False)\n",
    "    scores = colbert_retriever.retrieve(queries_embeddings=query_embedding, k=3)\n",
    "    for score in scores[0]:\n",
    "        results.append(zeno_data[zeno_data.dataset_id == int(score[\"id\"])].iloc[0].to_dict())\n",
    "    return results\n",
    "\n",
    "result = get_relevant_documents(user_query)"
   ]
  },
  {
   "cell_type": "code",
   "execution_count": null,
   "id": "1ced7a22",
   "metadata": {},
   "outputs": [],
   "source": [
    "result"
   ]
  },
  {
   "cell_type": "markdown",
   "id": "0c93d9c7",
   "metadata": {},
   "source": [
    "# Agents"
   ]
  },
  {
   "cell_type": "code",
   "execution_count": null,
   "id": "55f62275",
   "metadata": {},
   "outputs": [],
   "source": [
    "from langchain_anthropic import ChatAnthropic\n",
    "from langchain_core.prompts import ChatPromptTemplate"
   ]
  },
  {
   "cell_type": "code",
   "execution_count": null,
   "id": "b2afee5d",
   "metadata": {},
   "outputs": [],
   "source": [
    "sonnet = ChatAnthropic(model=\"claude-3-7-sonnet-latest\")"
   ]
  },
  {
   "cell_type": "code",
   "execution_count": null,
   "id": "bf84dfa7",
   "metadata": {},
   "outputs": [],
   "source": [
    "candidate_datasets = pd.DataFrame(result)\n",
    "candidate_datasets[[\"dataset_id\", \"data_layer\", \"description\", \"context_layer\", \"date\", \"variables\"]]\n"
   ]
  },
  {
   "cell_type": "code",
   "execution_count": null,
   "id": "1c8bff8b",
   "metadata": {},
   "outputs": [],
   "source": [
    "from pydantic import BaseModel, Field\n",
    "\n",
    "\n",
    "class DatasetOption(BaseModel):\n",
    "    id: int = Field(description=\"ID of the dataset that best matches the user query.\")\n",
    "    reason: str = Field(description=\"Short reason why the dataset is the best match.\")\n",
    "\n",
    "DATASET_SELECTION_PROMPT = ChatPromptTemplate.from_messages(\n",
    "    [\n",
    "        (\n",
    "            \"user\",\n",
    "            \"\"\"\n",
    "            Based on the query, return the ID of the dataset that can best answer the user query and provide reason why it is the best match.\n",
    "            Look at the dataset description and contextual layers they have access to that can add additional context to better answer the query - also check date & variables when required.\n",
    "\n",
    "            Candidate datasets:\n",
    "\n",
    "            {candidate_datasets}\n",
    "\n",
    "            Query:\n",
    "\n",
    "            {user_query}\n",
    "            \"\"\",\n",
    "        )\n",
    "    ]\n",
    ")\n",
    "\n",
    "DATASET_SELECTION_CHAIN = DATASET_SELECTION_PROMPT | sonnet.with_structured_output(DatasetOption)"
   ]
  },
  {
   "cell_type": "code",
   "execution_count": null,
   "id": "6df1ce0d",
   "metadata": {},
   "outputs": [],
   "source": [
    "result = DATASET_SELECTION_CHAIN.invoke({\n",
    "    \"candidate_datasets\": candidate_datasets[[\"dataset_id\", \"data_layer\", \"description\", \"context_layer\", \"date\", \"variables\"]].to_csv(index=False),\n",
    "    \"user_query\": user_query,\n",
    "})\n"
   ]
  },
  {
   "cell_type": "code",
   "execution_count": null,
   "id": "947e20a3",
   "metadata": {},
   "outputs": [],
   "source": [
    "result"
   ]
  },
  {
   "cell_type": "code",
   "execution_count": null,
   "id": "694914fd",
   "metadata": {},
   "outputs": [],
   "source": [
    "from typing import Optional\n",
    "\n",
    "\n",
    "class Dataset(BaseModel):\n",
    "    dataset_id: int\n",
    "    source: str\n",
    "    data_layer: str\n",
    "    context_layer: Optional[str] = Field(None, description=\"Pick a single context layer from the dataset\")\n",
    "    daterange: Optional[str] = None\n",
    "    threshold: Optional[int] = None\n",
    "\n",
    "DATASET_PROMPT = ChatPromptTemplate.from_messages([\n",
    "    (\"user\", \"\"\"\n",
    "    Given the user query and the dataset - extract the relevant information from the dataset to pull data from source.\n",
    "\n",
    "    Dataset: \n",
    "\n",
    "    {dataset}\n",
    "\n",
    "    User Query: \n",
    "    \n",
    "    {user_query}    \n",
    "    \"\"\"),\n",
    "    ])\n",
    "\n",
    "DATASET_CHAIN = DATASET_PROMPT | sonnet.with_structured_output(Dataset)"
   ]
  },
  {
   "cell_type": "code",
   "execution_count": null,
   "id": "06fda71f",
   "metadata": {},
   "outputs": [],
   "source": [
    "selection = DATASET_CHAIN.invoke({\n",
    "    \"user_query\": user_query,\n",
    "    \"dataset\": zeno_data[zeno_data.dataset_id == result.id].iloc[0].to_json()\n",
    "})"
   ]
  },
  {
   "cell_type": "code",
   "execution_count": null,
   "id": "da062437",
   "metadata": {},
   "outputs": [],
   "source": [
    "selection.model_dump()"
   ]
  },
  {
   "cell_type": "code",
   "execution_count": null,
   "id": "0ef22eae",
   "metadata": {},
   "outputs": [],
   "source": []
  },
  {
   "cell_type": "markdown",
   "id": "4b7186e6",
   "metadata": {},
   "source": []
  }
 ],
 "metadata": {
  "kernelspec": {
   "display_name": ".venv",
   "language": "python",
   "name": "python3"
  },
  "language_info": {
   "codemirror_mode": {
    "name": "ipython",
    "version": 3
   },
   "file_extension": ".py",
   "mimetype": "text/x-python",
   "name": "python",
   "nbconvert_exporter": "python",
   "pygments_lexer": "ipython3",
   "version": "3.11.11"
  }
 },
 "nbformat": 4,
 "nbformat_minor": 5
}
