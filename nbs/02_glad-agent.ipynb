{
 "cells": [
  {
   "cell_type": "markdown",
   "id": "0",
   "metadata": {},
   "source": [
    "Date: 11 Nov 2024"
   ]
  },
  {
   "cell_type": "code",
   "execution_count": 17,
   "id": "1",
   "metadata": {},
   "outputs": [],
   "source": [
    "import sys\n",
    "\n",
    "sys.path.append(\"..\")"
   ]
  },
  {
   "cell_type": "code",
   "execution_count": 18,
   "id": "2",
   "metadata": {},
   "outputs": [],
   "source": [
    "from dotenv import load_dotenv\n",
    "\n",
    "_ = load_dotenv(\"../.env\")"
   ]
  },
  {
   "cell_type": "code",
   "execution_count": 19,
   "id": "3",
   "metadata": {},
   "outputs": [],
   "source": [
    "from langchain_ollama import ChatOllama\n",
    "from langchain_anthropic import ChatAnthropic\n",
    "\n",
    "from src.tools.glad.weekly_alerts_tool import glad_weekly_alerts_tool\n",
    "from src.tools.location.tool import location_tool"
   ]
  },
  {
   "cell_type": "code",
   "execution_count": 20,
   "id": "4",
   "metadata": {},
   "outputs": [
    {
     "name": "stdout",
     "output_type": "stream",
     "text": [
      "NAME                       ID              SIZE      MODIFIED    \n",
      "qwen2.5:latest             845dbda0ea48    4.7 GB    5 weeks ago    \n",
      "nomic-embed-text:latest    0a109f422b47    274 MB    6 weeks ago    \n",
      "llama3.2:1b                baf6a787fdff    1.3 GB    6 weeks ago    \n",
      "llama3.2:latest            a80c4f17acd5    2.0 GB    6 weeks ago    \n"
     ]
    }
   ],
   "source": [
    "!ollama list"
   ]
  },
  {
   "cell_type": "code",
   "execution_count": 35,
   "id": "3a4ee131-322c-49f6-bf3b-226ef6979167",
   "metadata": {},
   "outputs": [
    {
     "name": "stdout",
     "output_type": "stream",
     "text": [
      "NAME                       ID              SIZE      MODIFIED    \n",
      "qwen2.5:latest             845dbda0ea48    4.7 GB    5 weeks ago    \n",
      "nomic-embed-text:latest    0a109f422b47    274 MB    6 weeks ago    \n",
      "llama3.2:1b                baf6a787fdff    1.3 GB    6 weeks ago    \n",
      "llama3.2:latest            a80c4f17acd5    2.0 GB    6 weeks ago    \n"
     ]
    }
   ],
   "source": [
    "!ollama list"
   ]
  },
  {
   "cell_type": "code",
   "execution_count": 36,
   "id": "5",
   "metadata": {},
   "outputs": [],
   "source": [
    "tools = [location_tool, glad_weekly_alerts_tool]\n",
    "llm = ChatOllama(model=\"qwen2.5:latest\", temperature=0)\n",
    "# llm = ChatAnthropic(model=\"claude-3-5-sonnet-20241022\", temperature=0)\n",
    "llm_with_tools = llm.bind_tools(tools)"
   ]
  },
  {
   "cell_type": "code",
   "execution_count": 37,
   "id": "6",
   "metadata": {},
   "outputs": [],
   "source": [
    "from IPython.display import Image, display\n",
    "from langchain_core.messages import HumanMessage, SystemMessage\n",
    "from langgraph.graph import START, MessagesState, StateGraph\n",
    "from langgraph.prebuilt import ToolNode, tools_condition\n",
    "\n",
    "sys_msg = SystemMessage(content=\"\"\"You are a helpful assistant tasked with answering the user queries for WRI data API.\n",
    "Use the `location-tool` to get iso, adm1 & adm2 of any region or place.\n",
    "Use the `glad-weekly-alerts-tool` to get forest fire information for a particular year. Think through the solution step-by-step first and then execute.\n",
    "\n",
    "For eg: If the query is \"Find forest fires in Milan for the year 2024\"\n",
    "Steps\n",
    "1. Use the `location_tool` to get iso, adm1, adm2 for place `Milan` by passing `query=Milan`\n",
    "2. Pass iso, adm1, adm2 along with year `2024` as args to `glad-weekly-alerts-tool` to get information about forest fire alerts.\n",
    "\"\"\")"
   ]
  },
  {
   "cell_type": "code",
   "execution_count": 38,
   "id": "7",
   "metadata": {},
   "outputs": [],
   "source": [
    "def assistant(state: MessagesState):\n",
    "    return {\"messages\": [llm_with_tools.invoke([sys_msg] + state[\"messages\"])]}"
   ]
  },
  {
   "cell_type": "code",
   "execution_count": 39,
   "id": "8",
   "metadata": {},
   "outputs": [
    {
     "data": {
      "image/jpeg": "[encoded data removed]",
      "text/plain": [
       "<IPython.core.display.Image object>"
      ]
     },
     "metadata": {},
     "output_type": "display_data"
    }
   ],
   "source": [
    "# Graph\n",
    "builder = StateGraph(MessagesState)\n",
    "\n",
    "# Define nodes: these do the work\n",
    "builder.add_node(\"assistant\", assistant)\n",
    "builder.add_node(\"tools\", ToolNode(tools))\n",
    "\n",
    "# Define edges: these determine how the control flow moves\n",
    "builder.add_edge(START, \"assistant\")\n",
    "builder.add_conditional_edges(\n",
    "    \"assistant\",\n",
    "    tools_condition,\n",
    ")\n",
    "builder.add_edge(\"tools\", \"assistant\")\n",
    "react_graph = builder.compile()\n",
    "\n",
    "# Show\n",
    "display(Image(react_graph.get_graph(xray=True).draw_mermaid_png()))"
   ]
  },
  {
   "cell_type": "code",
   "execution_count": 40,
   "id": "9",
   "metadata": {},
   "outputs": [],
   "source": [
    "messages = [HumanMessage(content=\"find forest fires in Ihorombe for the year 2021\")]\n",
    "messages = react_graph.invoke({\"messages\": messages})"
   ]
  },
  {
   "cell_type": "code",
   "execution_count": 41,
   "id": "10",
   "metadata": {},
   "outputs": [
    {
     "name": "stdout",
     "output_type": "stream",
     "text": [
      "================================\u001b[1m Human Message \u001b[0m=================================\n",
      "\n",
      "find forest fires in Ihorombe for the year 2021\n",
      "==================================\u001b[1m Ai Message \u001b[0m==================================\n",
      "Tool Calls:\n",
      "  location-tool (4a6cb8a7-3786-490c-b729-ea9bd9b97ba0)\n",
      " Call ID: 4a6cb8a7-3786-490c-b729-ea9bd9b97ba0\n",
      "  Args:\n",
      "    query: Ihorombe\n",
      "=================================\u001b[1m Tool Message \u001b[0m=================================\n",
      "Name: location-tool\n",
      "\n",
      "[{\"iso\": \"MDG\", \"adm1\": 3, \"adm2\": 4, \"names\": {\"iso\": \"Madagascar\", \"adm1\": \"Fianarantsoa\", \"adm2\": \"Ihorombe\"}, \"score\": 100, \"match_type\": \"adm2\"}]\n",
      "==================================\u001b[1m Ai Message \u001b[0m==================================\n",
      "Tool Calls:\n",
      "  glad-weekly-alerts-tool (c0887400-001d-4b1a-8697-e1138d5850f4)\n",
      " Call ID: c0887400-001d-4b1a-8697-e1138d5850f4\n",
      "  Args:\n",
      "    adm1: 3\n",
      "    adm2: 4\n",
      "    iso: MDG\n",
      "    year: 2021\n",
      "=================================\u001b[1m Tool Message \u001b[0m=================================\n",
      "Name: glad-weekly-alerts-tool\n",
      "\n",
      "Error: 2 validation errors for GladAlertsInput\n",
      "adm1\n",
      "  Input should be a valid string [type=string_type, input_value=3, input_type=int]\n",
      "    For further information visit https://errors.pydantic.dev/2.9/v/string_type\n",
      "adm2\n",
      "  Input should be a valid string [type=string_type, input_value=4, input_type=int]\n",
      "    For further information visit https://errors.pydantic.dev/2.9/v/string_type\n",
      " Please fix your mistakes.\n",
      "==================================\u001b[1m Ai Message \u001b[0m==================================\n",
      "Tool Calls:\n",
      "  glad-weekly-alerts-tool (08ff7c6c-b693-4b4b-82e7-587f8a92edc0)\n",
      " Call ID: 08ff7c6c-b693-4b4b-82e7-587f8a92edc0\n",
      "  Args:\n",
      "    adm1: 3\n",
      "    adm2: 4\n",
      "    iso: MDG\n",
      "    year: 2021\n",
      "=================================\u001b[1m Tool Message \u001b[0m=================================\n",
      "Name: glad-weekly-alerts-tool\n",
      "\n",
      "GLAD Alerts Summary:\n",
      "Location: MDG, ADM1: 3, ADM2: 4\n",
      "Year: 2021\n",
      "Total Alerts: 11,386\n",
      "Total Area Affected: 810.10 hectares\n",
      "\n",
      "Weekly Breakdown:\n",
      "Week 1: 467 alerts, 33.25 ha\n",
      "Week 2: 401 alerts, 28.53 ha\n",
      "Week 3: 142 alerts, 10.10 ha\n",
      "Week 4: 288 alerts, 20.44 ha\n",
      "Week 5: 333 alerts, 23.70 ha\n",
      "Week 6: 73 alerts, 5.18 ha\n",
      "Week 8: 170 alerts, 12.11 ha\n",
      "Week 9: 101 alerts, 7.19 ha\n",
      "Week 10: 114 alerts, 8.11 ha\n",
      "Week 11: 176 alerts, 12.52 ha\n",
      "Week 12: 161 alerts, 11.43 ha\n",
      "Week 13: 153 alerts, 10.85 ha\n",
      "Week 14: 77 alerts, 5.47 ha\n",
      "Week 15: 40 alerts, 2.83 ha\n",
      "Week 16: 68 alerts, 4.83 ha\n",
      "Week 17: 69 alerts, 4.91 ha\n",
      "Week 18: 144 alerts, 10.22 ha\n",
      "Week 19: 60 alerts, 4.27 ha\n",
      "Week 20: 66 alerts, 4.69 ha\n",
      "Week 21: 182 alerts, 12.93 ha\n",
      "Week 22: 21 alerts, 1.49 ha\n",
      "Week 23: 3 alerts, 0.21 ha\n",
      "Week 24: 111 alerts, 7.89 ha\n",
      "Week 25: 103 alerts, 7.32 ha\n",
      "Week 26: 81 alerts, 5.75 ha\n",
      "Week 27: 8 alerts, 0.57 ha\n",
      "Week 28: 50 alerts, 3.56 ha\n",
      "Week 29: 59 alerts, 4.19 ha\n",
      "Week 30: 9 alerts, 0.64 ha\n",
      "Week 31: 90 alerts, 6.40 ha\n",
      "Week 32: 298 alerts, 21.17 ha\n",
      "Week 33: 166 alerts, 11.82 ha\n",
      "Week 34: 63 alerts, 4.48 ha\n",
      "Week 35: 457 alerts, 32.51 ha\n",
      "Week 36: 177 alerts, 12.57 ha\n",
      "Week 37: 544 alerts, 38.68 ha\n",
      "Week 38: 68 alerts, 4.85 ha\n",
      "Week 39: 1,824 alerts, 129.91 ha\n",
      "Week 40: 281 alerts, 20.01 ha\n",
      "Week 41: 1,428 alerts, 101.66 ha\n",
      "Week 42: 414 alerts, 29.44 ha\n",
      "Week 43: 583 alerts, 41.47 ha\n",
      "Week 44: 422 alerts, 30.04 ha\n",
      "Week 45: 97 alerts, 6.91 ha\n",
      "Week 46: 66 alerts, 4.70 ha\n",
      "Week 47: 678 alerts, 48.29 ha\n",
      "==================================\u001b[1m Ai Message \u001b[0m==================================\n",
      "\n",
      "Based on the data from 2021 in Ihorombe, Madagascar:\n",
      "\n",
      "- A total of 11,386 forest fire alerts were recorded.\n",
      "- The total area affected by these fires was 810.10 hectares.\n",
      "\n",
      "Here is a breakdown of weekly alerts and areas affected:\n",
      "- Week 1: 467 alerts, 33.25 ha\n",
      "- Week 2: 401 alerts, 28.53 ha\n",
      "- Week 3: 142 alerts, 10.10 ha\n",
      "- Week 4: 288 alerts, 20.44 ha\n",
      "- Week 5: 333 alerts, 23.70 ha\n",
      "- Week 6: 73 alerts, 5.18 ha\n",
      "- Week 8: 170 alerts, 12.11 ha\n",
      "- Week 9: 101 alerts, 7.19 ha\n",
      "- Week 10: 114 alerts, 8.11 ha\n",
      "- Week 11: 176 alerts, 12.52 ha\n",
      "- Week 12: 161 alerts, 11.43 ha\n",
      "- Week 13: 153 alerts, 10.85 ha\n",
      "- Week 14: 77 alerts, 5.47 ha\n",
      "- Week 15: 40 alerts, 2.83 ha\n",
      "- Week 16: 68 alerts, 4.83 ha\n",
      "- Week 17: 69 alerts, 4.91 ha\n",
      "- Week 18: 144 alerts, 10.22 ha\n",
      "- Week 19: 60 alerts, 4.27 ha\n",
      "- Week 20: 66 alerts, 4.69 ha\n",
      "- Week 21: 182 alerts, 12.93 ha\n",
      "- Week 22: 21 alerts, 1.49 ha\n",
      "- Week 23: 3 alerts, 0.21 ha\n",
      "- Week 24: 111 alerts, 7.89 ha\n",
      "- Week 25: 103 alerts, 7.32 ha\n",
      "- Week 26: 81 alerts, 5.75 ha\n",
      "- Week 27: 8 alerts, 0.57 ha\n",
      "- Week 28: 50 alerts, 3.56 ha\n",
      "- Week 29: 59 alerts, 4.19 ha\n",
      "- Week 30: 9 alerts, 0.64 ha\n",
      "- Week 31: 90 alerts, 6.40 ha\n",
      "- Week 32: 298 alerts, 21.17 ha\n",
      "- Week 33: 166 alerts, 11.82 ha\n",
      "- Week 34: 63 alerts, 4.48 ha\n",
      "- Week 35: 457 alerts, 32.51 ha\n",
      "- Week 36: 177 alerts, 12.57 ha\n",
      "- Week 37: 544 alerts, 38.68 ha\n",
      "- Week 38: 68 alerts, 4.85 ha\n",
      "- Week 39: 1,824 alerts, 129.91 ha\n",
      "- Week 40: 281 alerts, 20.01 ha\n",
      "- Week 41: 1,428 alerts, 101.66 ha\n",
      "- Week 42: 414 alerts, 29.44 ha\n",
      "- Week 43: 583 alerts, 41.47 ha\n",
      "- Week 44: 422 alerts, 30.04 ha\n",
      "- Week 45: 97 alerts, 6.91 ha\n",
      "- Week 46: 66 alerts, 4.70 ha\n",
      "- Week 47: 678 alerts, 48.29 ha\n",
      "\n",
      "This data shows a significant increase in the number of alerts and affected area during certain weeks, particularly around week 39 to week 47. If you need more specific information or analysis on any particular period, please let me know!\n"
     ]
    }
   ],
   "source": [
    "for m in messages[\"messages\"]:\n",
    "    m.pretty_print()"
   ]
  },
  {
   "cell_type": "code",
   "execution_count": null,
   "id": "11",
   "metadata": {},
   "outputs": [],
   "source": []
  }
 ],
 "metadata": {
  "kernelspec": {
   "display_name": "Python 3 (ipykernel)",
   "language": "python",
   "name": "python3"
  },
  "language_info": {
   "codemirror_mode": {
    "name": "ipython",
    "version": 3
   },
   "file_extension": ".py",
   "mimetype": "text/x-python",
   "name": "python",
   "nbconvert_exporter": "python",
   "pygments_lexer": "ipython3",
   "version": "3.11.10"
  }
 },
 "nbformat": 4,
 "nbformat_minor": 5
}
