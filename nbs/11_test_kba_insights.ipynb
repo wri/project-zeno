{
 "cells": [
  {
   "cell_type": "markdown",
   "id": "c90b6ecc-8aa8-4293-a65a-cd5fe78e6023",
   "metadata": {},
   "source": [
    "# Prepare KBA table"
   ]
  },
  {
   "cell_type": "code",
   "execution_count": 5,
   "id": "2a944dea-d0b5-4c8e-a22e-a15679bde198",
   "metadata": {},
   "outputs": [
    {
     "name": "stdout",
     "output_type": "stream",
     "text": [
      "kba_data_20250110.csv kba_metadata.csv      \u001b[1m\u001b[36mkbas_shpfile\u001b[m\u001b[m\n"
     ]
    }
   ],
   "source": [
    "DATAPATH = \"./data\"\n",
    "!ls $DATAPATH"
   ]
  },
  {
   "cell_type": "code",
   "execution_count": 29,
   "id": "2ca1afa7-9b68-447d-9b99-1b3fdc1f27ef",
   "metadata": {},
   "outputs": [
    {
     "name": "stderr",
     "output_type": "stream",
     "text": [
      "/var/folders/dg/hhtfjdxx6xb2xpz0zmy26rbm0000gn/T/ipykernel_72037/3998069609.py:23: DtypeWarning: Columns (14,19,20,23,24,49) have mixed types. Specify dtype option on import or set low_memory=False.\n",
      "  df_kba_meta = pd.read_csv(f\"{DATAPATH}/kba_metadata.csv\")[column_whitelist]\n"
     ]
    },
    {
     "data": {
      "text/html": [
       "<div>\n",
       "<style scoped>\n",
       "    .dataframe tbody tr th:only-of-type {\n",
       "        vertical-align: middle;\n",
       "    }\n",
       "\n",
       "    .dataframe tbody tr th {\n",
       "        vertical-align: top;\n",
       "    }\n",
       "\n",
       "    .dataframe thead th {\n",
       "        text-align: right;\n",
       "    }\n",
       "</style>\n",
       "<table border=\"1\" class=\"dataframe\">\n",
       "  <thead>\n",
       "    <tr style=\"text-align: right;\">\n",
       "      <th></th>\n",
       "      <th>sitecode</th>\n",
       "      <th>siteName</th>\n",
       "      <th>nationalName</th>\n",
       "      <th>regions</th>\n",
       "      <th>country</th>\n",
       "      <th>ecosystems</th>\n",
       "      <th>area(Km2)</th>\n",
       "      <th>pa/OecmCoverage(%)</th>\n",
       "      <th>siteDescription</th>\n",
       "      <th>rationaleForSiteInformation</th>\n",
       "      <th>additionalBiodiversityValues</th>\n",
       "      <th>landUseRegimesAtSite</th>\n",
       "      <th>threatsDescription</th>\n",
       "      <th>howIsTheSiteManaged</th>\n",
       "      <th>indigenousGroups</th>\n",
       "      <th>deliniationRationale</th>\n",
       "      <th>habitatDescription</th>\n",
       "    </tr>\n",
       "  </thead>\n",
       "  <tbody>\n",
       "    <tr>\n",
       "      <th>0</th>\n",
       "      <td>8000</td>\n",
       "      <td>Darqad</td>\n",
       "      <td>Darqad</td>\n",
       "      <td>Central Asia</td>\n",
       "      <td>Afghanistan</td>\n",
       "      <td>freshwater, terrestrial</td>\n",
       "      <td>564.950113</td>\n",
       "      <td>94.98</td>\n",
       "      <td>Lowland flood-plains of the Amu Darya (Oxus) r...</td>\n",
       "      <td>This site qualifies as a Key Biodiversity Area...</td>\n",
       "      <td>See box for key species. The site is virtually...</td>\n",
       "      <td>agriculture | forestry | hunting | rangeland/p...</td>\n",
       "      <td>Although formerly declared a Royal Hunting Pre...</td>\n",
       "      <td>NaN</td>\n",
       "      <td>NaN</td>\n",
       "      <td>NaN</td>\n",
       "      <td>NaN</td>\n",
       "    </tr>\n",
       "    <tr>\n",
       "      <th>1</th>\n",
       "      <td>8001</td>\n",
       "      <td>Imam Sahib</td>\n",
       "      <td>Imam Sahib</td>\n",
       "      <td>Central Asia</td>\n",
       "      <td>Afghanistan</td>\n",
       "      <td>freshwater, terrestrial</td>\n",
       "      <td>342.531504</td>\n",
       "      <td>93.48</td>\n",
       "      <td>Lowland flood-plains of the Amu Darya (Oxus) r...</td>\n",
       "      <td>This site qualifies as a Key Biodiversity Area...</td>\n",
       "      <td>Virtually unstudied ornithologically but, toge...</td>\n",
       "      <td>agriculture | forestry | hunting | rangeland/p...</td>\n",
       "      <td>Although formerly declared a Royal Hunting Pre...</td>\n",
       "      <td>NaN</td>\n",
       "      <td>NaN</td>\n",
       "      <td>NaN</td>\n",
       "      <td>NaN</td>\n",
       "    </tr>\n",
       "    <tr>\n",
       "      <th>2</th>\n",
       "      <td>8002</td>\n",
       "      <td>Big Pamir</td>\n",
       "      <td>Pamir-i-Buzurg</td>\n",
       "      <td>Central Asia</td>\n",
       "      <td>Afghanistan</td>\n",
       "      <td>terrestrial</td>\n",
       "      <td>823.122009</td>\n",
       "      <td>99.91</td>\n",
       "      <td>Spectacular, rugged, barren mountains in the n...</td>\n",
       "      <td>This site qualifies as a Key Biodiversity Area...</td>\n",
       "      <td>The precise status and the sizes of population...</td>\n",
       "      <td>hunting | nature conservation and research (10...</td>\n",
       "      <td>Designated as a reserve on account of its popu...</td>\n",
       "      <td>NaN</td>\n",
       "      <td>NaN</td>\n",
       "      <td>NaN</td>\n",
       "      <td>NaN</td>\n",
       "    </tr>\n",
       "    <tr>\n",
       "      <th>3</th>\n",
       "      <td>8003</td>\n",
       "      <td>Small Pamir</td>\n",
       "      <td>Small Pamir</td>\n",
       "      <td>Central Asia</td>\n",
       "      <td>Afghanistan</td>\n",
       "      <td>terrestrial</td>\n",
       "      <td>3836.557688</td>\n",
       "      <td>98.53</td>\n",
       "      <td>This area forms the eastern tip of the Wakhan ...</td>\n",
       "      <td>This site qualifies as a Key Biodiversity Area...</td>\n",
       "      <td>Zor Kol and Chaqmatin lake are particularly im...</td>\n",
       "      <td>agriculture | hunting | rangeland/pastureland</td>\n",
       "      <td>No formal conservation measures have been take...</td>\n",
       "      <td>NaN</td>\n",
       "      <td>NaN</td>\n",
       "      <td>NaN</td>\n",
       "      <td>NaN</td>\n",
       "    </tr>\n",
       "    <tr>\n",
       "      <th>4</th>\n",
       "      <td>8004</td>\n",
       "      <td>Salang Kotal</td>\n",
       "      <td>Salang Kotal</td>\n",
       "      <td>Central Asia</td>\n",
       "      <td>Afghanistan</td>\n",
       "      <td>terrestrial</td>\n",
       "      <td>65.043703</td>\n",
       "      <td>NaN</td>\n",
       "      <td>Ten kilometres of valley north from Salang Kot...</td>\n",
       "      <td>This site qualifies as a Key Biodiversity Area...</td>\n",
       "      <td>An easily accessible area with an excellent di...</td>\n",
       "      <td>agriculture | hunting | rangeland/pastureland ...</td>\n",
       "      <td>No formal conservation measures are known to h...</td>\n",
       "      <td>NaN</td>\n",
       "      <td>NaN</td>\n",
       "      <td>NaN</td>\n",
       "      <td>NaN</td>\n",
       "    </tr>\n",
       "  </tbody>\n",
       "</table>\n",
       "</div>"
      ],
      "text/plain": [
       "   sitecode      siteName    nationalName       regions      country  \\\n",
       "0      8000        Darqad          Darqad  Central Asia  Afghanistan   \n",
       "1      8001    Imam Sahib      Imam Sahib  Central Asia  Afghanistan   \n",
       "2      8002     Big Pamir  Pamir-i-Buzurg  Central Asia  Afghanistan   \n",
       "3      8003   Small Pamir     Small Pamir  Central Asia  Afghanistan   \n",
       "4      8004  Salang Kotal    Salang Kotal  Central Asia  Afghanistan   \n",
       "\n",
       "                ecosystems    area(Km2)  pa/OecmCoverage(%)  \\\n",
       "0  freshwater, terrestrial   564.950113               94.98   \n",
       "1  freshwater, terrestrial   342.531504               93.48   \n",
       "2              terrestrial   823.122009               99.91   \n",
       "3              terrestrial  3836.557688               98.53   \n",
       "4              terrestrial    65.043703                 NaN   \n",
       "\n",
       "                                     siteDescription  \\\n",
       "0  Lowland flood-plains of the Amu Darya (Oxus) r...   \n",
       "1  Lowland flood-plains of the Amu Darya (Oxus) r...   \n",
       "2  Spectacular, rugged, barren mountains in the n...   \n",
       "3  This area forms the eastern tip of the Wakhan ...   \n",
       "4  Ten kilometres of valley north from Salang Kot...   \n",
       "\n",
       "                         rationaleForSiteInformation  \\\n",
       "0  This site qualifies as a Key Biodiversity Area...   \n",
       "1  This site qualifies as a Key Biodiversity Area...   \n",
       "2  This site qualifies as a Key Biodiversity Area...   \n",
       "3  This site qualifies as a Key Biodiversity Area...   \n",
       "4  This site qualifies as a Key Biodiversity Area...   \n",
       "\n",
       "                        additionalBiodiversityValues  \\\n",
       "0  See box for key species. The site is virtually...   \n",
       "1  Virtually unstudied ornithologically but, toge...   \n",
       "2  The precise status and the sizes of population...   \n",
       "3  Zor Kol and Chaqmatin lake are particularly im...   \n",
       "4  An easily accessible area with an excellent di...   \n",
       "\n",
       "                                landUseRegimesAtSite  \\\n",
       "0  agriculture | forestry | hunting | rangeland/p...   \n",
       "1  agriculture | forestry | hunting | rangeland/p...   \n",
       "2  hunting | nature conservation and research (10...   \n",
       "3      agriculture | hunting | rangeland/pastureland   \n",
       "4  agriculture | hunting | rangeland/pastureland ...   \n",
       "\n",
       "                                  threatsDescription howIsTheSiteManaged  \\\n",
       "0  Although formerly declared a Royal Hunting Pre...                 NaN   \n",
       "1  Although formerly declared a Royal Hunting Pre...                 NaN   \n",
       "2  Designated as a reserve on account of its popu...                 NaN   \n",
       "3  No formal conservation measures have been take...                 NaN   \n",
       "4  No formal conservation measures are known to h...                 NaN   \n",
       "\n",
       "  indigenousGroups deliniationRationale habitatDescription  \n",
       "0              NaN                  NaN                NaN  \n",
       "1              NaN                  NaN                NaN  \n",
       "2              NaN                  NaN                NaN  \n",
       "3              NaN                  NaN                NaN  \n",
       "4              NaN                  NaN                NaN  "
      ]
     },
     "execution_count": 29,
     "metadata": {},
     "output_type": "execute_result"
    }
   ],
   "source": [
    "import pandas as pd\n",
    "\n",
    "column_whitelist = [\n",
    "    \"sitecode\",\n",
    "    \"siteName\",\n",
    "    \"nationalName\",\n",
    "    \"regions\",\n",
    "    \"country\",\n",
    "    \"ecosystems\",\n",
    "    \"area(Km2)\",\n",
    "    \"pa/OecmCoverage(%)\",\n",
    "    \"siteDescription\",\n",
    "    \"rationaleForSiteInformation\",\n",
    "    \"additionalBiodiversityValues\",\n",
    "    \"landUseRegimesAtSite\",\n",
    "    \"threatsDescription\",\n",
    "    \"howIsTheSiteManaged\",\n",
    "    \"indigenousGroups\",\n",
    "    \"deliniationRationale\",\n",
    "    \"habitatDescription\"\n",
    "]\n",
    "\n",
    "df_kba_meta = pd.read_csv(f\"{DATAPATH}/kba_metadata.csv\")[column_whitelist]\n",
    "df_kba_meta.head()"
   ]
  },
  {
   "cell_type": "code",
   "execution_count": 30,
   "id": "ad66555b-cb8f-4f90-b1ad-e545b9b06973",
   "metadata": {},
   "outputs": [
    {
     "data": {
      "text/html": [
       "<div>\n",
       "<style scoped>\n",
       "    .dataframe tbody tr th:only-of-type {\n",
       "        vertical-align: middle;\n",
       "    }\n",
       "\n",
       "    .dataframe tbody tr th {\n",
       "        vertical-align: top;\n",
       "    }\n",
       "\n",
       "    .dataframe thead th {\n",
       "        text-align: right;\n",
       "    }\n",
       "</style>\n",
       "<table border=\"1\" class=\"dataframe\">\n",
       "  <thead>\n",
       "    <tr style=\"text-align: right;\">\n",
       "      <th></th>\n",
       "      <th>sitecode</th>\n",
       "      <th>siteName</th>\n",
       "      <th>nationalName</th>\n",
       "      <th>regions</th>\n",
       "      <th>country</th>\n",
       "      <th>ecosystems</th>\n",
       "      <th>area(Km2)</th>\n",
       "      <th>pa/OecmCoverage(%)</th>\n",
       "      <th>siteDescription</th>\n",
       "      <th>rationaleForSiteInformation</th>\n",
       "      <th>additionalBiodiversityValues</th>\n",
       "      <th>landUseRegimesAtSite</th>\n",
       "      <th>threatsDescription</th>\n",
       "      <th>howIsTheSiteManaged</th>\n",
       "      <th>indigenousGroups</th>\n",
       "      <th>deliniationRationale</th>\n",
       "      <th>habitatDescription</th>\n",
       "      <th>non_empty_fields_count</th>\n",
       "      <th>total_characters</th>\n",
       "    </tr>\n",
       "  </thead>\n",
       "  <tbody>\n",
       "    <tr>\n",
       "      <th>0</th>\n",
       "      <td>8000</td>\n",
       "      <td>Darqad</td>\n",
       "      <td>Darqad</td>\n",
       "      <td>Central Asia</td>\n",
       "      <td>Afghanistan</td>\n",
       "      <td>freshwater, terrestrial</td>\n",
       "      <td>564.950113</td>\n",
       "      <td>94.98</td>\n",
       "      <td>Lowland flood-plains of the Amu Darya (Oxus) r...</td>\n",
       "      <td>This site qualifies as a Key Biodiversity Area...</td>\n",
       "      <td>See box for key species. The site is virtually...</td>\n",
       "      <td>agriculture | forestry | hunting | rangeland/p...</td>\n",
       "      <td>Although formerly declared a Royal Hunting Pre...</td>\n",
       "      <td>NaN</td>\n",
       "      <td>NaN</td>\n",
       "      <td>NaN</td>\n",
       "      <td>NaN</td>\n",
       "      <td>5</td>\n",
       "      <td>2714</td>\n",
       "    </tr>\n",
       "    <tr>\n",
       "      <th>1</th>\n",
       "      <td>8001</td>\n",
       "      <td>Imam Sahib</td>\n",
       "      <td>Imam Sahib</td>\n",
       "      <td>Central Asia</td>\n",
       "      <td>Afghanistan</td>\n",
       "      <td>freshwater, terrestrial</td>\n",
       "      <td>342.531504</td>\n",
       "      <td>93.48</td>\n",
       "      <td>Lowland flood-plains of the Amu Darya (Oxus) r...</td>\n",
       "      <td>This site qualifies as a Key Biodiversity Area...</td>\n",
       "      <td>Virtually unstudied ornithologically but, toge...</td>\n",
       "      <td>agriculture | forestry | hunting | rangeland/p...</td>\n",
       "      <td>Although formerly declared a Royal Hunting Pre...</td>\n",
       "      <td>NaN</td>\n",
       "      <td>NaN</td>\n",
       "      <td>NaN</td>\n",
       "      <td>NaN</td>\n",
       "      <td>5</td>\n",
       "      <td>2470</td>\n",
       "    </tr>\n",
       "    <tr>\n",
       "      <th>2</th>\n",
       "      <td>8002</td>\n",
       "      <td>Big Pamir</td>\n",
       "      <td>Pamir-i-Buzurg</td>\n",
       "      <td>Central Asia</td>\n",
       "      <td>Afghanistan</td>\n",
       "      <td>terrestrial</td>\n",
       "      <td>823.122009</td>\n",
       "      <td>99.91</td>\n",
       "      <td>Spectacular, rugged, barren mountains in the n...</td>\n",
       "      <td>This site qualifies as a Key Biodiversity Area...</td>\n",
       "      <td>The precise status and the sizes of population...</td>\n",
       "      <td>hunting | nature conservation and research (10...</td>\n",
       "      <td>Designated as a reserve on account of its popu...</td>\n",
       "      <td>NaN</td>\n",
       "      <td>NaN</td>\n",
       "      <td>NaN</td>\n",
       "      <td>NaN</td>\n",
       "      <td>5</td>\n",
       "      <td>3305</td>\n",
       "    </tr>\n",
       "    <tr>\n",
       "      <th>3</th>\n",
       "      <td>8003</td>\n",
       "      <td>Small Pamir</td>\n",
       "      <td>Small Pamir</td>\n",
       "      <td>Central Asia</td>\n",
       "      <td>Afghanistan</td>\n",
       "      <td>terrestrial</td>\n",
       "      <td>3836.557688</td>\n",
       "      <td>98.53</td>\n",
       "      <td>This area forms the eastern tip of the Wakhan ...</td>\n",
       "      <td>This site qualifies as a Key Biodiversity Area...</td>\n",
       "      <td>Zor Kol and Chaqmatin lake are particularly im...</td>\n",
       "      <td>agriculture | hunting | rangeland/pastureland</td>\n",
       "      <td>No formal conservation measures have been take...</td>\n",
       "      <td>NaN</td>\n",
       "      <td>NaN</td>\n",
       "      <td>NaN</td>\n",
       "      <td>NaN</td>\n",
       "      <td>5</td>\n",
       "      <td>3697</td>\n",
       "    </tr>\n",
       "    <tr>\n",
       "      <th>4</th>\n",
       "      <td>8004</td>\n",
       "      <td>Salang Kotal</td>\n",
       "      <td>Salang Kotal</td>\n",
       "      <td>Central Asia</td>\n",
       "      <td>Afghanistan</td>\n",
       "      <td>terrestrial</td>\n",
       "      <td>65.043703</td>\n",
       "      <td>NaN</td>\n",
       "      <td>Ten kilometres of valley north from Salang Kot...</td>\n",
       "      <td>This site qualifies as a Key Biodiversity Area...</td>\n",
       "      <td>An easily accessible area with an excellent di...</td>\n",
       "      <td>agriculture | hunting | rangeland/pastureland ...</td>\n",
       "      <td>No formal conservation measures are known to h...</td>\n",
       "      <td>NaN</td>\n",
       "      <td>NaN</td>\n",
       "      <td>NaN</td>\n",
       "      <td>NaN</td>\n",
       "      <td>5</td>\n",
       "      <td>2337</td>\n",
       "    </tr>\n",
       "  </tbody>\n",
       "</table>\n",
       "</div>"
      ],
      "text/plain": [
       "   sitecode      siteName    nationalName       regions      country  \\\n",
       "0      8000        Darqad          Darqad  Central Asia  Afghanistan   \n",
       "1      8001    Imam Sahib      Imam Sahib  Central Asia  Afghanistan   \n",
       "2      8002     Big Pamir  Pamir-i-Buzurg  Central Asia  Afghanistan   \n",
       "3      8003   Small Pamir     Small Pamir  Central Asia  Afghanistan   \n",
       "4      8004  Salang Kotal    Salang Kotal  Central Asia  Afghanistan   \n",
       "\n",
       "                ecosystems    area(Km2)  pa/OecmCoverage(%)  \\\n",
       "0  freshwater, terrestrial   564.950113               94.98   \n",
       "1  freshwater, terrestrial   342.531504               93.48   \n",
       "2              terrestrial   823.122009               99.91   \n",
       "3              terrestrial  3836.557688               98.53   \n",
       "4              terrestrial    65.043703                 NaN   \n",
       "\n",
       "                                     siteDescription  \\\n",
       "0  Lowland flood-plains of the Amu Darya (Oxus) r...   \n",
       "1  Lowland flood-plains of the Amu Darya (Oxus) r...   \n",
       "2  Spectacular, rugged, barren mountains in the n...   \n",
       "3  This area forms the eastern tip of the Wakhan ...   \n",
       "4  Ten kilometres of valley north from Salang Kot...   \n",
       "\n",
       "                         rationaleForSiteInformation  \\\n",
       "0  This site qualifies as a Key Biodiversity Area...   \n",
       "1  This site qualifies as a Key Biodiversity Area...   \n",
       "2  This site qualifies as a Key Biodiversity Area...   \n",
       "3  This site qualifies as a Key Biodiversity Area...   \n",
       "4  This site qualifies as a Key Biodiversity Area...   \n",
       "\n",
       "                        additionalBiodiversityValues  \\\n",
       "0  See box for key species. The site is virtually...   \n",
       "1  Virtually unstudied ornithologically but, toge...   \n",
       "2  The precise status and the sizes of population...   \n",
       "3  Zor Kol and Chaqmatin lake are particularly im...   \n",
       "4  An easily accessible area with an excellent di...   \n",
       "\n",
       "                                landUseRegimesAtSite  \\\n",
       "0  agriculture | forestry | hunting | rangeland/p...   \n",
       "1  agriculture | forestry | hunting | rangeland/p...   \n",
       "2  hunting | nature conservation and research (10...   \n",
       "3      agriculture | hunting | rangeland/pastureland   \n",
       "4  agriculture | hunting | rangeland/pastureland ...   \n",
       "\n",
       "                                  threatsDescription howIsTheSiteManaged  \\\n",
       "0  Although formerly declared a Royal Hunting Pre...                 NaN   \n",
       "1  Although formerly declared a Royal Hunting Pre...                 NaN   \n",
       "2  Designated as a reserve on account of its popu...                 NaN   \n",
       "3  No formal conservation measures have been take...                 NaN   \n",
       "4  No formal conservation measures are known to h...                 NaN   \n",
       "\n",
       "  indigenousGroups deliniationRationale habitatDescription  \\\n",
       "0              NaN                  NaN                NaN   \n",
       "1              NaN                  NaN                NaN   \n",
       "2              NaN                  NaN                NaN   \n",
       "3              NaN                  NaN                NaN   \n",
       "4              NaN                  NaN                NaN   \n",
       "\n",
       "   non_empty_fields_count  total_characters  \n",
       "0                       5              2714  \n",
       "1                       5              2470  \n",
       "2                       5              3305  \n",
       "3                       5              3697  \n",
       "4                       5              2337  "
      ]
     },
     "execution_count": 30,
     "metadata": {},
     "output_type": "execute_result"
    }
   ],
   "source": [
    "# Create a new column with the total number of characters across descriptive fields\n",
    "descriptive_fields = [\n",
    "    \"siteDescription\",\n",
    "    \"rationaleForSiteInformation\",\n",
    "    \"additionalBiodiversityValues\",\n",
    "    \"landUseRegimesAtSite\",\n",
    "    \"threatsDescription\",\n",
    "    \"howIsTheSiteManaged\",\n",
    "    \"indigenousGroups\",\n",
    "    \"habitatDescription\"]\n",
    "\n",
    "\n",
    "# Add a new column that counts the number of non-empty descriptive fields\n",
    "df_kba_meta[\"non_empty_fields_count\"] = df_kba_meta[descriptive_fields].apply(\n",
    "    lambda row: sum(\n",
    "        pd.notnull(value) and str(value).strip() not in [\"-\", \"\"] for value in row\n",
    "    ),\n",
    "    axis=1\n",
    ")\n",
    "\n",
    "# Add a column for the total characters across non-empty descriptive fields\n",
    "df_kba_meta[\"total_characters\"] = df_kba_meta[descriptive_fields].apply(\n",
    "    lambda row: sum(len(str(value)) for value in row if pd.notnull(value) and str(value).strip() not in [\"-\", \"\"]),\n",
    "    axis=1\n",
    ")\n",
    "\n",
    "# Display the GeoDataFrame with the new column\n",
    "df_kba_meta.head()"
   ]
  },
  {
   "cell_type": "code",
   "execution_count": 32,
   "id": "58c738c7-56c3-442f-90c8-dca37651b106",
   "metadata": {},
   "outputs": [
    {
     "data": {
      "text/html": [
       "<div>\n",
       "<style scoped>\n",
       "    .dataframe tbody tr th:only-of-type {\n",
       "        vertical-align: middle;\n",
       "    }\n",
       "\n",
       "    .dataframe tbody tr th {\n",
       "        vertical-align: top;\n",
       "    }\n",
       "\n",
       "    .dataframe thead th {\n",
       "        text-align: right;\n",
       "    }\n",
       "</style>\n",
       "<table border=\"1\" class=\"dataframe\">\n",
       "  <thead>\n",
       "    <tr style=\"text-align: right;\">\n",
       "      <th></th>\n",
       "      <th>feature__id</th>\n",
       "      <th>SitRecID</th>\n",
       "      <th>Region</th>\n",
       "      <th>Country</th>\n",
       "      <th>ISO3</th>\n",
       "      <th>NatName</th>\n",
       "      <th>IntName</th>\n",
       "      <th>umd_tree_cover_density__threshold</th>\n",
       "      <th>umd_tree_cover_extent__year</th>\n",
       "      <th>is__umd_regional_primary_forest_2001</th>\n",
       "      <th>...</th>\n",
       "      <th>gfw_forest_carbon_gross_emissions_N2O_2014__Mg_CO2e</th>\n",
       "      <th>gfw_forest_carbon_gross_emissions_N2O_2015__Mg_CO2e</th>\n",
       "      <th>gfw_forest_carbon_gross_emissions_N2O_2016__Mg_CO2e</th>\n",
       "      <th>gfw_forest_carbon_gross_emissions_N2O_2017__Mg_CO2e</th>\n",
       "      <th>gfw_forest_carbon_gross_emissions_N2O_2018__Mg_CO2e</th>\n",
       "      <th>gfw_forest_carbon_gross_emissions_N2O_2019__Mg_CO2e</th>\n",
       "      <th>gfw_forest_carbon_gross_emissions_N2O_2020__Mg_CO2e</th>\n",
       "      <th>gfw_forest_carbon_gross_emissions_N2O_2021__Mg_CO2e</th>\n",
       "      <th>gfw_forest_carbon_gross_emissions_N2O_2022__Mg_CO2e</th>\n",
       "      <th>gfw_forest_carbon_gross_emissions_N2O_2023__Mg_CO2e</th>\n",
       "    </tr>\n",
       "  </thead>\n",
       "  <tbody>\n",
       "    <tr>\n",
       "      <th>0</th>\n",
       "      <td>0</td>\n",
       "      <td>19</td>\n",
       "      <td>Europe</td>\n",
       "      <td>Andorra</td>\n",
       "      <td>AND</td>\n",
       "      <td>IBA D'Andorra</td>\n",
       "      <td>Pirineo de Andorra</td>\n",
       "      <td>30</td>\n",
       "      <td>2000</td>\n",
       "      <td>False</td>\n",
       "      <td>...</td>\n",
       "      <td>0.639880</td>\n",
       "      <td>0.000000</td>\n",
       "      <td>0.243318</td>\n",
       "      <td>0.0</td>\n",
       "      <td>12.017342</td>\n",
       "      <td>0.000000</td>\n",
       "      <td>2.233741</td>\n",
       "      <td>2.533235</td>\n",
       "      <td>0.529807</td>\n",
       "      <td>2.787216</td>\n",
       "    </tr>\n",
       "    <tr>\n",
       "      <th>1</th>\n",
       "      <td>1</td>\n",
       "      <td>35</td>\n",
       "      <td>Europe</td>\n",
       "      <td>Czechia</td>\n",
       "      <td>CZE</td>\n",
       "      <td>Sumava</td>\n",
       "      <td>Sumava mountains (Bohemian forest)</td>\n",
       "      <td>30</td>\n",
       "      <td>2000</td>\n",
       "      <td>False</td>\n",
       "      <td>...</td>\n",
       "      <td>32.150755</td>\n",
       "      <td>0.000000</td>\n",
       "      <td>22.128110</td>\n",
       "      <td>0.0</td>\n",
       "      <td>0.000000</td>\n",
       "      <td>0.000000</td>\n",
       "      <td>6.771213</td>\n",
       "      <td>6.773425</td>\n",
       "      <td>5.766636</td>\n",
       "      <td>6.367983</td>\n",
       "    </tr>\n",
       "    <tr>\n",
       "      <th>2</th>\n",
       "      <td>2</td>\n",
       "      <td>36</td>\n",
       "      <td>Europe</td>\n",
       "      <td>Czechia</td>\n",
       "      <td>CZE</td>\n",
       "      <td>Trebonsko</td>\n",
       "      <td>Trebonsko (Trebon region)</td>\n",
       "      <td>30</td>\n",
       "      <td>2000</td>\n",
       "      <td>False</td>\n",
       "      <td>...</td>\n",
       "      <td>3.000072</td>\n",
       "      <td>0.599344</td>\n",
       "      <td>5.762274</td>\n",
       "      <td>0.0</td>\n",
       "      <td>0.000000</td>\n",
       "      <td>0.641328</td>\n",
       "      <td>0.000000</td>\n",
       "      <td>1.053322</td>\n",
       "      <td>0.000000</td>\n",
       "      <td>0.000000</td>\n",
       "    </tr>\n",
       "    <tr>\n",
       "      <th>3</th>\n",
       "      <td>3</td>\n",
       "      <td>37</td>\n",
       "      <td>Europe</td>\n",
       "      <td>Czechia</td>\n",
       "      <td>CZE</td>\n",
       "      <td>Dehtár</td>\n",
       "      <td>Dehtár pond</td>\n",
       "      <td>30</td>\n",
       "      <td>2000</td>\n",
       "      <td>False</td>\n",
       "      <td>...</td>\n",
       "      <td>0.000000</td>\n",
       "      <td>0.000000</td>\n",
       "      <td>0.000000</td>\n",
       "      <td>0.0</td>\n",
       "      <td>0.000000</td>\n",
       "      <td>0.000000</td>\n",
       "      <td>0.000000</td>\n",
       "      <td>0.000000</td>\n",
       "      <td>0.000000</td>\n",
       "      <td>0.000000</td>\n",
       "    </tr>\n",
       "    <tr>\n",
       "      <th>4</th>\n",
       "      <td>4</td>\n",
       "      <td>38</td>\n",
       "      <td>Europe</td>\n",
       "      <td>Czechia</td>\n",
       "      <td>CZE</td>\n",
       "      <td>Rezabinec</td>\n",
       "      <td>Rezabinec pond</td>\n",
       "      <td>30</td>\n",
       "      <td>2000</td>\n",
       "      <td>False</td>\n",
       "      <td>...</td>\n",
       "      <td>0.000000</td>\n",
       "      <td>0.000000</td>\n",
       "      <td>0.000000</td>\n",
       "      <td>0.0</td>\n",
       "      <td>0.000000</td>\n",
       "      <td>0.000000</td>\n",
       "      <td>0.000000</td>\n",
       "      <td>0.000000</td>\n",
       "      <td>0.000000</td>\n",
       "      <td>0.000000</td>\n",
       "    </tr>\n",
       "  </tbody>\n",
       "</table>\n",
       "<p>5 rows × 143 columns</p>\n",
       "</div>"
      ],
      "text/plain": [
       "   feature__id  SitRecID  Region  Country ISO3        NatName  \\\n",
       "0            0        19  Europe  Andorra  AND  IBA D'Andorra   \n",
       "1            1        35  Europe  Czechia  CZE         Sumava   \n",
       "2            2        36  Europe  Czechia  CZE      Trebonsko   \n",
       "3            3        37  Europe  Czechia  CZE         Dehtár   \n",
       "4            4        38  Europe  Czechia  CZE      Rezabinec   \n",
       "\n",
       "                              IntName  umd_tree_cover_density__threshold  \\\n",
       "0                  Pirineo de Andorra                                 30   \n",
       "1  Sumava mountains (Bohemian forest)                                 30   \n",
       "2           Trebonsko (Trebon region)                                 30   \n",
       "3                         Dehtár pond                                 30   \n",
       "4                      Rezabinec pond                                 30   \n",
       "\n",
       "   umd_tree_cover_extent__year  is__umd_regional_primary_forest_2001  ...  \\\n",
       "0                         2000                                 False  ...   \n",
       "1                         2000                                 False  ...   \n",
       "2                         2000                                 False  ...   \n",
       "3                         2000                                 False  ...   \n",
       "4                         2000                                 False  ...   \n",
       "\n",
       "   gfw_forest_carbon_gross_emissions_N2O_2014__Mg_CO2e  \\\n",
       "0                                           0.639880     \n",
       "1                                          32.150755     \n",
       "2                                           3.000072     \n",
       "3                                           0.000000     \n",
       "4                                           0.000000     \n",
       "\n",
       "   gfw_forest_carbon_gross_emissions_N2O_2015__Mg_CO2e  \\\n",
       "0                                           0.000000     \n",
       "1                                           0.000000     \n",
       "2                                           0.599344     \n",
       "3                                           0.000000     \n",
       "4                                           0.000000     \n",
       "\n",
       "   gfw_forest_carbon_gross_emissions_N2O_2016__Mg_CO2e  \\\n",
       "0                                           0.243318     \n",
       "1                                          22.128110     \n",
       "2                                           5.762274     \n",
       "3                                           0.000000     \n",
       "4                                           0.000000     \n",
       "\n",
       "   gfw_forest_carbon_gross_emissions_N2O_2017__Mg_CO2e  \\\n",
       "0                                                0.0     \n",
       "1                                                0.0     \n",
       "2                                                0.0     \n",
       "3                                                0.0     \n",
       "4                                                0.0     \n",
       "\n",
       "   gfw_forest_carbon_gross_emissions_N2O_2018__Mg_CO2e  \\\n",
       "0                                          12.017342     \n",
       "1                                           0.000000     \n",
       "2                                           0.000000     \n",
       "3                                           0.000000     \n",
       "4                                           0.000000     \n",
       "\n",
       "   gfw_forest_carbon_gross_emissions_N2O_2019__Mg_CO2e  \\\n",
       "0                                           0.000000     \n",
       "1                                           0.000000     \n",
       "2                                           0.641328     \n",
       "3                                           0.000000     \n",
       "4                                           0.000000     \n",
       "\n",
       "   gfw_forest_carbon_gross_emissions_N2O_2020__Mg_CO2e  \\\n",
       "0                                           2.233741     \n",
       "1                                           6.771213     \n",
       "2                                           0.000000     \n",
       "3                                           0.000000     \n",
       "4                                           0.000000     \n",
       "\n",
       "   gfw_forest_carbon_gross_emissions_N2O_2021__Mg_CO2e  \\\n",
       "0                                           2.533235     \n",
       "1                                           6.773425     \n",
       "2                                           1.053322     \n",
       "3                                           0.000000     \n",
       "4                                           0.000000     \n",
       "\n",
       "   gfw_forest_carbon_gross_emissions_N2O_2022__Mg_CO2e  \\\n",
       "0                                           0.529807     \n",
       "1                                           5.766636     \n",
       "2                                           0.000000     \n",
       "3                                           0.000000     \n",
       "4                                           0.000000     \n",
       "\n",
       "   gfw_forest_carbon_gross_emissions_N2O_2023__Mg_CO2e  \n",
       "0                                           2.787216    \n",
       "1                                           6.367983    \n",
       "2                                           0.000000    \n",
       "3                                           0.000000    \n",
       "4                                           0.000000    \n",
       "\n",
       "[5 rows x 143 columns]"
      ]
     },
     "execution_count": 32,
     "metadata": {},
     "output_type": "execute_result"
    }
   ],
   "source": [
    "df_kba_data = pd.read_csv(f\"{DATAPATH}/kba_data_20250110.csv\", encoding=\"latin1\")\n",
    "df_kba_data.head()"
   ]
  },
  {
   "cell_type": "code",
   "execution_count": 38,
   "id": "ed7f606e-7373-46e9-8e9b-3b7a1607abfe",
   "metadata": {},
   "outputs": [],
   "source": [
    "data_cols = list(c for c in df_kba_data.columns if c != \"feature__id\")\n",
    "meta_cols = list(c for c in df_kba_meta.columns if c not in [\"siteName\", \"nationalName\", \"regions\", \"country\"])"
   ]
  },
  {
   "cell_type": "code",
   "execution_count": 39,
   "id": "35d9b60c-168e-4357-8f0f-ad310c4547dc",
   "metadata": {},
   "outputs": [
    {
     "data": {
      "text/html": [
       "<div>\n",
       "<style scoped>\n",
       "    .dataframe tbody tr th:only-of-type {\n",
       "        vertical-align: middle;\n",
       "    }\n",
       "\n",
       "    .dataframe tbody tr th {\n",
       "        vertical-align: top;\n",
       "    }\n",
       "\n",
       "    .dataframe thead th {\n",
       "        text-align: right;\n",
       "    }\n",
       "</style>\n",
       "<table border=\"1\" class=\"dataframe\">\n",
       "  <thead>\n",
       "    <tr style=\"text-align: right;\">\n",
       "      <th></th>\n",
       "      <th>SitRecID</th>\n",
       "      <th>Region</th>\n",
       "      <th>Country</th>\n",
       "      <th>ISO3</th>\n",
       "      <th>NatName</th>\n",
       "      <th>IntName</th>\n",
       "      <th>umd_tree_cover_density__threshold</th>\n",
       "      <th>umd_tree_cover_extent__year</th>\n",
       "      <th>is__umd_regional_primary_forest_2001</th>\n",
       "      <th>area__ha</th>\n",
       "      <th>...</th>\n",
       "      <th>rationaleForSiteInformation</th>\n",
       "      <th>additionalBiodiversityValues</th>\n",
       "      <th>landUseRegimesAtSite</th>\n",
       "      <th>threatsDescription</th>\n",
       "      <th>howIsTheSiteManaged</th>\n",
       "      <th>indigenousGroups</th>\n",
       "      <th>deliniationRationale</th>\n",
       "      <th>habitatDescription</th>\n",
       "      <th>non_empty_fields_count</th>\n",
       "      <th>total_characters</th>\n",
       "    </tr>\n",
       "  </thead>\n",
       "  <tbody>\n",
       "    <tr>\n",
       "      <th>0</th>\n",
       "      <td>19</td>\n",
       "      <td>Europe</td>\n",
       "      <td>Andorra</td>\n",
       "      <td>AND</td>\n",
       "      <td>IBA D'Andorra</td>\n",
       "      <td>Pirineo de Andorra</td>\n",
       "      <td>30</td>\n",
       "      <td>2000</td>\n",
       "      <td>False</td>\n",
       "      <td>47463.176310</td>\n",
       "      <td>...</td>\n",
       "      <td>This site qualifies as a Key Biodiversity Area...</td>\n",
       "      <td>The IBA is important for forest and high-mount...</td>\n",
       "      <td>agriculture (7%) | tourism/recreation (5%) | u...</td>\n",
       "      <td>Poaching and shooting of species protected und...</td>\n",
       "      <td>NaN</td>\n",
       "      <td>NaN</td>\n",
       "      <td>NaN</td>\n",
       "      <td>NaN</td>\n",
       "      <td>5</td>\n",
       "      <td>2555</td>\n",
       "    </tr>\n",
       "    <tr>\n",
       "      <th>1</th>\n",
       "      <td>35</td>\n",
       "      <td>Europe</td>\n",
       "      <td>Czechia</td>\n",
       "      <td>CZE</td>\n",
       "      <td>Sumava</td>\n",
       "      <td>Sumava mountains (Bohemian forest)</td>\n",
       "      <td>30</td>\n",
       "      <td>2000</td>\n",
       "      <td>False</td>\n",
       "      <td>97501.202480</td>\n",
       "      <td>...</td>\n",
       "      <td>This site qualifies as a Key Biodiversity Area...</td>\n",
       "      <td>NaN</td>\n",
       "      <td>agriculture (15%) | fisheries/aquaculture (3%)...</td>\n",
       "      <td>Deforestation is a threat due to the effects o...</td>\n",
       "      <td>NaN</td>\n",
       "      <td>NaN</td>\n",
       "      <td>NaN</td>\n",
       "      <td>NaN</td>\n",
       "      <td>4</td>\n",
       "      <td>2087</td>\n",
       "    </tr>\n",
       "    <tr>\n",
       "      <th>2</th>\n",
       "      <td>36</td>\n",
       "      <td>Europe</td>\n",
       "      <td>Czechia</td>\n",
       "      <td>CZE</td>\n",
       "      <td>Trebonsko</td>\n",
       "      <td>Trebonsko (Trebon region)</td>\n",
       "      <td>30</td>\n",
       "      <td>2000</td>\n",
       "      <td>False</td>\n",
       "      <td>47371.520730</td>\n",
       "      <td>...</td>\n",
       "      <td>This site qualifies as a Key Biodiversity Area...</td>\n",
       "      <td>The Trebon region is one of the most important...</td>\n",
       "      <td>agriculture (28%) | fisheries/aquaculture (11%...</td>\n",
       "      <td>Fishery practices, including manuring and mani...</td>\n",
       "      <td>NaN</td>\n",
       "      <td>NaN</td>\n",
       "      <td>NaN</td>\n",
       "      <td>NaN</td>\n",
       "      <td>5</td>\n",
       "      <td>2769</td>\n",
       "    </tr>\n",
       "    <tr>\n",
       "      <th>3</th>\n",
       "      <td>37</td>\n",
       "      <td>Europe</td>\n",
       "      <td>Czechia</td>\n",
       "      <td>CZE</td>\n",
       "      <td>Dehtár</td>\n",
       "      <td>Dehtár pond</td>\n",
       "      <td>30</td>\n",
       "      <td>2000</td>\n",
       "      <td>False</td>\n",
       "      <td>351.995735</td>\n",
       "      <td>...</td>\n",
       "      <td>This site qualifies as a Key Biodiversity Area...</td>\n",
       "      <td>The IBA is important for both breeding and pas...</td>\n",
       "      <td>fisheries/aquaculture (100%) | hunting | touri...</td>\n",
       "      <td>The western half of the fish-pond was recently...</td>\n",
       "      <td>NaN</td>\n",
       "      <td>NaN</td>\n",
       "      <td>NaN</td>\n",
       "      <td>NaN</td>\n",
       "      <td>5</td>\n",
       "      <td>2135</td>\n",
       "    </tr>\n",
       "    <tr>\n",
       "      <th>4</th>\n",
       "      <td>38</td>\n",
       "      <td>Europe</td>\n",
       "      <td>Czechia</td>\n",
       "      <td>CZE</td>\n",
       "      <td>Rezabinec</td>\n",
       "      <td>Rezabinec pond</td>\n",
       "      <td>30</td>\n",
       "      <td>2000</td>\n",
       "      <td>False</td>\n",
       "      <td>111.223313</td>\n",
       "      <td>...</td>\n",
       "      <td>This site qualifies as a Key Biodiversity Area...</td>\n",
       "      <td>The IBA is important for both breeding and pas...</td>\n",
       "      <td>agriculture (2%) | fisheries/aquaculture (90%)...</td>\n",
       "      <td>A serious threat is posed by excessive nutrien...</td>\n",
       "      <td>NaN</td>\n",
       "      <td>NaN</td>\n",
       "      <td>NaN</td>\n",
       "      <td>NaN</td>\n",
       "      <td>5</td>\n",
       "      <td>1288</td>\n",
       "    </tr>\n",
       "  </tbody>\n",
       "</table>\n",
       "<p>5 rows × 157 columns</p>\n",
       "</div>"
      ],
      "text/plain": [
       "   SitRecID  Region  Country ISO3        NatName  \\\n",
       "0        19  Europe  Andorra  AND  IBA D'Andorra   \n",
       "1        35  Europe  Czechia  CZE         Sumava   \n",
       "2        36  Europe  Czechia  CZE      Trebonsko   \n",
       "3        37  Europe  Czechia  CZE         Dehtár   \n",
       "4        38  Europe  Czechia  CZE      Rezabinec   \n",
       "\n",
       "                              IntName  umd_tree_cover_density__threshold  \\\n",
       "0                  Pirineo de Andorra                                 30   \n",
       "1  Sumava mountains (Bohemian forest)                                 30   \n",
       "2           Trebonsko (Trebon region)                                 30   \n",
       "3                         Dehtár pond                                 30   \n",
       "4                      Rezabinec pond                                 30   \n",
       "\n",
       "   umd_tree_cover_extent__year  is__umd_regional_primary_forest_2001  \\\n",
       "0                         2000                                 False   \n",
       "1                         2000                                 False   \n",
       "2                         2000                                 False   \n",
       "3                         2000                                 False   \n",
       "4                         2000                                 False   \n",
       "\n",
       "       area__ha  ...                        rationaleForSiteInformation  \\\n",
       "0  47463.176310  ...  This site qualifies as a Key Biodiversity Area...   \n",
       "1  97501.202480  ...  This site qualifies as a Key Biodiversity Area...   \n",
       "2  47371.520730  ...  This site qualifies as a Key Biodiversity Area...   \n",
       "3    351.995735  ...  This site qualifies as a Key Biodiversity Area...   \n",
       "4    111.223313  ...  This site qualifies as a Key Biodiversity Area...   \n",
       "\n",
       "                        additionalBiodiversityValues  \\\n",
       "0  The IBA is important for forest and high-mount...   \n",
       "1                                                NaN   \n",
       "2  The Trebon region is one of the most important...   \n",
       "3  The IBA is important for both breeding and pas...   \n",
       "4  The IBA is important for both breeding and pas...   \n",
       "\n",
       "                                landUseRegimesAtSite  \\\n",
       "0  agriculture (7%) | tourism/recreation (5%) | u...   \n",
       "1  agriculture (15%) | fisheries/aquaculture (3%)...   \n",
       "2  agriculture (28%) | fisheries/aquaculture (11%...   \n",
       "3  fisheries/aquaculture (100%) | hunting | touri...   \n",
       "4  agriculture (2%) | fisheries/aquaculture (90%)...   \n",
       "\n",
       "                                  threatsDescription  howIsTheSiteManaged  \\\n",
       "0  Poaching and shooting of species protected und...                  NaN   \n",
       "1  Deforestation is a threat due to the effects o...                  NaN   \n",
       "2  Fishery practices, including manuring and mani...                  NaN   \n",
       "3  The western half of the fish-pond was recently...                  NaN   \n",
       "4  A serious threat is posed by excessive nutrien...                  NaN   \n",
       "\n",
       "   indigenousGroups  deliniationRationale  habitatDescription  \\\n",
       "0               NaN                   NaN                 NaN   \n",
       "1               NaN                   NaN                 NaN   \n",
       "2               NaN                   NaN                 NaN   \n",
       "3               NaN                   NaN                 NaN   \n",
       "4               NaN                   NaN                 NaN   \n",
       "\n",
       "   non_empty_fields_count  total_characters  \n",
       "0                       5              2555  \n",
       "1                       4              2087  \n",
       "2                       5              2769  \n",
       "3                       5              2135  \n",
       "4                       5              1288  \n",
       "\n",
       "[5 rows x 157 columns]"
      ]
     },
     "execution_count": 39,
     "metadata": {},
     "output_type": "execute_result"
    }
   ],
   "source": [
    "merged_df = pd.merge(df_kba_data[data_cols], df_kba_meta[meta_cols], left_on=\"SitRecID\", right_on=\"sitecode\", how=\"inner\")\n",
    "merged_df.head()"
   ]
  },
  {
   "cell_type": "code",
   "execution_count": 40,
   "id": "c724f5c1-fc85-4776-8b88-dddc5ea56d17",
   "metadata": {},
   "outputs": [
    {
     "data": {
      "text/plain": [
       "(17323, 17323, 16510)"
      ]
     },
     "execution_count": 40,
     "metadata": {},
     "output_type": "execute_result"
    }
   ],
   "source": [
    "len(merged_df), len(df_kba_data), len(df_kba_meta)"
   ]
  },
  {
   "cell_type": "code",
   "execution_count": 42,
   "id": "36ecfc99-0987-4ad1-8573-05b1f560718a",
   "metadata": {},
   "outputs": [
    {
     "data": {
      "text/plain": [
       "['SitRecID',\n",
       " 'Region',\n",
       " 'Country',\n",
       " 'ISO3',\n",
       " 'NatName',\n",
       " 'IntName',\n",
       " 'umd_tree_cover_density__threshold',\n",
       " 'umd_tree_cover_extent__year',\n",
       " 'is__umd_regional_primary_forest_2001',\n",
       " 'area__ha',\n",
       " 'umd_tree_cover_extent_2000__ha',\n",
       " 'umd_tree_cover_extent_2010__ha',\n",
       " 'umd_tree_cover_gain__ha',\n",
       " 'whrc_aboveground_biomass_stock_2000__Mg',\n",
       " 'avg_whrc_aboveground_biomass_density_2000__Mg_ha-1',\n",
       " 'gfw_forest_carbon_gross_removals_aboveground_2001_2023__Mg_CO2',\n",
       " 'gfw_forest_carbon_gross_removals_belowground_2001_2023__Mg_CO2',\n",
       " 'gfw_forest_carbon_gross_removals_2001_2023__Mg_CO2',\n",
       " 'gfw_forest_carbon_gross_emissions_CO2_2001_2023__Mg_CO2',\n",
       " 'gfw_forest_carbon_gross_emissions_CH4_2001_2023__Mg_CO2e',\n",
       " 'gfw_forest_carbon_gross_emissions_N2O_2001_2023__Mg_CO2e',\n",
       " 'gfw_forest_carbon_gross_emissions_all_gases_2001_2023__Mg_CO2e',\n",
       " 'gfw_forest_carbon_net_flux_2001_2023__Mg_CO2e',\n",
       " 'gfw_flux_model_extent__ha',\n",
       " 'gfw_aboveground_carbon_stock_2000__Mg_C',\n",
       " 'gfw_belowground_carbon_stock_2000__Mg_C',\n",
       " 'gfw_soil_carbon_stock_2000__Mg_C',\n",
       " 'umd_tree_cover_loss_2001__ha',\n",
       " 'umd_tree_cover_loss_2002__ha',\n",
       " 'umd_tree_cover_loss_2003__ha',\n",
       " 'umd_tree_cover_loss_2004__ha',\n",
       " 'umd_tree_cover_loss_2005__ha',\n",
       " 'umd_tree_cover_loss_2006__ha',\n",
       " 'umd_tree_cover_loss_2007__ha',\n",
       " 'umd_tree_cover_loss_2008__ha',\n",
       " 'umd_tree_cover_loss_2009__ha',\n",
       " 'umd_tree_cover_loss_2010__ha',\n",
       " 'umd_tree_cover_loss_2011__ha',\n",
       " 'umd_tree_cover_loss_2012__ha',\n",
       " 'umd_tree_cover_loss_2013__ha',\n",
       " 'umd_tree_cover_loss_2014__ha',\n",
       " 'umd_tree_cover_loss_2015__ha',\n",
       " 'umd_tree_cover_loss_2016__ha',\n",
       " 'umd_tree_cover_loss_2017__ha',\n",
       " 'umd_tree_cover_loss_2018__ha',\n",
       " 'umd_tree_cover_loss_2019__ha',\n",
       " 'umd_tree_cover_loss_2020__ha',\n",
       " 'umd_tree_cover_loss_2021__ha',\n",
       " 'umd_tree_cover_loss_2022__ha',\n",
       " 'umd_tree_cover_loss_2023__ha',\n",
       " 'gfw_forest_carbon_gross_emissions_all_gases_2001__Mg_CO2e',\n",
       " 'gfw_forest_carbon_gross_emissions_all_gases_2002__Mg_CO2e',\n",
       " 'gfw_forest_carbon_gross_emissions_all_gases_2003__Mg_CO2e',\n",
       " 'gfw_forest_carbon_gross_emissions_all_gases_2004__Mg_CO2e',\n",
       " 'gfw_forest_carbon_gross_emissions_all_gases_2005__Mg_CO2e',\n",
       " 'gfw_forest_carbon_gross_emissions_all_gases_2006__Mg_CO2e',\n",
       " 'gfw_forest_carbon_gross_emissions_all_gases_2007__Mg_CO2e',\n",
       " 'gfw_forest_carbon_gross_emissions_all_gases_2008__Mg_CO2e',\n",
       " 'gfw_forest_carbon_gross_emissions_all_gases_2009__Mg_CO2e',\n",
       " 'gfw_forest_carbon_gross_emissions_all_gases_2010__Mg_CO2e',\n",
       " 'gfw_forest_carbon_gross_emissions_all_gases_2011__Mg_CO2e',\n",
       " 'gfw_forest_carbon_gross_emissions_all_gases_2012__Mg_CO2e',\n",
       " 'gfw_forest_carbon_gross_emissions_all_gases_2013__Mg_CO2e',\n",
       " 'gfw_forest_carbon_gross_emissions_all_gases_2014__Mg_CO2e',\n",
       " 'gfw_forest_carbon_gross_emissions_all_gases_2015__Mg_CO2e',\n",
       " 'gfw_forest_carbon_gross_emissions_all_gases_2016__Mg_CO2e',\n",
       " 'gfw_forest_carbon_gross_emissions_all_gases_2017__Mg_CO2e',\n",
       " 'gfw_forest_carbon_gross_emissions_all_gases_2018__Mg_CO2e',\n",
       " 'gfw_forest_carbon_gross_emissions_all_gases_2019__Mg_CO2e',\n",
       " 'gfw_forest_carbon_gross_emissions_all_gases_2020__Mg_CO2e',\n",
       " 'gfw_forest_carbon_gross_emissions_all_gases_2021__Mg_CO2e',\n",
       " 'gfw_forest_carbon_gross_emissions_all_gases_2022__Mg_CO2e',\n",
       " 'gfw_forest_carbon_gross_emissions_all_gases_2023__Mg_CO2e',\n",
       " 'gfw_forest_carbon_gross_emissions_CO2_2001__Mg_CO2e',\n",
       " 'gfw_forest_carbon_gross_emissions_CO2_2002__Mg_CO2e',\n",
       " 'gfw_forest_carbon_gross_emissions_CO2_2003__Mg_CO2e',\n",
       " 'gfw_forest_carbon_gross_emissions_CO2_2004__Mg_CO2e',\n",
       " 'gfw_forest_carbon_gross_emissions_CO2_2005__Mg_CO2e',\n",
       " 'gfw_forest_carbon_gross_emissions_CO2_2006__Mg_CO2e',\n",
       " 'gfw_forest_carbon_gross_emissions_CO2_2007__Mg_CO2e',\n",
       " 'gfw_forest_carbon_gross_emissions_CO2_2008__Mg_CO2e',\n",
       " 'gfw_forest_carbon_gross_emissions_CO2_2009__Mg_CO2e',\n",
       " 'gfw_forest_carbon_gross_emissions_CO2_2010__Mg_CO2e',\n",
       " 'gfw_forest_carbon_gross_emissions_CO2_2011__Mg_CO2e',\n",
       " 'gfw_forest_carbon_gross_emissions_CO2_2012__Mg_CO2e',\n",
       " 'gfw_forest_carbon_gross_emissions_CO2_2013__Mg_CO2e',\n",
       " 'gfw_forest_carbon_gross_emissions_CO2_2014__Mg_CO2e',\n",
       " 'gfw_forest_carbon_gross_emissions_CO2_2015__Mg_CO2e',\n",
       " 'gfw_forest_carbon_gross_emissions_CO2_2016__Mg_CO2e',\n",
       " 'gfw_forest_carbon_gross_emissions_CO2_2017__Mg_CO2e',\n",
       " 'gfw_forest_carbon_gross_emissions_CO2_2018__Mg_CO2e',\n",
       " 'gfw_forest_carbon_gross_emissions_CO2_2019__Mg_CO2e',\n",
       " 'gfw_forest_carbon_gross_emissions_CO2_2020__Mg_CO2e',\n",
       " 'gfw_forest_carbon_gross_emissions_CO2_2021__Mg_CO2e',\n",
       " 'gfw_forest_carbon_gross_emissions_CO2_2022__Mg_CO2e',\n",
       " 'gfw_forest_carbon_gross_emissions_CO2_2023__Mg_CO2e',\n",
       " 'gfw_forest_carbon_gross_emissions_CH4_2001__Mg_CO2e',\n",
       " 'gfw_forest_carbon_gross_emissions_CH4_2002__Mg_CO2e',\n",
       " 'gfw_forest_carbon_gross_emissions_CH4_2003__Mg_CO2e',\n",
       " 'gfw_forest_carbon_gross_emissions_CH4_2004__Mg_CO2e',\n",
       " 'gfw_forest_carbon_gross_emissions_CH4_2005__Mg_CO2e',\n",
       " 'gfw_forest_carbon_gross_emissions_CH4_2006__Mg_CO2e',\n",
       " 'gfw_forest_carbon_gross_emissions_CH4_2007__Mg_CO2e',\n",
       " 'gfw_forest_carbon_gross_emissions_CH4_2008__Mg_CO2e',\n",
       " 'gfw_forest_carbon_gross_emissions_CH4_2009__Mg_CO2e',\n",
       " 'gfw_forest_carbon_gross_emissions_CH4_2010__Mg_CO2e',\n",
       " 'gfw_forest_carbon_gross_emissions_CH4_2011__Mg_CO2e',\n",
       " 'gfw_forest_carbon_gross_emissions_CH4_2012__Mg_CO2e',\n",
       " 'gfw_forest_carbon_gross_emissions_CH4_2013__Mg_CO2e',\n",
       " 'gfw_forest_carbon_gross_emissions_CH4_2014__Mg_CO2e',\n",
       " 'gfw_forest_carbon_gross_emissions_CH4_2015__Mg_CO2e',\n",
       " 'gfw_forest_carbon_gross_emissions_CH4_2016__Mg_CO2e',\n",
       " 'gfw_forest_carbon_gross_emissions_CH4_2017__Mg_CO2e',\n",
       " 'gfw_forest_carbon_gross_emissions_CH4_2018__Mg_CO2e',\n",
       " 'gfw_forest_carbon_gross_emissions_CH4_2019__Mg_CO2e',\n",
       " 'gfw_forest_carbon_gross_emissions_CH4_2020__Mg_CO2e',\n",
       " 'gfw_forest_carbon_gross_emissions_CH4_2021__Mg_CO2e',\n",
       " 'gfw_forest_carbon_gross_emissions_CH4_2022__Mg_CO2e',\n",
       " 'gfw_forest_carbon_gross_emissions_CH4_2023__Mg_CO2e',\n",
       " 'gfw_forest_carbon_gross_emissions_N2O_2001__Mg_CO2e',\n",
       " 'gfw_forest_carbon_gross_emissions_N2O_2002__Mg_CO2e',\n",
       " 'gfw_forest_carbon_gross_emissions_N2O_2003__Mg_CO2e',\n",
       " 'gfw_forest_carbon_gross_emissions_N2O_2004__Mg_CO2e',\n",
       " 'gfw_forest_carbon_gross_emissions_N2O_2005__Mg_CO2e',\n",
       " 'gfw_forest_carbon_gross_emissions_N2O_2006__Mg_CO2e',\n",
       " 'gfw_forest_carbon_gross_emissions_N2O_2007__Mg_CO2e',\n",
       " 'gfw_forest_carbon_gross_emissions_N2O_2008__Mg_CO2e',\n",
       " 'gfw_forest_carbon_gross_emissions_N2O_2009__Mg_CO2e',\n",
       " 'gfw_forest_carbon_gross_emissions_N2O_2010__Mg_CO2e',\n",
       " 'gfw_forest_carbon_gross_emissions_N2O_2011__Mg_CO2e',\n",
       " 'gfw_forest_carbon_gross_emissions_N2O_2012__Mg_CO2e',\n",
       " 'gfw_forest_carbon_gross_emissions_N2O_2013__Mg_CO2e',\n",
       " 'gfw_forest_carbon_gross_emissions_N2O_2014__Mg_CO2e',\n",
       " 'gfw_forest_carbon_gross_emissions_N2O_2015__Mg_CO2e',\n",
       " 'gfw_forest_carbon_gross_emissions_N2O_2016__Mg_CO2e',\n",
       " 'gfw_forest_carbon_gross_emissions_N2O_2017__Mg_CO2e',\n",
       " 'gfw_forest_carbon_gross_emissions_N2O_2018__Mg_CO2e',\n",
       " 'gfw_forest_carbon_gross_emissions_N2O_2019__Mg_CO2e',\n",
       " 'gfw_forest_carbon_gross_emissions_N2O_2020__Mg_CO2e',\n",
       " 'gfw_forest_carbon_gross_emissions_N2O_2021__Mg_CO2e',\n",
       " 'gfw_forest_carbon_gross_emissions_N2O_2022__Mg_CO2e',\n",
       " 'gfw_forest_carbon_gross_emissions_N2O_2023__Mg_CO2e',\n",
       " 'sitecode',\n",
       " 'ecosystems',\n",
       " 'area(Km2)',\n",
       " 'pa/OecmCoverage(%)',\n",
       " 'siteDescription',\n",
       " 'rationaleForSiteInformation',\n",
       " 'additionalBiodiversityValues',\n",
       " 'landUseRegimesAtSite',\n",
       " 'threatsDescription',\n",
       " 'howIsTheSiteManaged',\n",
       " 'indigenousGroups',\n",
       " 'deliniationRationale',\n",
       " 'habitatDescription',\n",
       " 'non_empty_fields_count',\n",
       " 'total_characters']"
      ]
     },
     "execution_count": 42,
     "metadata": {},
     "output_type": "execute_result"
    }
   ],
   "source": [
    "list(merged_df.columns)"
   ]
  },
  {
   "cell_type": "markdown",
   "id": "95ee88ab-76bf-4660-a95f-a435847cb2e6",
   "metadata": {},
   "source": [
    "# Test LLM insights"
   ]
  },
  {
   "cell_type": "code",
   "execution_count": 93,
   "id": "5172aaef-b7fb-4c1e-9b74-211914b04210",
   "metadata": {},
   "outputs": [],
   "source": [
    "import pandas as pd\n",
    "from openai import OpenAI\n",
    "\n",
    "# API_KEY = os.environ.get(\"OPENAI_API_KEY\")\n",
    "\n",
    "def chat_with_gpt(api_key, df, prompt, system_prompt=None, model=\"gpt-4o\", temperature=0.7, max_tokens=1000):\n",
    "    \"\"\"\n",
    "    Interact with OpenAI's ChatGPT API, optionally including CSV data.\n",
    "\n",
    "    Parameters:\n",
    "        api_key (str): Your OpenAI API key.\n",
    "        prompt (str): The user prompt.\n",
    "        system_prompt (str): The system prompt to guide the assistant's behavior.\n",
    "        df (dict): DataFrame of data summaries to include.\n",
    "        model (str): The model to use.\n",
    "        temperature (float): Controls randomness in the output.\n",
    "        max_tokens (int): Maximum number of tokens for the response.\n",
    "\n",
    "    Returns:\n",
    "        str: The response text from the model.\n",
    "    \"\"\"\n",
    "\n",
    "\n",
    "    # Prepare messages\n",
    "    messages = []\n",
    "    if system_prompt:\n",
    "        messages.append({\"role\": \"system\", \"content\": system_prompt})\n",
    "\n",
    "    messages.append({\"role\": \"system\", \"content\": f\"The following csv data is available:\\n{df.to_string(index=False)}\"})\n",
    "    messages.append({\"role\": \"user\", \"content\": prompt})\n",
    "\n",
    "\n",
    "    client = OpenAI(\n",
    "        api_key=api_key,  # This is the default and can be omitted\n",
    "    )\n",
    "\n",
    "    response = client.chat.completions.create(\n",
    "        model=model,\n",
    "        messages=messages,\n",
    "        temperature=temperature,\n",
    "        max_tokens=max_tokens\n",
    "    )\n",
    "\n",
    "    return response.choices[0].message.content\n",
    "\n",
    "from IPython.display import Markdown, display\n",
    "\n",
    "\n",
    "def show_markdown(md_text):\n",
    "    \"\"\"\n",
    "    Display the given Markdown text in a Jupyter Notebook.\n",
    "    \n",
    "    Parameters:\n",
    "        md_text (str): Markdown text to render.\n",
    "    \"\"\"\n",
    "    display(Markdown(md_text))\n"
   ]
  },
  {
   "cell_type": "markdown",
   "id": "4c7c559e-68dc-46fc-8419-ba378279cd07",
   "metadata": {},
   "source": [
    "## Filter KBAs for portfolio"
   ]
  },
  {
   "cell_type": "code",
   "execution_count": 77,
   "id": "a03572cb-1602-4e66-83ee-c26749828c0f",
   "metadata": {},
   "outputs": [
    {
     "data": {
      "text/plain": [
       "(45, 298, 0)"
      ]
     },
     "execution_count": 77,
     "metadata": {},
     "output_type": "execute_result"
    }
   ],
   "source": [
    "# Congo Basin (Gabon, Republic of Congo and DR Congo) and Andes (Colombia, Ecuador, Peru and Bolivia). Brazil is a new interest so you might include that one also. ​\n",
    "# terrestrial\n",
    "congo = [\"Congo\", \"Congo, The Democratic Republic of the\", \"Gabon\"]\n",
    "congo_df = merged_df[(merged_df.Country.isin(congo)) & (merged_df.ecosystems == \"terrestrial\") & (merged_df.non_empty_fields_count >= 5)]\n",
    "\n",
    "andes = [\"Colombia\", \"Peru\", \"Ecuador\", \"Bolivia\"]\n",
    "andes_df = merged_df[(merged_df.Country.isin(andes)) & (merged_df.ecosystems == \"terrestrial\") & (merged_df.non_empty_fields_count >= 5)]\n",
    "\n",
    "brazil_df = merged_df[(merged_df.Country.isin([\"Brazil\"])) & (merged_df.ecosystems == \"terrestrial\") & (merged_df.non_empty_fields_count >= 5)]\n",
    "\n",
    "len(congo_df), len(andes_df), len(brazil_df)"
   ]
  },
  {
   "cell_type": "code",
   "execution_count": 89,
   "id": "e1033994-44bd-4789-8739-5c927007e9d6",
   "metadata": {},
   "outputs": [],
   "source": [
    "## Sort by most descriptive\n",
    "congo_portfolio = congo_df.sort_values(by=\"total_characters\", ascending=False).sample(10)\n",
    "andes_portfolio = andes_df.sort_values(by=\"total_characters\", ascending=False).sample(10)"
   ]
  },
  {
   "cell_type": "markdown",
   "id": "8ab0e4ca-d893-4034-8be2-c4138bcebd2e",
   "metadata": {},
   "source": [
    "## Describe Portfolio"
   ]
  },
  {
   "cell_type": "code",
   "execution_count": 137,
   "id": "f528d7ed-6a94-4562-9f5a-7fcfb5011c11",
   "metadata": {},
   "outputs": [
    {
     "name": "stdout",
     "output_type": "stream",
     "text": [
      "> Describe the portfolio of KBAs. \n",
      "Comment on the dominant species and habitats present across the portfolio, the state of natural ecosystems.\n",
      "Include some simple tree cover calculations in the response where appropriate.\n",
      "\n",
      "\n"
     ]
    },
    {
     "data": {
      "text/markdown": [
       "The portfolio of Key Biodiversity Areas (KBAs) is situated within the **Democratic Republic of the Congo** and encompasses a variety of terrestrial ecosystems, with each site carrying its unique ecological significance and challenges. The KBAs under consideration are characterized by extensive forested areas interspersed with savannas, which are influenced by varying altitudes, hydrological features, and climatic conditions.\n",
       "\n",
       "The **Nkuba Conservation Area** is a forest block of significant ecological importance, serving as a critical corridor between **Kahuzi-Biega National Park** and **Maiko National Park**. The site spans approximately 235,500 hectares and is predominantly covered by primary humid tropical forests. The dominant tree species include *Gilbertiodendron dewevrei* and *Cynometra alexandri*. The tree cover is extensive, with approximately 232,702 hectares, accounting for nearly 99% of the area. The site supports diverse wildlife, including notable species such as the golden cat (*Caracal aurata*) and the leopard (*Panthera pardus*).\n",
       "\n",
       "The **Kasongo Zone** covers 1,654,400 hectares and exhibits a mosaic of dense forests and wooded savannas, with tree cover making up nearly 99% of the area. The site provides habitat for various primates and ungulates, including the red-tailed monkey (*Cercopithecus ascanius*) and the bushbuck (*Tragelaphus scriptus*). The area has not been subjected to extensive research, indicating potential for further biodiversity discoveries.\n",
       "\n",
       "The **North Ubangi Forest** is a vast area of over 2,573,730 hectares, dominated by dense humid forests with some savanna presence. With a tree cover of approximately 2,406,374 hectares, it supports species such as the African forest elephant (*Loxodonta cyclotis*) and the okapi (*Okapia johnshoni*). This site is under significant anthropogenic pressure, with agricultural expansion threatening forest integrity.\n",
       "\n",
       "The **Usala Gorilla Reserve** focuses on the conservation of Grauer's gorillas within its 113,374 hectares. The area is rich in forested landscapes, featuring equatorial and transitional forests. Species such as the dwarf crocodile (*Osteolaemus tetraspis*) are documented here, alongside notable mammalian fauna.\n",
       "\n",
       "The **Oku Community Reserve**, spanning 121,647 hectares, is similarly geared towards the conservation of gorilla habitats. The reserve is managed by local communities, emphasizing community-based forestry practices. The tree cover here reaches nearly 100% of the area, reflecting robust forest conservation efforts.\n",
       "\n",
       "The **Lubudi-Sampwe Hunting Domain** covers 1,308,012 hectares and is characterized by miombo woodlands and humid grass savannas. The site is home to diverse fauna including the African buffalo and hippopotamus, with a tree cover of 574,201 hectares, equating to 44%.\n",
       "\n",
       "The **Bomu Wildlife and Hunting Reserve** and **Swa-Kibula Hunting Domain** are both under the full management of the **Institut Congolais pour la Conservation de la Nature**. They are characterized by mixed savannas and forest galleries, with 100% of their areas under conservation. The Bomu Reserve, covering 355,272 hectares, is known for species like the vulnerable African softshell turtle (*Trionyx triunguis*), while the Swa-Kibula domain, spanning 63,573 hectares, hosts a range of species, including the critically endangered African forest elephant (*Loxodonta cyclotis*).\n",
       "\n",
       "Overall, the KBAs within this portfolio highlight the **Democratic Republic of the Congo's** rich biodiversity and the critical role these areas play in conserving endemic and endangered species. The dominant habitats are primarily forested, with high percentages of tree cover across most sites, underscoring the importance of these regions as biodiversity hotspots. However, anthropogenic pressures such as agricultural expansion and hunting necessitate ongoing conservation efforts to maintain the ecological integrity of these critical areas."
      ],
      "text/plain": [
       "<IPython.core.display.Markdown object>"
      ]
     },
     "metadata": {},
     "output_type": "display_data"
    }
   ],
   "source": [
    "SYSTEM_PROMPT = \"\"\"\n",
    "You are a helpful data analysis assistant that produces insights against KBAs, supported by data analysis from the provided csv.\n",
    "Your responses should be scientific and informative in tone, and structured as a summary report.\n",
    "Do not use bullet points. Do not comment on individual KBAs.\n",
    "\n",
    "Format country and place names in bold.\n",
    "Format habitats names in bold.\n",
    "Format species names in italics, and refer to its common name where possible.\n",
    "\n",
    "You describe the user portfolio as a whole using the following information found in the data:\n",
    " - Use siteDescription, howIsTheSiteManaged and landUseRegimesAtSite, indigenousGroups for general info about the KBA\n",
    " - Use habitatDescription to describe the habitats present\n",
    " - Use additionalBiodiversityValues for more detailed species info \n",
    " - Use pa/OecmCoverage(%) to describe the amount of area being conserved, if known\n",
    "\n",
    "Also include the following data in your description:\n",
    " - area__ha: the size of individual KBA in hectares\n",
    " - umd_tree_cover_extent_2000__ha: the tree cover extent in hectares\n",
    "\n",
    "Comment on the dominant species and habitats present across the portfolio, the state of natural ecosystems.\n",
    "Include some simple tree cover calculations in the response where appropriate \n",
    "e.g. tree cover % (umd_tree_cover_extent_2000__ha/area__ha) in the response, rounded to the nearest whole number.\n",
    "\"\"\"\n",
    "\n",
    "data_columns =  [\"area__ha\", \"umd_tree_cover_extent_2000__ha\"]\n",
    "info_columns = [\n",
    "    \"Region\",\n",
    "    \"Country\",\n",
    "    \"IntName\",\n",
    "    \"sitecode\",\n",
    "    \"ecosystems\",\n",
    "    \"pa/OecmCoverage(%)\",\n",
    "    \"siteDescription\",\n",
    "    \"habitatDescription\",\n",
    "    \"additionalBiodiversityValues\",\n",
    "    \"howIsTheSiteManaged\",\n",
    "    \"landUseRegimesAtSite\",\n",
    "    \"indigenousGroups\"\n",
    "\n",
    "]\n",
    "\n",
    "USER_PROMPT = \"\"\"Describe the portfolio of KBAs.\"\"\"\n",
    "\n",
    "# Interact with ChatGPT\n",
    "response = chat_with_gpt(api_key=API_KEY, prompt=USER_PROMPT, system_prompt=SYSTEM_PROMPT, df=congo_portfolio[info_columns+data_columns])\n",
    "if response:\n",
    "    print(f\"> {USER_PROMPT}\\n\\n\")\n",
    "    show_markdown(response)"
   ]
  },
  {
   "cell_type": "code",
   "execution_count": 138,
   "id": "78974caf-20a3-4a1f-96b8-1d9641de93e1",
   "metadata": {},
   "outputs": [
    {
     "name": "stdout",
     "output_type": "stream",
     "text": [
      "> Which areas are managed by indigenous groups?\n",
      "\n",
      "\n"
     ]
    },
    {
     "data": {
      "text/markdown": [
       "Based on the data provided, none of the Key Biodiversity Areas (KBAs) within the Democratic Republic of the Congo explicitly mention management by indigenous groups. These areas are primarily managed by local communities, conservation organizations, or government entities. Community-based management is evident in several KBAs, highlighting collaborative efforts between local communities and conservation organizations or governmental bodies. Additionally, while the data notes the presence of local communities and their rights to land use, it does not specifically state that any of these communities are indigenous groups."
      ],
      "text/plain": [
       "<IPython.core.display.Markdown object>"
      ]
     },
     "metadata": {},
     "output_type": "display_data"
    }
   ],
   "source": [
    "USER_PROMPT = \"\"\"Which areas are managed by indigenous groups?\"\"\"\n",
    "\n",
    "# Interact with ChatGPT\n",
    "response = chat_with_gpt(api_key=API_KEY, prompt=USER_PROMPT, system_prompt=SYSTEM_PROMPT, df=congo_portfolio[info_columns+data_columns])\n",
    "if response:\n",
    "    print(f\"> {USER_PROMPT}\\n\\n\")\n",
    "    show_markdown(response)"
   ]
  },
  {
   "cell_type": "code",
   "execution_count": 139,
   "id": "28f7c721-c999-48f9-9d32-23ff5c10dd69",
   "metadata": {},
   "outputs": [
    {
     "name": "stdout",
     "output_type": "stream",
     "text": [
      "> Are there any common themes in how the areas are managed?\n",
      "\n",
      "\n"
     ]
    },
    {
     "data": {
      "text/markdown": [
       "The Key Biodiversity Areas (KBAs) in the **Democratic Republic of the Congo** exhibit several common themes in their management approaches, reflecting a blend of community involvement, conservation priorities, and regulatory frameworks.\n",
       "\n",
       "Firstly, there is a strong emphasis on community involvement and governance in the management of these KBAs. Many areas, such as the **Nkuba Conservation Area** and the **Oku Community Reserve**, are managed through collaborative efforts between local communities and conservation organizations. These areas often operate under community forestry frameworks, ensuring that local communities are engaged in decision-making processes and benefit from sustainable land use practices. For example, the **Nkuba Conservation Area** is managed by the Dian Fossey Gorilla Fund in collaboration with local communities, highlighting a model of community-based conservation that aims to protect biodiversity while supporting local livelihoods.\n",
       "\n",
       "Secondly, the management of these KBAs often involves partnerships between local, national, and international organizations. The **Usala Gorilla Reserve** is managed by the Union of Gorilla Conservation Associations for Community Development in Eastern Congo (UGADEC), in collaboration with the Congolese Institute for the Conservation of Nature (ICCN). This collaboration underscores the importance of leveraging expertise and resources from diverse stakeholders to enhance conservation outcomes.\n",
       "\n",
       "Moreover, the management strategies frequently incorporate surveillance and anti-poaching efforts to protect wildlife. For instance, the **Swa-Kibula Hunting Domain** employs eco-guards and collaborates with traditional leaders to ensure the sustainable use of natural resources and to combat illegal activities such as poaching.\n",
       "\n",
       "In terms of regulatory frameworks, many of these areas adhere to national conservation laws and policies, such as those governing community forestry and hunting domains. This legal backing provides a structure within which conservation activities can be conducted, ensuring that land use is regulated and aligns with broader conservation goals.\n",
       "\n",
       "Overall, the KBAs in the **Democratic Republic of the Congo** demonstrate a comprehensive approach to conservation that integrates community participation, collaborative management, and adherence to national conservation policies, all of which are pivotal in sustaining the ecological and socio-economic values of these vital areas."
      ],
      "text/plain": [
       "<IPython.core.display.Markdown object>"
      ]
     },
     "metadata": {},
     "output_type": "display_data"
    }
   ],
   "source": [
    "USER_PROMPT = \"\"\"Are there any common themes in how the areas are managed?\"\"\"\n",
    "\n",
    "# Interact with ChatGPT\n",
    "response = chat_with_gpt(api_key=API_KEY, prompt=USER_PROMPT, system_prompt=SYSTEM_PROMPT, df=congo_portfolio[info_columns+data_columns])\n",
    "if response:\n",
    "    print(f\"> {USER_PROMPT}\\n\\n\")\n",
    "    show_markdown(response)"
   ]
  },
  {
   "cell_type": "code",
   "execution_count": 140,
   "id": "3cac969a-e228-4adf-b7c6-26863c983f64",
   "metadata": {},
   "outputs": [
    {
     "name": "stdout",
     "output_type": "stream",
     "text": [
      "> Which is the largest area?\n",
      "\n",
      "\n"
     ]
    },
    {
     "data": {
      "text/markdown": [
       "The largest area among the provided Key Biodiversity Areas (KBAs) is the **North Ubangi Forest** in the **Democratic Republic of the Congo**, covering an extensive 20335.5 square kilometers. This KBA is located in the northeastern part of the country and is part of the Northeastern Congolian lowland forests ecoregion, which is recognized as one of the 200 globally significant ecoregions. The habitat is characterized by dense humid forests, which transition from evergreen to semi-deciduous types, and include floodplain and swamp forests along the river systems. These forests are floristically rich and support a wide range of biodiversity, including species such as the endangered **forest elephant** (_Loxodonta cyclotis_), **okapi** (_Okapia johnshoni_), and various duiker species. The area experiences a tropical climate with annual rainfall between 1,500 and 1,600 mm. Despite its ecological significance, the KBA currently lacks formal management and protection structures, although it has been identified as a priority area for conservation efforts.\n",
       "\n",
       "In terms of vegetation, the **North Ubangi Forest** has a tree cover extent of approximately 240,637 hectares, which results in a tree cover percentage of about 94% of its total area. This high percentage indicates a densely forested environment that is crucial for the conservation of the region's biodiversity."
      ],
      "text/plain": [
       "<IPython.core.display.Markdown object>"
      ]
     },
     "metadata": {},
     "output_type": "display_data"
    }
   ],
   "source": [
    "USER_PROMPT = \"\"\"Which is the largest area?\"\"\"\n",
    "\n",
    "# Interact with ChatGPT\n",
    "response = chat_with_gpt(api_key=API_KEY, prompt=USER_PROMPT, system_prompt=SYSTEM_PROMPT, df=congo_portfolio[info_columns+data_columns])\n",
    "if response:\n",
    "    print(f\"> {USER_PROMPT}\\n\\n\")\n",
    "    show_markdown(response)"
   ]
  },
  {
   "cell_type": "markdown",
   "id": "d1aa63d0-443a-4b7f-ac87-ca2e2c069a5c",
   "metadata": {},
   "source": [
    "## Threats to biodiversity"
   ]
  },
  {
   "cell_type": "code",
   "execution_count": 142,
   "id": "2227c657-1d4f-47e5-8aa6-05681fc89c44",
   "metadata": {},
   "outputs": [
    {
     "name": "stdout",
     "output_type": "stream",
     "text": [
      "> Describe the threats and pressures to my portfolio of KBAs.\n",
      "\n",
      "\n"
     ]
    },
    {
     "data": {
      "text/markdown": [
       "The portfolio of Key Biodiversity Areas (KBAs) located in the **Democratic Republic of the Congo** encompasses a range of ecologically significant regions, each facing unique threats and pressures. These areas are characterized by diverse habitats and notable biodiversity, which are under threat from human activities and environmental changes.\n",
       "\n",
       "The **Nkuba Conservation Area** and **Kasongo Zone** are expansive forested regions that play critical roles in maintaining ecological corridors and biodiversity. The **Nkuba Conservation Area**, in particular, is a primary tropical rainforest habitat home to a vast array of species, including the vulnerable African golden cat (*Caracal aurata*) and the endangered giant pangolin (*Smutsia gigantea*). These forests are facing threats from deforestation, primarily due to mining activities and temporary hunting camps. The **Kasongo Zone**, with its dense forests and savannas, supports high biodiversity, including various primates and ungulates. However, the lack of advanced research means that specific threats may not be fully documented, though deforestation and habitat conversion are ongoing concerns.\n",
       "\n",
       "The **North Ubangi Forest** is part of a globally prioritized ecoregion, predominantly covered by dense humid forests. This area supports species such as the critically endangered African forest elephant (*Loxodonta cyclotis*) and the endangered Okapi (*Okapia johnshoni*). The encroachment of agricultural activities and the expansion of agricultural complexes are significant threats, leading to habitat fragmentation and loss.\n",
       "\n",
       "The **Usala Gorilla Reserve** and **Oku Community Reserve** focus on the conservation of the Grauer's gorilla, with the **Oku Community Reserve** situated in a low-altitude forest providing essential habitat for this species. These reserves are threatened by deforestation due to agricultural expansion and artisanal mining, exacerbating the risk to already endangered species.\n",
       "\n",
       "The **Lubudi-Sampwe Hunting Domain** and **Bomu Wildlife and Hunting Reserve** are characterized by savanna ecosystems with interspersed forest galleries. These areas face significant pressures from land conversion for agriculture and artisanal mining, which threaten the integrity of these habitats. The **Bomu Wildlife and Hunting Reserve** also hosts the vulnerable African softshell turtle (*Trionyx triunguis*), which is at risk due to habitat degradation and exploitation.\n",
       "\n",
       "The **Swa-Kibula Hunting Domain**, a savanna-dominated landscape, is similarly threatened by agricultural encroachment and habitat conversion. This area is home to the critically endangered forest elephant and other species like the hippopotamus (*Hippopotamus amphibius*), which are vulnerable to habitat loss and human-wildlife conflict.\n",
       "\n",
       "Overall, deforestation is a pervasive threat across these KBAs. For instance, the **Kasongo Zone** has experienced substantial tree cover loss, with a calculated total deforestation intensity of approximately 1.36%. The **North Ubangi Forest** and **Usala Gorilla Reserve** also demonstrate notable deforestation trends, with total deforestation intensities of 0.39% and 0.21%, respectively. The **Bomu Wildlife and Hunting Reserve** shows a total deforestation intensity of 0.15%, highlighting the varying degrees of forest loss across these areas.\n",
       "\n",
       "In summary, the most significant threats to these KBAs include deforestation driven by agricultural expansion and mining activities, leading to habitat loss and fragmentation. The most at-risk species, based on current deforestation trends and pressures, include the Grauer's gorilla, African forest elephant, and Okapi, which face the dual threats of habitat destruction and human encroachment. Immediate conservation efforts are essential to mitigate these pressures and preserve the rich biodiversity that these KBAs support."
      ],
      "text/plain": [
       "<IPython.core.display.Markdown object>"
      ]
     },
     "metadata": {},
     "output_type": "display_data"
    }
   ],
   "source": [
    "SYSTEM_PROMPT = \"\"\"\n",
    "You are a helpful data analysis assistant that produces insights against KBAs, supported by data analysis from the provided csv.\n",
    "Your responses should be scientific and informative in tone, and structured as a summary report.\n",
    "Do not use bullet points. Do not comment on individual KBAs.\n",
    "\n",
    "Format country and place names in bold.\n",
    "Format habitats names in bold.\n",
    "Format species names in italics, and refer to its common name where possible.\n",
    "\n",
    "You describe the user portfolio as a whole using the following information found in the data:\n",
    " - Use siteDescription for general info about the KBA\n",
    " - Use habitatDescription to describe the habitats present\n",
    " - Use additionalBiodiversityValues for more detailed species info \n",
    " - Use pa/OecmCoverage(%) to describe the amount of area being conserved, if known\n",
    " - Use threatsDescription to describe threats to natural ecosystems and biodiveristy\n",
    "\n",
    "Also include the following data in your description:\n",
    " - area__ha: the size of individual KBA in hectares\n",
    " - umd_tree_cover_loss_20{i}__ha: the annual tree cover loss where 2000<i≤2023\n",
    "\n",
    "Comment on general threats to biodiversity, highlighting the most at-risk species, and the biggest threats they face.\n",
    "Finally, close by naming the most at risk species, based on recent trends in deforestation intensity and other descriptive data.\n",
    "Include some tree cover loss calculations and trends in the response where appropriate.\n",
    "\n",
    "Include total deforestation intensity (sum of annual loss/umd_tree_cover_extent_2000__ha) in the response.\n",
    "Comment on trends in tree cover loss over time where relevant.\n",
    "\"\"\"\n",
    "\n",
    "data_columns =  [\"umd_tree_cover_extent_2000__ha\"] + [f\"umd_tree_cover_loss_{i}__ha\" for i in range(2001,2024)]\n",
    "info_columns = [\n",
    "     \"Country\",\n",
    "     \"IntName\",\n",
    "    \"sitecode\",\n",
    "    \"pa/OecmCoverage(%)\",\n",
    "    \"siteDescription\",\n",
    "    \"habitatDescription\",\n",
    "    \"additionalBiodiversityValues\",\n",
    "]\n",
    "\n",
    "USER_PROMPT = \"\"\"Describe the threats and pressures to my portfolio of KBAs.\"\"\"\n",
    "\n",
    "# Interact with ChatGPT\n",
    "response = chat_with_gpt(api_key=API_KEY, prompt=USER_PROMPT, system_prompt=SYSTEM_PROMPT, df=congo_portfolio[info_columns+data_columns])\n",
    "if response:\n",
    "    print(f\"> {USER_PROMPT}\\n\\n\")\n",
    "    show_markdown(response)"
   ]
  },
  {
   "cell_type": "code",
   "execution_count": 144,
   "id": "41c8eae5-a224-48f7-a755-393fb7516f8b",
   "metadata": {},
   "outputs": [
    {
     "name": "stdout",
     "output_type": "stream",
     "text": [
      "> Which single KBA should I focus my conservation efforts on and why?\n",
      "\n",
      "\n"
     ]
    },
    {
     "data": {
      "text/markdown": [
       "The **Kasongo Zone** in the **Democratic Republic of the Congo** stands out as a significant area for focused conservation efforts. This KBA is characterized by its extensive size of 1,031,955 hectares and a rich diversity of habitats, including dense forests and wooded savannas. These habitats support a range of small primates and ungulates, such as the *Cercopithecus ascanius* (red-tailed monkey), *Cercopithecus mitis* (blue monkey), *Cercopithecus mona* (Mona monkey), *Tragelaphus scriptus* (bushbuck), *Tragelaphus spekei* (sitatunga), and *Cephalophus dorsalis* (bay duiker).\n",
       "\n",
       "Despite the rich biodiversity, the **Kasongo Zone** faces significant challenges regarding deforestation. The analysis of tree cover loss from 2001 to 2023 reveals a troubling trend, with a total tree cover loss of 142,559 hectares, which equates to a deforestation intensity of approximately 13.82%. Notably, the years 2015, 2016, and 2018 witnessed particularly high levels of deforestation, with losses peaking at 18,364 hectares in 2016. This trend indicates ongoing pressure on the natural habitats, likely driven by human activities such as agriculture and logging.\n",
       "\n",
       "The conservation value of the **Kasongo Zone** is further underscored by the presence of diverse fauna, yet the absence of advanced research on this site poses a barrier to fully understanding and mitigating the threats. The continuous loss of tree cover exacerbates the vulnerability of this area's ecosystems and species, making it imperative to implement conservation strategies promptly.\n",
       "\n",
       "Given these factors, the **Kasongo Zone** should be prioritized for conservation efforts. The focus should be on mitigating deforestation and conducting comprehensive biodiversity assessments to guide effective conservation actions. The efforts would not only protect the existing biodiversity but also contribute to the long-term ecological stability of the region."
      ],
      "text/plain": [
       "<IPython.core.display.Markdown object>"
      ]
     },
     "metadata": {},
     "output_type": "display_data"
    }
   ],
   "source": [
    "USER_PROMPT = \"\"\"Which single KBA should I focus my conservation efforts on and why?\"\"\"\n",
    "\n",
    "# Interact with ChatGPT\n",
    "response = chat_with_gpt(api_key=API_KEY, prompt=USER_PROMPT, system_prompt=SYSTEM_PROMPT, df=congo_portfolio[info_columns+data_columns])\n",
    "if response:\n",
    "    print(f\"> {USER_PROMPT}\\n\\n\")\n",
    "    show_markdown(response)"
   ]
  },
  {
   "cell_type": "code",
   "execution_count": 145,
   "id": "f3140c1e-a323-4d2f-94d9-78b8c8836410",
   "metadata": {},
   "outputs": [
    {
     "name": "stdout",
     "output_type": "stream",
     "text": [
      "> Which single KBA should I focus my conservation efforts on and why? Be succinct.\n",
      "\n",
      "\n"
     ]
    },
    {
     "data": {
      "text/markdown": [
       "Based on the available data, the **Nkuba Conservation Area** in the **Democratic Republic of the Congo** warrants focused conservation efforts. This area, spanning approximately 235,502 hectares, is a significant ecological corridor between two national parks, fostering a rich biodiversity. It is home to several key species, including the critically endangered Grauer's gorilla (*Gorilla beringei graueri*) and other important fauna such as the African forest elephant (*Loxodonta cyclotis*) and the leopard (*Panthera pardus*). The area has experienced notable tree cover loss, particularly in recent years, with deforestation intensifying, as seen in the increasing tree cover loss of 83.6 hectares in 2023 compared to previous years. The total deforestation intensity is approximately 0.0279, indicating ongoing deforestation threats. The absence of motorable roads and predominantly temporary human settlements suggest an opportunity for effective conservation interventions that could mitigate habitat loss and preserve this critical biodiversity hotspot. Given these factors, prioritizing conservation efforts here could significantly impact the preservation of unique species and their habitats."
      ],
      "text/plain": [
       "<IPython.core.display.Markdown object>"
      ]
     },
     "metadata": {},
     "output_type": "display_data"
    }
   ],
   "source": [
    "USER_PROMPT = \"\"\"Which single KBA should I focus my conservation efforts on and why? Be succinct.\"\"\"\n",
    "\n",
    "# Interact with ChatGPT\n",
    "response = chat_with_gpt(api_key=API_KEY, prompt=USER_PROMPT, system_prompt=SYSTEM_PROMPT, df=congo_portfolio[info_columns+data_columns])\n",
    "if response:\n",
    "    print(f\"> {USER_PROMPT}\\n\\n\")\n",
    "    show_markdown(response)"
   ]
  },
  {
   "cell_type": "code",
   "execution_count": 146,
   "id": "287f14db-f93d-4a56-a70b-bf819391614c",
   "metadata": {},
   "outputs": [
    {
     "name": "stdout",
     "output_type": "stream",
     "text": [
      "> Which single species is most under threat and why? Be succinct\n",
      "\n",
      "\n"
     ]
    },
    {
     "data": {
      "text/markdown": [
       "The **Usala Gorilla Reserve** and **Oku Community Reserve** in the **Democratic Republic of the Congo** are critical habitats for the Grauer's Gorilla (_Gorilla beringei graueri_), a species that is notably under threat. The Grauer's Gorilla is facing significant pressure due to habitat destruction, notably from deforestation activities. In the Usala Gorilla Reserve, the data shows a concerning trend of increasing tree cover loss, particularly from 2016 onwards, with losses peaking in recent years. The total deforestation intensity in this area is quite high, reflecting a rapid degradation of habitat which is critical for the survival of this species. Given the gorilla's already limited range and the critical nature of forest habitats for their survival, continued deforestation poses an imminent threat to their future."
      ],
      "text/plain": [
       "<IPython.core.display.Markdown object>"
      ]
     },
     "metadata": {},
     "output_type": "display_data"
    }
   ],
   "source": [
    "USER_PROMPT = \"\"\"Which single species is most under threat and why? Be succinct\"\"\"\n",
    "\n",
    "# Interact with ChatGPT\n",
    "response = chat_with_gpt(api_key=API_KEY, prompt=USER_PROMPT, system_prompt=SYSTEM_PROMPT, df=congo_portfolio[info_columns+data_columns])\n",
    "if response:\n",
    "    print(f\"> {USER_PROMPT}\\n\\n\")\n",
    "    show_markdown(response)"
   ]
  },
  {
   "cell_type": "code",
   "execution_count": 147,
   "id": "2afbf2f5-c515-475c-92b1-43be4f71d145",
   "metadata": {},
   "outputs": [
    {
     "name": "stdout",
     "output_type": "stream",
     "text": [
      "> Which single habitat is most under threat and why? Be succinct\n",
      "\n",
      "\n"
     ]
    },
    {
     "data": {
      "text/markdown": [
       "In the **Democratic Republic of the Congo**, the **tropical moist forests** are under the most significant threat, primarily due to high rates of deforestation. Specifically, the **Nkuba Conservation Area** has experienced notable annual tree cover loss, with a total deforestation intensity of approximately 0.15 over the observed period. In recent years, tree cover loss has accelerated, particularly in 2022 and 2023, indicating an increasing trend of habitat degradation. Such deforestation is largely driven by human activities, including artisanal mining, agriculture, and settlements, which are compounded by the lack of effective conservation measures, as indicated by the absence of protected area coverage in many KBAs. This habitat is crucial for maintaining biodiversity, including critically endangered species such as the **Grauer's gorilla** (*Gorilla beringei graueri*), which is at significant risk due to these environmental pressures."
      ],
      "text/plain": [
       "<IPython.core.display.Markdown object>"
      ]
     },
     "metadata": {},
     "output_type": "display_data"
    }
   ],
   "source": [
    "USER_PROMPT = \"\"\"Which single habitat is most under threat and why? Be succinct\"\"\"\n",
    "\n",
    "# Interact with ChatGPT\n",
    "response = chat_with_gpt(api_key=API_KEY, prompt=USER_PROMPT, system_prompt=SYSTEM_PROMPT, df=congo_portfolio[info_columns+data_columns])\n",
    "if response:\n",
    "    print(f\"> {USER_PROMPT}\\n\\n\")\n",
    "    show_markdown(response)"
   ]
  },
  {
   "cell_type": "code",
   "execution_count": 148,
   "id": "bccbae8b-94db-42f0-b821-eceff72d5e3c",
   "metadata": {},
   "outputs": [
    {
     "name": "stdout",
     "output_type": "stream",
     "text": [
      "> In general, what is the cause of single biggest threat to my portfolio? Provide evidence and be succinct\n",
      "\n",
      "\n"
     ]
    },
    {
     "data": {
      "text/markdown": [
       "The single most significant threat to the biodiversity of the Key Biodiversity Areas (KBAs) in your portfolio in **The Democratic Republic of the Congo** is deforestation and habitat degradation. Evidence from the provided data highlights substantial tree cover loss across multiple sites, indicating deforestation as a critical issue.\n",
       "\n",
       "The **Nkuba Conservation Area**, for example, has experienced a notable increase in annual tree cover loss over the years, with a peak in 2023 at 83.6 hectares lost. Similarly, the **Kasongo Zone** has shown significant deforestation, with tree cover loss reaching 3,730 hectares in 2023. The cumulative effect of such losses is substantial when considering the total forest area at risk across all sites.\n",
       "\n",
       "The **North Ubangi Forest** and the **Usala Gorilla Reserve** also show concerning trends, with the former experiencing up to 4,958 hectares of tree cover loss in a single year (2017), and the latter seeing a gradual increase in deforestation intensity.\n",
       "\n",
       "Overall, the deforestation intensity across the portfolio, calculated as the sum of annual tree cover loss divided by the tree cover extent in 2000, underscores the severity of this threat. The continuous pressure from logging, agricultural expansion, and potentially mining is evident in the data, suggesting that these activities are driving habitat destruction and posing a significant risk to the area's biodiversity, including critically endangered species such as the forest elephants (*Loxodonta cyclotis*) and the Grauer's gorilla (*Gorilla beringei graueri*).\n",
       "\n",
       "In conclusion, the data confirms that deforestation, primarily due to anthropogenic activities, is the primary threat to your portfolio's ecological integrity, leading to habitat loss for numerous species and increased vulnerability of already threatened species."
      ],
      "text/plain": [
       "<IPython.core.display.Markdown object>"
      ]
     },
     "metadata": {},
     "output_type": "display_data"
    }
   ],
   "source": [
    "USER_PROMPT = \"\"\"In general, what is the cause of single biggest threat to my portfolio? Provide evidence and be succinct\"\"\"\n",
    "\n",
    "# Interact with ChatGPT\n",
    "response = chat_with_gpt(api_key=API_KEY, prompt=USER_PROMPT, system_prompt=SYSTEM_PROMPT, df=congo_portfolio[info_columns+data_columns])\n",
    "if response:\n",
    "    print(f\"> {USER_PROMPT}\\n\\n\")\n",
    "    show_markdown(response)"
   ]
  },
  {
   "cell_type": "code",
   "execution_count": 149,
   "id": "bfab35e2-d4e8-4396-8e4e-1053c972471a",
   "metadata": {},
   "outputs": [
    {
     "name": "stdout",
     "output_type": "stream",
     "text": [
      "> Do any of the areas show signs of abatement of deforestation in the last 5 years?\n",
      "\n",
      "\n"
     ]
    },
    {
     "data": {
      "text/markdown": [
       "In reviewing the data on Key Biodiversity Areas (KBAs) in the **Democratic Republic of the Congo**, there is a notable concern regarding deforestation trends over the past decade, with particular focus on the recent five-year period. The **Nkuba Conservation Area** encompasses 2355 km² of varied relief and dense river networks, fostering a rich biodiversity. The primary habitat is comprised of **tropical humid forests**, both primary and secondary, with species such as *Caracal aurata* (African golden cat), *Panthera pardus* (leopard), and the *Smutsia gigantea* (giant pangolin), among others. The area has experienced a total deforestation intensity of approximately 11.3%, with a marked increase in tree cover loss in recent years, culminating in the highest loss recorded in 2023.\n",
       "\n",
       "The **Kasongo Zone**, covering 16544 km², combines **dense forests and wooded savannas**, providing habitat for small primates and ungulates such as *Cercopithecus mitis* (blue monkey) and *Tragelaphus scriptus* (bushbuck). This area has not shown signs of abatement in deforestation, with a steady increase in tree cover loss and a total deforestation intensity of about 17.1%. The loss peaked significantly in 2022 and 2023, indicating ongoing pressure on the forest ecosystems.\n",
       "\n",
       "The **North Ubangi Forest** area is important for its **northeastern Congolian lowland forests**, supporting species like *Cephalophus nigrifrons* (black-fronted duiker) and the critically endangered *Loxodonta cyclotis* (African forest elephant). This area has experienced a deforestation intensity of about 9.1%, with no clear abatement trend in recent years, as losses have remained substantial.\n",
       "\n",
       "In the **Usala Gorilla Reserve**, covering 113374.1 hectares, the habitat includes **equatorial forests and transitional forests**. Despite its smaller size, the reserve has seen a troubling rise in deforestation, with a total intensity of about 10.4%. Particularly concerning is the sharp increase in 2022 and 2023, highlighting the vulnerability of this habitat.\n",
       "\n",
       "The **Oku Community Reserve** also faces significant deforestation challenges, with large areas of **humid forest** critical for the Grauer's gorilla. Despite efforts to protect this area, the total deforestation intensity is about 7.3%, with 2023 seeing a notable increase in tree cover loss, indicating ongoing threats.\n",
       "\n",
       "The **Lubudi-Sampwe Hunting Domain** and the **Swa-Kibula Hunting Domain**, characterized by **miombo woodlands and savannahs**, both show ongoing deforestation issues, with total intensities of 5.5% and 6.9%, respectively. Although these areas are subjected to anthropogenic pressures, including agricultural expansion and hunting, recent years have not demonstrated a reduction in deforestation rates.\n",
       "\n",
       "Lastly, the **Bomu Wildlife and Hunting Reserve**, with a distinct habitat transition from **forests to savannahs**, has a relatively lower deforestation intensity of 3.9%. However, deforestation rates have not decreased significantly in recent years, maintaining a consistent level of habitat pressure.\n",
       "\n",
       "In summary, none of the areas in the **Democratic Republic of the Congo** exhibit clear signs of abatement in deforestation over the last five years. The **Nkuba Conservation Area** and **Kasongo Zone** are particularly at risk, with rising deforestation trends that threaten the habitat and biodiversity, including species like the African golden cat and the critically endangered African forest elephant. The ongoing habitat loss across these KBAs underscores the urgent need for enhanced conservation efforts to mitigate deforestation and protect the region's rich biodiversity."
      ],
      "text/plain": [
       "<IPython.core.display.Markdown object>"
      ]
     },
     "metadata": {},
     "output_type": "display_data"
    }
   ],
   "source": [
    "USER_PROMPT = \"\"\"Do any of the areas show signs of abatement of deforestation in the last 5 years?\"\"\"\n",
    "\n",
    "# Interact with ChatGPT\n",
    "response = chat_with_gpt(api_key=API_KEY, prompt=USER_PROMPT, system_prompt=SYSTEM_PROMPT, df=congo_portfolio[info_columns+data_columns])\n",
    "if response:\n",
    "    print(f\"> {USER_PROMPT}\\n\\n\")\n",
    "    show_markdown(response)"
   ]
  },
  {
   "cell_type": "markdown",
   "id": "96d70e85-b6d3-49de-aaff-59519edb1185",
   "metadata": {},
   "source": [
    "## Ecosystem health, conservation, and restoration"
   ]
  },
  {
   "cell_type": "code",
   "execution_count": 150,
   "id": "be1f0708-6949-4779-9a1a-82e218a4b9ad",
   "metadata": {},
   "outputs": [
    {
     "name": "stdout",
     "output_type": "stream",
     "text": [
      "> Tell me about my portfolio.\n",
      "\n",
      "\n"
     ]
    },
    {
     "data": {
      "text/markdown": [
       "The portfolio of Key Biodiversity Areas (KBAs) in the **Democratic Republic of the Congo** is characterized by a variety of landscapes and habitats, each with unique conservation challenges and opportunities. The following is an analysis focused on the management and restoration efforts of these areas, particularly in terms of natural land restoration and biodiversity conservation.\n",
       "\n",
       "The **Nkuba Conservation Area** is a vast forest block that serves as a critical ecological corridor between the **Kahuzi-Biega** and **Maiko** National Parks. It is dominated by primary lowland and montane tropical rainforests, featuring tree species such as *Gilbertiodendron dewevrei* and *Cynometra alexandri*. The area supports a rich biodiversity including threatened species like the African golden cat (*Caracal aurata*) and the leopard (*Panthera pardus*). Although there is no formal protected area designation, the site is managed as a community forest by the Dian Fossey Gorilla Fund under several collaborative agreements aimed at research, gorilla protection, and biodiversity conservation. The site faces threats from hunting and artisanal mining, and efforts are focused on community engagement and sustainable management to mitigate these impacts. Tree cover data shows a relative stability with a total canopy area of approximately 232,702 hectares and a modest gain of 7.2 hectares, though there are fluctuations in annual losses, peaking in recent years.\n",
       "\n",
       "The **Kasongo Zone** is characterized by dense forests and woodlands, with significant primate and ungulate diversity. It is currently unmanaged but has been identified as a potential conservation area. The community's cultural and religious practices inadvertently protect certain species. The forest area here showed significant tree cover losses, indicating a need for effective management strategies to curb deforestation.\n",
       "\n",
       "The **North Ubangi Forest** is a large expanse of northeastern Congolian lowland forests, important for species such as the forest elephant (*Loxodonta cyclotis*). While unmanaged, it has been recognized for its conservation value. Tree cover here has witnessed fluctuations, with notable losses in recent years, emphasizing the need for concrete management interventions.\n",
       "\n",
       "The **Usala Gorilla Reserve** is a community-initiated reserve in **Nord-Kivu**, focused on the conservation of gorillas. The area is covered by transitional forests and ombrophile terra firma forests. Managed by local conservation associations in collaboration with national conservation authorities, it faces threats from cultural hunting practices. The tree cover data shows minor gains but also periodic losses, suggesting ongoing pressures on the forested landscape.\n",
       "\n",
       "The **Oku Community Reserve** in **Maniema** is a community-managed forest aimed at protecting Grauer's gorillas. The entire site is covered by humid forest, and management is rooted in community forestry regulations. Engagement with local communities for sustainable land use practices is central to its management. The reserve has a relatively stable tree cover with a balance of gains and losses, highlighting effective community management.\n",
       "\n",
       "The **Lubudi-Sampwe Hunting Domain** is a Miombo woodland area nested between two national parks, managed by the national conservation authority with indirect support from surrounding parks. Tree cover data indicates a complex pattern of minor gains and losses over time, reflecting ongoing management and natural dynamics.\n",
       "\n",
       "The **Bomu Wildlife and Hunting Reserve** is a state-managed area with full conservation coverage, supported by international organizations. It includes unique habitats transitioning from forests to savannas. Despite its formal protection status, the area experiences modest tree cover loss, necessitating continued vigilance in management practices.\n",
       "\n",
       "The **Swa-Kibula Hunting Domain** is a protected area with significant forest and savanna cover, managed by the national conservation authority. It benefits from local collaboration for resource management, and while it has experienced some tree cover loss, it remains a critical habitat for species like the forest elephant.\n",
       "\n",
       "Overall, the KBAs in this portfolio are characterized by diverse management structures, from community-led initiatives to state-managed reserves, each facing unique ecological and socio-cultural challenges. Tree cover data indicates varying levels of deforestation pressures, with some areas showing signs of stability or recovery due to effective management practices. The involvement of local communities and integration of traditional practices play a crucial role in the conservation of these biodiverse areas. The focus on sustainable management and restoration efforts is evident, though ongoing threats require continuous adaptive management and support for long-term conservation success."
      ],
      "text/plain": [
       "<IPython.core.display.Markdown object>"
      ]
     },
     "metadata": {},
     "output_type": "display_data"
    }
   ],
   "source": [
    "SYSTEM_PROMPT = \"\"\"\n",
    "You are a helpful data analysis assistant that produces insights against KBAs, supported by data analysis from the provided csv.\n",
    "Your responses should be scientific and informative in tone, and structured as a summary report.\n",
    "Do not use bullet points. Do not comment on individal KBAs.\n",
    "\n",
    "Format country and place names in bold.\n",
    "Format habitats names in bold.\n",
    "Format species names in italics, and refer to its common name where possible.\n",
    "\n",
    "Summarise the how the portfiolio is being manages, focusing on restoration of natural land:\n",
    " - Use siteDescription, howIsTheSiteManaged and landUseRegimesAtSite, indigenousGroups for general info about the KBA\n",
    " - Use habitatDescription to describe the habitats present\n",
    " - Use additionalBiodiversityValues for more detailed species info \n",
    " - Use pa/OecmCoverage(%) to describe the amount of area being conserved, if known\n",
    " - Use threatsDescription to describe threats to natural ecosystems and biodiveristy\n",
    " - landUseRegimesAtSite\n",
    " - howIsTheSiteManaged\n",
    "\n",
    "Also include the following data in your description:\n",
    " - umd_tree_cover_extent_2000__ha: tree canopy cover area in hectares\n",
    " - umd_tree_cover_gain__ha\n",
    " - umd_tree_cover_loss_20{i}__ha: the annual tree cover loss where 2000<i≤2023\n",
    "\n",
    "Comment on how site management is combatting threats and highlighting ways species and habitats benefit.\n",
    "Include some tree cover gain calculations where appropriate, e.g. relative tree cover gain (umd_tree_cover_gain__ha/umd_tree_cover_extent_2000__ha) or\n",
    "downard trends in deforestation in recent years as indicators of recovery.\n",
    "\"\"\"\n",
    "\n",
    "data_columns =  [\"umd_tree_cover_extent_2000__ha\", \"umd_tree_cover_gain__ha\"] + [f\"umd_tree_cover_loss_{i}__ha\" for i in range(2001,2024)]\n",
    "info_columns = [\n",
    "     \"Country\",\n",
    "     \"IntName\",\n",
    "    \"sitecode\",\n",
    "    \"pa/OecmCoverage(%)\",\n",
    "    \"siteDescription\",\n",
    "    \"habitatDescription\",\n",
    "    \"additionalBiodiversityValues\",\n",
    "    \"landUseRegimesAtSite\",\n",
    "    \"howIsTheSiteManaged\",\n",
    "    \"indigenousGroups\",\n",
    "]\n",
    "\n",
    "USER_PROMPT = \"\"\"Tell me about my portfolio.\"\"\"\n",
    "\n",
    "# Interact with ChatGPT\n",
    "response = chat_with_gpt(api_key=API_KEY, prompt=USER_PROMPT, system_prompt=SYSTEM_PROMPT, df=congo_portfolio[info_columns+data_columns])\n",
    "if response:\n",
    "    print(f\"> {USER_PROMPT}\\n\\n\")\n",
    "    show_markdown(response)"
   ]
  },
  {
   "cell_type": "code",
   "execution_count": 151,
   "id": "255d8cb3-537f-4b12-8598-d03d5ac2e5c9",
   "metadata": {},
   "outputs": [
    {
     "name": "stdout",
     "output_type": "stream",
     "text": [
      "> Are there signs of restoration in my portfolio? Be succinct.\n",
      "\n",
      "\n"
     ]
    },
    {
     "data": {
      "text/markdown": [
       "The portfolio of Key Biodiversity Areas (KBAs) in the **Democratic Republic of the Congo** (DRC) reveals various management strategies aimed at conserving biodiversity, albeit with varying degrees of coverage and effectiveness. The **Nkuba Conservation Area** is a notable example of a community-managed conservation initiative. It includes a vast expanse of primary tropical rainforest and is managed by the Dian Fossey Gorilla Fund in collaboration with local communities, focusing on scientific research and the protection of gorillas and other biodiversity. Despite this, the area faces significant threats such as mining and hunting. The forest cover data indicates a total tree canopy extent of approximately 232,702 hectares in 2000, with a modest tree cover gain of about 7.2 hectares over the years, and fluctuating annual losses, peaking in recent years, suggesting ongoing challenges in forest restoration.\n",
       "\n",
       "In contrast, the **Kasongo Zone** and **North Ubangi Forest** do not currently have designated conservation management but are recognized as areas of interest. These areas are predominantly covered by dense forests and savannahs, supporting a variety of primates and ungulates. The tree cover data for Kasongo Zone indicates a significant extent of approximately 502,982 hectares. However, substantial annual losses, particularly in the mid-2010s, highlight ongoing deforestation pressures. Similarly, the North Ubangi Forest, with an initial tree cover of approximately 240,637 hectares, shows a consistent pattern of loss, underscoring the need for effective conservation interventions.\n",
       "\n",
       "The **Usala Gorilla Reserve** is a community-managed area with a focus on gorilla conservation, involving local associations in collaboration with national conservation institutions. The reserve's management aims to balance conservation efforts with local community rights, though it faces cultural hunting practices affecting certain species. The tree cover data shows a modest extent of about 113,374 hectares in 2000, with minimal gain and consistent losses, indicating a need for stronger restoration measures.\n",
       "\n",
       "In the **Oku Community Reserve**, community-led management is in place, supported by international NGOs, with a focus on conserving Grauer's gorillas. The reserve has seen some positive engagement with local communities in conservation decision-making. The tree cover data, with an initial extent of 121,246 hectares, shows minimal gain and loss, suggesting a relatively stable forest cover, though ongoing monitoring is essential.\n",
       "\n",
       "The **Lubudi-Sampwe Hunting Domain** and the **Bomu Wildlife and Hunting Reserve** are state-managed areas under the Institut Congolais pour la Conservation de la Nature (ICCN), with no direct community management but benefiting from surrounding conservation efforts. The Bomu Reserve, in particular, shows complete protection coverage (100%), yet faces challenges from agricultural expansion and resource extraction. Tree cover data for Bomu indicates an initial extent of 355,173 hectares, with minor gains and significant losses, highlighting the need for enhanced restoration strategies.\n",
       "\n",
       "Overall, while there are efforts towards community involvement and scientific collaboration in certain areas, challenges remain, particularly regarding deforestation and resource extraction. Effective restoration requires not only maintaining existing forest cover but also enhancing it through reforestation and sustainable land-use practices. Enhanced collaboration between state, community, and international stakeholders is crucial for achieving long-term conservation goals."
      ],
      "text/plain": [
       "<IPython.core.display.Markdown object>"
      ]
     },
     "metadata": {},
     "output_type": "display_data"
    }
   ],
   "source": [
    "USER_PROMPT = \"\"\"Are there signs of restoration in my portfolio? Be succinct.\"\"\"\n",
    "\n",
    "# Interact with ChatGPT\n",
    "response = chat_with_gpt(api_key=API_KEY, prompt=USER_PROMPT, system_prompt=SYSTEM_PROMPT, df=congo_portfolio[info_columns+data_columns])\n",
    "if response:\n",
    "    print(f\"> {USER_PROMPT}\\n\\n\")\n",
    "    show_markdown(response)"
   ]
  },
  {
   "cell_type": "code",
   "execution_count": 153,
   "id": "8c7e4602-97f8-424f-9337-27dee0134e46",
   "metadata": {},
   "outputs": [
    {
     "name": "stdout",
     "output_type": "stream",
     "text": [
      "> Which area is the showing the most recovery of natural lands. Be succinct.\n",
      "\n",
      "\n"
     ]
    },
    {
     "data": {
      "text/markdown": [
       "The **Oku Community Reserve** in the Democratic Republic of **Congo** shows signs of recovery in natural lands, evidenced by its relatively low tree cover loss and consistent management efforts. With an initial tree canopy cover of approximately 121,246 hectares in 2000, the site recorded a tree cover gain of 7,074 hectares. Tree cover loss has been minimal in recent years, particularly between 2001 and 2023, with annual losses often below 10 hectares. This indicates effective management and conservation practices. \n",
       "\n",
       "The reserve is managed exclusively by local communities under the guidelines of community forestry laws in the Democratic Republic of **Congo**, with plans to establish a wildlife reserve supported by the Wildlife Conservation Society. The land use is regulated to ensure sustainable practices, and the local governance structure involves community consultations, aligning with the principles of free, prior, and informed consent. These efforts contribute to the protection and conservation of critical habitats for species such as the Grauer's gorilla (*Gorilla beringei graueri*) and other primates, which are critical for maintaining biodiversity within the reserve. \n",
       "\n",
       "Overall, the combination of community-driven management, minimal tree cover loss, and strategic conservation initiatives positions the **Oku Community Reserve** as an area demonstrating significant recovery and resilience in its natural landscapes."
      ],
      "text/plain": [
       "<IPython.core.display.Markdown object>"
      ]
     },
     "metadata": {},
     "output_type": "display_data"
    }
   ],
   "source": [
    "USER_PROMPT = \"\"\"Which area is the showing the most recovery of natural lands. Be succinct.\"\"\"\n",
    "\n",
    "# Interact with ChatGPT\n",
    "response = chat_with_gpt(api_key=API_KEY, prompt=USER_PROMPT, system_prompt=SYSTEM_PROMPT, df=congo_portfolio[info_columns+data_columns])\n",
    "if response:\n",
    "    print(f\"> {USER_PROMPT}\\n\\n\")\n",
    "    show_markdown(response)"
   ]
  },
  {
   "cell_type": "markdown",
   "id": "52ba3ebe-1806-42ea-8595-78e5b9439a52",
   "metadata": {},
   "source": [
    "# Andes Portfolio"
   ]
  },
  {
   "cell_type": "markdown",
   "id": "7e867adb-89d8-45d3-8862-08598bdeb9ae",
   "metadata": {},
   "source": [
    "## Describe Portfolio"
   ]
  },
  {
   "cell_type": "code",
   "execution_count": 154,
   "id": "931607fc-9da1-48dd-9d76-628c665130bf",
   "metadata": {},
   "outputs": [
    {
     "name": "stdout",
     "output_type": "stream",
     "text": [
      "> Describe the portfolio of KBAs.\n",
      "\n",
      "\n"
     ]
    },
    {
     "data": {
      "text/markdown": [
       "The portfolio of Key Biodiversity Areas (KBAs) encompasses a diverse range of ecosystems and habitats across several South American countries, including **Bolivia**, **Colombia**, **Ecuador**, and **Peru**. Each KBA is characterized by unique ecological features, significant biodiversity, and varying degrees of conservation coverage.\n",
       "\n",
       "In **Bolivia**, the Tunari KBA is centrally located near **Cochabamba** and features a dry climate with varied vegetation due to its altitudinal range. Habitats include grasslands, wetlands, and both native kewiña forests and exotic pine and eucalyptus plantations. The area supports reforestation projects aimed at recovering native forests and protecting water resources. With 100% of the area under conservation, the KBA is managed by Bolivia's National Protected Areas Service and local communities, who engage in agriculture and livestock activities. The site is notable for endemic bird species such as the Cochabamba Mountain Finch (*Poospiza garleppi*), highlighting its critical conservation value.\n",
       "\n",
       "**Colombia** hosts two significant KBAs: Eastern Risaralda Forests and Galeras Flora and Fauna Sanctuary. Eastern Risaralda, with 97.8% conservation coverage, is situated in the **Central Mountain Range** and is vital for water regulation. It consists mainly of premontane and montane forests with a rich avian diversity, including the Andean Bear (*Tremarctos ornatus*) and Mountain Tapir (*Tapirus pinchaque*). Galeras Sanctuary, with 98.4% coverage, is part of the **Andes mountain range** and features cloud forests, páramos, and diverse plant communities. It is a key habitat for species such as the Crescent-faced Antpitta (*Grallaricula lineifrons*).\n",
       "\n",
       "In **Peru**, several KBAs illustrate the ecological richness and conservation challenges. The Nor Yauyos Cochas Reserve is a large, high-altitude area with various ecosystems such as wet puna grasslands and Andean shrublands, with 65% conservation coverage. Other notable Peruvian KBAs include the Bosque de Protección San Matías San Carlos, which is predominantly forested and managed by the National Service of Protected Natural Areas, and the Virrilá Estuary, recognized as a RAMSAR site for its exceptional shorebird populations and diverse wetland habitats.\n",
       "\n",
       "In **Ecuador**, the Engabao-Engunga-Zapotal-Olmedo KBA represents a coastal ecosystem with deciduous forests influenced by arid conditions. Despite lacking formal conservation coverage, community efforts contribute to the protection and management of these forests.\n",
       "\n",
       "Across the portfolio, habitats range from high-altitude grasslands and montane forests to lower elevation wetlands and coastal ecosystems. The KBAs collectively cover vast areas, with the largest being the Nor Yauyos Cochas Reserve in **Peru**. Tree cover varies significantly, with areas like the Eastern Risaralda Forests in **Colombia** maintaining over 98% tree cover, indicative of well-preserved forest ecosystems. Conversely, areas such as the Virrilá Estuary in **Peru** primarily consist of non-forested habitats, reflecting their unique ecological compositions.\n",
       "\n",
       "Overall, the portfolio highlights the critical role these KBAs play in conserving regional biodiversity, supporting endemic species, and maintaining ecological processes. Conservation management varies, with some areas benefiting from robust governmental and community engagement, while others rely on informal protection measures. The presence of indigenous groups, such as the Quechua and Aymara in **Bolivia**, underscores the importance of integrating traditional knowledge and practices into conservation strategies."
      ],
      "text/plain": [
       "<IPython.core.display.Markdown object>"
      ]
     },
     "metadata": {},
     "output_type": "display_data"
    }
   ],
   "source": [
    "SYSTEM_PROMPT = \"\"\"\n",
    "You are a helpful data analysis assistant that produces insights against KBAs, supported by data analysis from the provided csv.\n",
    "Your responses should be scientific and informative in tone, and structured as a summary report.\n",
    "Do not use bullet points. Do not comment on individual KBAs.\n",
    "\n",
    "Format country and place names in bold.\n",
    "Format habitats names in bold.\n",
    "Format species names in italics, and refer to its common name where possible.\n",
    "\n",
    "You describe the user portfolio as a whole using the following information found in the data:\n",
    " - Use siteDescription, howIsTheSiteManaged and landUseRegimesAtSite, indigenousGroups for general info about the KBA\n",
    " - Use habitatDescription to describe the habitats present\n",
    " - Use additionalBiodiversityValues for more detailed species info \n",
    " - Use pa/OecmCoverage(%) to describe the amount of area being conserved, if known\n",
    "\n",
    "Also include the following data in your description:\n",
    " - area__ha: the size of individual KBA in hectares\n",
    " - umd_tree_cover_extent_2000__ha: the tree cover extent in hectares\n",
    "\n",
    "Comment on the dominant species and habitats present across the portfolio, the state of natural ecosystems.\n",
    "Include some simple tree cover calculations in the response where appropriate \n",
    "e.g. tree cover % (umd_tree_cover_extent_2000__ha/area__ha) in the response, rounded to the nearest whole number.\n",
    "\"\"\"\n",
    "\n",
    "data_columns =  [\"area__ha\", \"umd_tree_cover_extent_2000__ha\"]\n",
    "info_columns = [\n",
    "    \"Region\",\n",
    "    \"Country\",\n",
    "    \"IntName\",\n",
    "    \"sitecode\",\n",
    "    \"ecosystems\",\n",
    "    \"pa/OecmCoverage(%)\",\n",
    "    \"siteDescription\",\n",
    "    \"habitatDescription\",\n",
    "    \"additionalBiodiversityValues\",\n",
    "    \"howIsTheSiteManaged\",\n",
    "    \"landUseRegimesAtSite\",\n",
    "    \"indigenousGroups\"\n",
    "\n",
    "]\n",
    "\n",
    "USER_PROMPT = \"\"\"Describe the portfolio of KBAs.\"\"\"\n",
    "\n",
    "# Interact with ChatGPT\n",
    "response = chat_with_gpt(api_key=API_KEY, prompt=USER_PROMPT, system_prompt=SYSTEM_PROMPT, df=andes_portfolio[info_columns+data_columns])\n",
    "if response:\n",
    "    print(f\"> {USER_PROMPT}\\n\\n\")\n",
    "    show_markdown(response)"
   ]
  },
  {
   "cell_type": "code",
   "execution_count": 155,
   "id": "ad041056-500b-43c2-9a64-d410ab2cc4ca",
   "metadata": {},
   "outputs": [
    {
     "name": "stdout",
     "output_type": "stream",
     "text": [
      "> Which areas are managed by indigenous groups?\n",
      "\n",
      "\n"
     ]
    },
    {
     "data": {
      "text/markdown": [
       "Within the portfolio of Key Biodiversity Areas (KBAs), indigenous groups are involved in the management of certain areas, contributing significantly to the conservation and sustainable use of biodiversity.\n",
       "\n",
       "In **Bolivia**, the **Tunari** KBA is influenced by the presence of **Quechua and Aymara communities**. The area is characterized by a dry climate and varied vegetation due to a wide altitudinal range. The area supports grasslands, small wetlands with aquatic organisms, and woody relics of *Polylepis besseri*. The site is under governmental management with significant involvement from local communities who have control groups to prevent environmental crimes. The agricultural practices in the region include the cultivation of potatoes, wheat, quinoa, barley, beans, and mainly peas, and sheep grazing is prevalent. Community participation plays a crucial role in biodiversity conservation and the management of natural resources.\n",
       "\n",
       "In **Bolivia**, the **Tacacoma-Quiabaya and Sorata Valley** KBA is inhabited by **Aymara and mestizo populations**. The region, with its vast altitudinal range, hosts diverse vegetation formations like the high Andean grasslands and montane shrublands. Although there are no formal management or conservation activities currently in place, the area's tourism potential due to landmarks like the Illampu snow-capped mountain and San Pedro Grotto is notable. The local populations engage in agriculture, small-scale livestock farming, and eucalyptus forestry for commercial use, with crops varying from highland vegetables to subtropical fruits.\n",
       "\n",
       "In **Ecuador**, the **Engabao-Engunga-Zapotal-Olmedo** KBA is influenced by communities identified as **pueblo montubio de la costa** and descendants of the **Huancavilca ancestral nation**. The area features coastal deciduous forests and shrublands, representing the mountain chains connecting to the Pacific. The protection of forests is largely community-driven, with no formal external protection known.\n",
       "\n",
       "In **Peru**, the **Estuario de Virrilá** KBA is supported by the **San Martin de Sechura Peasant Community**. This coastal area, characterized by its extensive wetlands, desert, and dry forest, benefits from the influence of both the Humboldt and North Equatorial currents. The region is recognized as a RAMSAR site and is managed by the Provincial Municipality of Sechura with the involvement of the local community and private entities.\n",
       "\n",
       "These areas demonstrate the vital role of indigenous communities in managing and preserving biodiversity. Their traditional knowledge and practices are integral to the sustainable maintenance and protection of the natural ecosystems within these KBAs."
      ],
      "text/plain": [
       "<IPython.core.display.Markdown object>"
      ]
     },
     "metadata": {},
     "output_type": "display_data"
    }
   ],
   "source": [
    "USER_PROMPT = \"\"\"Which areas are managed by indigenous groups?\"\"\"\n",
    "\n",
    "# Interact with ChatGPT\n",
    "response = chat_with_gpt(api_key=API_KEY, prompt=USER_PROMPT, system_prompt=SYSTEM_PROMPT, df=andes_portfolio[info_columns+data_columns])\n",
    "if response:\n",
    "    print(f\"> {USER_PROMPT}\\n\\n\")\n",
    "    show_markdown(response)"
   ]
  },
  {
   "cell_type": "code",
   "execution_count": 156,
   "id": "27a744ba-5f4e-4254-99bb-e57920642d9c",
   "metadata": {},
   "outputs": [
    {
     "name": "stdout",
     "output_type": "stream",
     "text": [
      "> Are there any common themes in how the areas are managed?\n",
      "\n",
      "\n"
     ]
    },
    {
     "data": {
      "text/markdown": [
       "The portfolio of Key Biodiversity Areas (KBAs) in South America demonstrates a variety of management approaches, reflecting the diverse geopolitical, ecological, and cultural contexts of each site. However, some common themes emerge in how these areas are managed, often involving a combination of governmental oversight, community involvement, and conservation efforts.\n",
       "\n",
       "Firstly, governmental protection is a prevailing theme. Many KBAs, such as the **Tunari National Park** in Bolivia, the **Galeras Flora and Fauna Sanctuary** in Colombia, and the **Reserva Paisajística Nor Yauyos Cochas** in Peru, are managed by national or regional government agencies dedicated to the protection of natural areas. These agencies, such as Bolivia's National Protected Areas Service (SERNAP) and Colombia's National Natural Parks, are responsible for implementing conservation policies and ensuring the sustainable use of resources within these areas.\n",
       "\n",
       "Community involvement and the role of indigenous groups are also significant across the portfolio. In the **Tunari National Park**, for example, local farmers and indigenous communities play an active role in environmental monitoring and crime prevention, reflecting a participatory approach to conservation. Similarly, the **Bosque de Protección San Matías San Carlos** in Peru is managed by the National Service of Protected Natural Areas, but there is a recognition of the potential for community management, particularly through conservation concessions and the involvement of local stakeholders.\n",
       "\n",
       "Conservation and restoration projects are another common theme. Efforts to restore native forests, such as the reforestation projects in **Tunari** aimed at recovering kewiña forests, highlight the focus on habitat restoration and biodiversity conservation across these KBAs. These projects often involve collaborations between governmental and non-governmental organizations, as seen with entities like the EcoAndina Foundation and the Alexander von Humboldt Institute in the **Eastern Risaralda Forests** KBA in Colombia.\n",
       "\n",
       "In some areas, there is a notable emphasis on scientific research and monitoring as part of the management strategy. For instance, the **Tunari National Park** is a site of active scientific research, and the **Reserva Paisajística Nor Yauyos Cochas** has a conservation promotion and monitoring committee composed of various governmental and civil institutions.\n",
       "\n",
       "Lastly, the presence and influence of international conservation designations are apparent in some KBAs. The **Estuario de Virrilá** in Peru has been recognized as a RAMSAR site, indicating its international importance as a wetland, and it benefits from a management framework that includes the support of both municipal and national conservation bodies.\n",
       "\n",
       "Overall, the management of these KBAs reflects a multifaceted approach that integrates governmental oversight, community involvement, scientific research, and international conservation efforts, all aimed at preserving the unique biodiversity and ecological integrity of these South American landscapes."
      ],
      "text/plain": [
       "<IPython.core.display.Markdown object>"
      ]
     },
     "metadata": {},
     "output_type": "display_data"
    }
   ],
   "source": [
    "USER_PROMPT = \"\"\"Are there any common themes in how the areas are managed?\"\"\"\n",
    "\n",
    "# Interact with ChatGPT\n",
    "response = chat_with_gpt(api_key=API_KEY, prompt=USER_PROMPT, system_prompt=SYSTEM_PROMPT, df=andes_portfolio[info_columns+data_columns])\n",
    "if response:\n",
    "    print(f\"> {USER_PROMPT}\\n\\n\")\n",
    "    show_markdown(response)"
   ]
  },
  {
   "cell_type": "code",
   "execution_count": 157,
   "id": "809b281d-09ad-4dc6-9c82-3e48af8f6d31",
   "metadata": {},
   "outputs": [
    {
     "name": "stdout",
     "output_type": "stream",
     "text": [
      "> Which is the largest area?\n",
      "\n",
      "\n"
     ]
    },
    {
     "data": {
      "text/markdown": [
       "The largest area within the provided data is the **Tunari** KBA in **Bolivia**. It encompasses approximately 328,360 hectares. This area is characterized by a varied vegetation due to its wide altitudinal range and human activity, with habitats such as grasslands, wetlands, and wooded relicts predominantly featuring kewiña forests (**Polylepis besseri**) at lower altitudes. The tree cover extent in this region is about 8,044 hectares, which constitutes around 2% of the total area, indicating a relatively low level of tree cover. The site is managed by government authorities and community groups, with ongoing reforestation projects and a focus on biodiversity conservation and sustainable land use practices."
      ],
      "text/plain": [
       "<IPython.core.display.Markdown object>"
      ]
     },
     "metadata": {},
     "output_type": "display_data"
    }
   ],
   "source": [
    "USER_PROMPT = \"\"\"Which is the largest area?\"\"\"\n",
    "\n",
    "# Interact with ChatGPT\n",
    "response = chat_with_gpt(api_key=API_KEY, prompt=USER_PROMPT, system_prompt=SYSTEM_PROMPT, df=andes_portfolio[info_columns+data_columns])\n",
    "if response:\n",
    "    print(f\"> {USER_PROMPT}\\n\\n\")\n",
    "    show_markdown(response)"
   ]
  },
  {
   "cell_type": "markdown",
   "id": "fb50d008-c016-406f-a808-2949e28294b1",
   "metadata": {},
   "source": [
    "## Threats to biodiversity"
   ]
  },
  {
   "cell_type": "code",
   "execution_count": 172,
   "id": "b1e23883-7aac-4251-804d-c473dcd17ec8",
   "metadata": {},
   "outputs": [
    {
     "name": "stdout",
     "output_type": "stream",
     "text": [
      "> Describe the threats and pressures to my portfolio of KBAs.\n",
      "\n",
      "\n"
     ]
    },
    {
     "data": {
      "text/markdown": [
       "The portfolio of KBAs spans diverse ecological regions across **Bolivia**, **Colombia**, **Peru**, and **Ecuador**, each facing unique threats and pressures that impact biodiversity and ecosystem health.\n",
       "\n",
       "In the **Tunari** region of **Bolivia**, the KBA is characterized by a dry climate with varied vegetation due to its altitudinal range. The presence of exotic species such as pine and eucalyptus, introduced for slope stabilization and timber, poses ecological challenges. Reforestation efforts focus on restoring native kewiña forests. Key threats include agriculture and livestock raising, which exert pressure on the natural ecosystem. Endemic bird species such as the Cochabamba Mountain-finch (*Poospiza garleppi*), which is endangered, and other vulnerable birds face habitat loss. The cumulative deforestation intensity here is 0.027, with significant tree cover loss in earlier years, peaking in 2008.\n",
       "\n",
       "The **Eastern Risaralda Forests** in **Colombia** are a patchwork of protected areas with a history of recovery and critical for water regulation. However, human settlements and deforestation for cattle grazing and agriculture continue to threaten these forests. The area supports diverse bird species and is crucial for the Andean Bear (*Tremarctos ornatus*) and the critically endangered Quimbaya Toad (*Atelopus quimbaya*). Deforestation intensity in this KBA is relatively low at 0.025, with notable spikes in 2012 and 2020, indicating periods of increased pressure.\n",
       "\n",
       "Also in **Colombia**, the **Galeras Flora and Fauna Sanctuary** faces threats from temperature fluctuations and relative humidity changes, which influence the cloud forest and paramo ecosystems. The sanctuary is critical for bird species like the near-threatened Black-thighed Puffleg (*Eriocnemis derbyi*). Deforestation here is minimal, with an intensity of 0.004, suggesting effective management or natural resilience.\n",
       "\n",
       "In **Peru**, the **Reserva Paisajística Nor Yauyos Cochas** is a large KBA with a range of ecosystems from wet puna grasslands to high Andean forests. Its biodiversity includes several endemic and vulnerable species. This KBA has experienced very low tree cover loss, reflected in a negligible deforestation intensity, indicating stable preservation efforts.\n",
       "\n",
       "The coastal **Engabao-Engunga-Zapotal-Olmedo** in **Ecuador** is characterized by deciduous forests and is influenced by arid ecosystems. While threats are not detailed, the presence of rare species like the localized western population of *Cyclopes didactylus* suggests potential pressures from habitat fragmentation and climate change. The deforestation intensity is low at 0.005, though there were minor peaks in 2014 and 2017.\n",
       "\n",
       "The **Tacacoma-Quiabaya and Sorata Valley** in **Bolivia** hosts diverse vegetation types across altitudinal gradients. Endangered plant species like *Solanum achacachense* face threats from habitat changes. Deforestation intensity is minimal at 0.009, with a significant spike in 2017, indicating a temporary increase in pressure.\n",
       "\n",
       "In **Peru**, the **Granada** KBA faces challenges from variable precipitation and temperature, impacting its high montane forests and grasslands. This region supports important bird species like *Heliangelus regalis*. It has experienced periods of high tree cover loss, especially in 2006 and 2012, with a deforestation intensity of 0.059, suggesting ongoing threats.\n",
       "\n",
       "The **Bosque de Protección San Matías San Carlos**, also in **Peru**, is predominantly forested and supports migratory species. Despite being largely intact, it has a high deforestation intensity of 0.032, with significant annual loss, notably in 2013 and 2015, highlighting ongoing deforestation pressures possibly due to agricultural expansion.\n",
       "\n",
       "Lastly, the **Alto Huayabamba** in **Peru** encompasses diverse forest types and is subject to consistent heavy rainfall, which can both support and threaten biodiversity. This KBA has a moderate deforestation intensity of 0.024, with notable peaks in 2010 and 2012.\n",
       "\n",
       "Across the portfolio, the most at-risk species are those with limited ranges and specific habitat requirements, such as the *Poospiza garleppi* and *Atelopus quimbaya*. The primary threats include habitat loss from agricultural expansion, livestock grazing, and the introduction of exotic species. The **Bosque de Protección San Matías San Carlos** in **Peru** appears particularly vulnerable based on recent deforestation trends, indicating a need for targeted conservation efforts to mitigate these pressures and protect its rich biodiversity."
      ],
      "text/plain": [
       "<IPython.core.display.Markdown object>"
      ]
     },
     "metadata": {},
     "output_type": "display_data"
    }
   ],
   "source": [
    "SYSTEM_PROMPT = \"\"\"\n",
    "You are a helpful data analysis assistant that produces insights against KBAs, supported by data analysis from the provided csv.\n",
    "Your responses should be scientific and informative in tone, and structured as a summary report.\n",
    "Do not use bullet points. Do not comment on individual KBAs.\n",
    "\n",
    "Format country and place names in bold.\n",
    "Format habitats names in bold.\n",
    "Format species names in italics, and refer to its common name where possible.\n",
    "\n",
    "You describe the user portfolio as a whole using the following information found in the data:\n",
    " - Use siteDescription for general info about the KBA\n",
    " - Use habitatDescription to describe the habitats present\n",
    " - Use additionalBiodiversityValues for more detailed species info \n",
    " - Use threatsDescription to describe threats to natural ecosystems and biodiveristy\n",
    "\n",
    "Also include the following data in your description:\n",
    " - area__ha: the size of individual KBA in hectares\n",
    " - umd_tree_cover_loss_20{i}__ha: the annual tree cover loss where 2000<i≤2023\n",
    "\n",
    "Comment on general threats to biodiversity, highlighting the most at-risk species, and the biggest threats they face.\n",
    "Finally, close by naming the most at risk species, based on recent trends in deforestation intensity and other descriptive data.\n",
    "Include some tree cover loss calculations and trends in the response where appropriate.\n",
    "\n",
    "Include total deforestation intensity (sum of annual loss/umd_tree_cover_extent_2000__ha) in the response.\n",
    "Comment on trends in tree cover loss over time where relevant.\n",
    "\"\"\"\n",
    "\n",
    "data_columns =  [\"umd_tree_cover_extent_2000__ha\"] + [f\"umd_tree_cover_loss_{i}__ha\" for i in range(2001,2024)]\n",
    "info_columns = [\n",
    "     \"Country\",\n",
    "     \"IntName\",\n",
    "    \"sitecode\",\n",
    "    \"siteDescription\",\n",
    "    \"habitatDescription\",\n",
    "    \"additionalBiodiversityValues\",\n",
    "]\n",
    "\n",
    "USER_PROMPT = \"\"\"Describe the threats and pressures to my portfolio of KBAs.\"\"\"\n",
    "\n",
    "# Interact with ChatGPT\n",
    "response = chat_with_gpt(api_key=API_KEY, prompt=USER_PROMPT, system_prompt=SYSTEM_PROMPT, df=andes_portfolio[info_columns+data_columns])\n",
    "if response:\n",
    "    print(f\"> {USER_PROMPT}\\n\\n\")\n",
    "    show_markdown(response)"
   ]
  },
  {
   "cell_type": "code",
   "execution_count": 159,
   "id": "c3d1078e-42a0-4a27-8383-5a5e4e1671e3",
   "metadata": {},
   "outputs": [
    {
     "name": "stdout",
     "output_type": "stream",
     "text": [
      "> Which single KBA should I focus my conservation efforts on and why?\n",
      "\n",
      "\n"
     ]
    },
    {
     "data": {
      "text/markdown": [
       "Based on the analysis of the provided data, it is recommended to focus conservation efforts on the **Tunari** KBA in **Bolivia**. This area is of particular concern due to several factors that make it both ecologically significant and vulnerable.\n",
       "\n",
       "The **Tunari** KBA encompasses a variety of vegetation types due to its wide altitudinal range and human activity. At higher altitudes, grasslands and small wetlands are present, while wooded relicts of **kewiña** (Polylepis besseri) exist at lower elevations. These kewiña forests are crucial as they provide habitat for several endemic and endangered bird species, such as the Cochabamba Mountain-Finch (*Poospiza garleppi*), which is in danger of extinction, and other vulnerable species like the *Sicalis luteocephala* and *Saltator rufiventris*. Reforestation and monitoring programs are in place, yet the area faces significant challenges from agriculture and livestock grazing, which are common activities within the local communities.\n",
       "\n",
       "The **Tunari** KBA is experiencing notable tree cover loss, with a total tree cover extent of 8,043.8 hectares in 2000. Between 2001 and 2023, the recorded tree cover loss is approximately 52.0 hectares, which, although seemingly modest, represents a significant portion of the remaining habitat for its unique biodiversity. The total deforestation intensity here is approximately 0.65%, indicating ongoing pressure on its ecosystems.\n",
       "\n",
       "Conservation efforts in **Tunari** should focus on enhancing existing reforestation projects to recover kewiña forests, crucial for maintaining biodiversity and water regulation in the area. Additionally, addressing the threats posed by agriculture and livestock through sustainable practices could mitigate further habitat degradation.\n",
       "\n",
       "Given the presence of critically endangered and vulnerable species, the **Tunari** KBA demands prioritized conservation actions to ensure the protection of its unique biodiversity and the ecological services it provides."
      ],
      "text/plain": [
       "<IPython.core.display.Markdown object>"
      ]
     },
     "metadata": {},
     "output_type": "display_data"
    }
   ],
   "source": [
    "USER_PROMPT = \"\"\"Which single KBA should I focus my conservation efforts on and why?\"\"\"\n",
    "\n",
    "# Interact with ChatGPT\n",
    "response = chat_with_gpt(api_key=API_KEY, prompt=USER_PROMPT, system_prompt=SYSTEM_PROMPT, df=andes_portfolio[info_columns+data_columns])\n",
    "if response:\n",
    "    print(f\"> {USER_PROMPT}\\n\\n\")\n",
    "    show_markdown(response)"
   ]
  },
  {
   "cell_type": "code",
   "execution_count": 173,
   "id": "2d3ee0c0-9080-43b0-bf99-0d548dbf1f10",
   "metadata": {},
   "outputs": [
    {
     "name": "stdout",
     "output_type": "stream",
     "text": [
      "> Which country should I focus my conservation efforts on and why? Be succinct.\n",
      "\n",
      "\n"
     ]
    },
    {
     "data": {
      "text/markdown": [
       "Based on the provided data, conservation efforts should be focused on **Bolivia**, particularly in the **Tunari** KBA, due to the presence of highly threatened species and significant challenges in biodiversity conservation. The **Tunari** area, situated near the cities of **Cochabamba**, **Quillacollo**, and **Sacaba**, showcases diverse ecosystems such as high-altitude grasslands and montane forests. The KBA is home to several endemic and endangered species, including the critically endangered *Poospiza garleppi* (the Cochabamba Mountain-finch), which is of high conservation concern given its restricted range and declining population.\n",
       "\n",
       "Despite reforestation efforts, **Tunari** faces significant threats from agriculture, livestock grazing, and the historical introduction of exotic species like pine and eucalyptus, which have altered the native ecosystem. The KBA has experienced varying degrees of tree cover loss over the years, with a total deforestation intensity of approximately 0.06. Although recent years show a decrease in tree cover loss, ongoing habitat degradation continues to threaten vulnerable species such as *Sicalis luteocephala* (the Yellow-bridled Finch) and *Saltator rufiventris* (the Rufous-bellied Saltator).\n",
       "\n",
       "Given these factors, focusing conservation efforts on **Tunari** could address urgent threats to both habitat and species while leveraging existing local conservation projects aimed at reforestation and species monitoring. This would not only benefit the specific endangered species but also contribute to the broader ecological health of the region."
      ],
      "text/plain": [
       "<IPython.core.display.Markdown object>"
      ]
     },
     "metadata": {},
     "output_type": "display_data"
    }
   ],
   "source": [
    "USER_PROMPT = \"\"\"Which country should I focus my conservation efforts on and why? Be succinct.\"\"\"\n",
    "\n",
    "# Interact with ChatGPT\n",
    "response = chat_with_gpt(api_key=API_KEY, prompt=USER_PROMPT, system_prompt=SYSTEM_PROMPT, df=andes_portfolio[info_columns+data_columns])\n",
    "if response:\n",
    "    print(f\"> {USER_PROMPT}\\n\\n\")\n",
    "    show_markdown(response)"
   ]
  },
  {
   "cell_type": "code",
   "execution_count": 161,
   "id": "5650739b-fa90-42f7-acfe-af6fcd031b6e",
   "metadata": {},
   "outputs": [
    {
     "name": "stdout",
     "output_type": "stream",
     "text": [
      "> Which single species is most under threat and why? Be succinct\n",
      "\n",
      "\n"
     ]
    },
    {
     "data": {
      "text/markdown": [
       "The most under threat species within the provided KBA portfolio is the **Ash-breasted Tit-Tyrant** (*Poospiza garleppi*), which is categorized as endangered. This species is endemic to the **Tunari** KBA in **Bolivia**, where it relies heavily on the **kewiña forests** (*Polylepis spp.*) for its habitat. The primary threat to this bird is habitat loss due to deforestation and degradation, driven by agricultural expansion and livestock grazing. Despite reforestation efforts, historical tree cover loss data from this area indicates a cumulative deforestation intensity of approximately 0.043, with a notable peak of 8.97 hectares lost in 2008. This ongoing habitat disruption poses significant risks to the survival of this already vulnerable species."
      ],
      "text/plain": [
       "<IPython.core.display.Markdown object>"
      ]
     },
     "metadata": {},
     "output_type": "display_data"
    }
   ],
   "source": [
    "USER_PROMPT = \"\"\"Which single species is most under threat and why? Be succinct\"\"\"\n",
    "\n",
    "# Interact with ChatGPT\n",
    "response = chat_with_gpt(api_key=API_KEY, prompt=USER_PROMPT, system_prompt=SYSTEM_PROMPT, df=andes_portfolio[info_columns+data_columns])\n",
    "if response:\n",
    "    print(f\"> {USER_PROMPT}\\n\\n\")\n",
    "    show_markdown(response)"
   ]
  },
  {
   "cell_type": "code",
   "execution_count": 162,
   "id": "afb0c1b2-cef6-471a-9ffd-9e7c1e7ae816",
   "metadata": {},
   "outputs": [
    {
     "name": "stdout",
     "output_type": "stream",
     "text": [
      "> Which single habitat is most under threat and why? Be succinct\n",
      "\n",
      "\n"
     ]
    },
    {
     "data": {
      "text/markdown": [
       "The **forest habitat** is most under threat, particularly within the **Bosque de Protección San Matías San Carlos** in **Peru**, which presents a significant deforestation intensity over the years. The area has experienced substantial tree cover loss, with a total deforestation intensity of approximately 18.3%. The deforestation trend, with high annual losses such as 458.85 hectares in 2014 and 605.50 hectares in 2017, indicates ongoing pressures on this habitat. These pressures likely stem from agricultural expansion, cattle grazing, and other human activities that encroach upon forested areas, leading to habitat degradation and loss."
      ],
      "text/plain": [
       "<IPython.core.display.Markdown object>"
      ]
     },
     "metadata": {},
     "output_type": "display_data"
    }
   ],
   "source": [
    "USER_PROMPT = \"\"\"Which single habitat is most under threat and why? Be succinct\"\"\"\n",
    "\n",
    "# Interact with ChatGPT\n",
    "response = chat_with_gpt(api_key=API_KEY, prompt=USER_PROMPT, system_prompt=SYSTEM_PROMPT, df=andes_portfolio[info_columns+data_columns])\n",
    "if response:\n",
    "    print(f\"> {USER_PROMPT}\\n\\n\")\n",
    "    show_markdown(response)"
   ]
  },
  {
   "cell_type": "code",
   "execution_count": 163,
   "id": "e8861bf7-cd2f-4a34-880a-a9b2e33311a6",
   "metadata": {},
   "outputs": [
    {
     "name": "stdout",
     "output_type": "stream",
     "text": [
      "> In general, what is the cause of single biggest threat to my portfolio? Provide evidence and be succinct\n",
      "\n",
      "\n"
     ]
    },
    {
     "data": {
      "text/markdown": [
       "The single biggest threat to the portfolio of Key Biodiversity Areas (KBAs) appears to be deforestation, primarily driven by agricultural expansion, cattle grazing, and other anthropogenic activities. The data reveals varying degrees of tree cover loss across the different KBAs, with some areas experiencing substantial deforestation over the years.\n",
       "\n",
       "For instance, the **Bosque de Protección San Matías San Carlos** in **Peru** exhibits significant tree cover loss, with a total deforestation intensity of approximately 11.1% since 2000. This loss can be largely attributed to agricultural expansion and cattle ranching, as noted in the **Eastern Risaralda Forests** of **Colombia**, where similar activities have led to a deforestation intensity of around 5.7%.\n",
       "\n",
       "In **Bolivia**, the **Tunari** KBA, despite being fully protected, has experienced tree cover loss with a deforestation intensity of about 2.6%. This is due to historical plantation of exotic species and ongoing agricultural practices.\n",
       "\n",
       "The **Tacacoma-Quiabaya and Sorata Valley** in **Bolivia** and **Galeras Flora and Fauna Sanctuary** in **Colombia** also demonstrate some degree of tree cover loss, albeit lower, indicative of the pervasive nature of deforestation pressure across the portfolio.\n",
       "\n",
       "The **Estuario de Virrilá** in **Peru**, although primarily a wetland habitat, is not immune to the pressures of surrounding agriculture and habitat conversion.\n",
       "\n",
       "Overall, deforestation driven by human activities such as agriculture and cattle ranching poses the most significant threat to the biodiversity within these KBAs, affecting both the forested and non-forested ecosystems, and thereby impacting the species that rely on these habitats for their survival."
      ],
      "text/plain": [
       "<IPython.core.display.Markdown object>"
      ]
     },
     "metadata": {},
     "output_type": "display_data"
    }
   ],
   "source": [
    "USER_PROMPT = \"\"\"In general, what is the cause of single biggest threat to my portfolio? Provide evidence and be succinct\"\"\"\n",
    "\n",
    "# Interact with ChatGPT\n",
    "response = chat_with_gpt(api_key=API_KEY, prompt=USER_PROMPT, system_prompt=SYSTEM_PROMPT, df=andes_portfolio[info_columns+data_columns])\n",
    "if response:\n",
    "    print(f\"> {USER_PROMPT}\\n\\n\")\n",
    "    show_markdown(response)"
   ]
  },
  {
   "cell_type": "code",
   "execution_count": 164,
   "id": "fc3c3027-fd02-4154-8d72-b1b2139e8403",
   "metadata": {},
   "outputs": [
    {
     "name": "stdout",
     "output_type": "stream",
     "text": [
      "> Do any of the areas show signs of abatement of deforestation in the last 5 years?\n",
      "\n",
      "\n"
     ]
    },
    {
     "data": {
      "text/markdown": [
       "In examining the deforestation trends across several Key Biodiversity Areas (KBAs) in different countries, some areas display signs of abatement in deforestation in the last five years, while others continue to experience varying degrees of tree cover loss.\n",
       "\n",
       "The **Galeras Flora and Fauna Sanctuary** in **Colombia** has shown consistently low levels of tree cover loss over the years, with particularly negligible losses in recent years. The total deforestation intensity, calculated as the sum of annual loss divided by the tree cover extent in 2000, is relatively low, indicating a stable environment with effective conservation practices.\n",
       "\n",
       "Similarly, the **Alto Huayabamba** KBA in **Peru** demonstrates a notable decline in tree cover loss from a peak in 2011, with a significant reduction in deforestation intensity over the past five years. This suggests successful conservation efforts and possibly natural regrowth in this area, despite its large size and diverse forest habitats.\n",
       "\n",
       "In contrast, the **Bosque de Protección San Matías San Carlos** in **Peru** continues to experience substantial tree cover loss, with particularly high losses in the past five years, indicating ongoing deforestation pressures. This KBA, characterized by expansive forest ecosystems, faces challenges in mitigating deforestation despite its partial protected status.\n",
       "\n",
       "The **Eastern Risaralda Forests** in **Colombia** have also seen varying deforestation rates, but recent years show a marked decrease in tree cover loss, suggesting an improvement in forest management and conservation strategies.\n",
       "\n",
       "In **Bolivia**, the **Tunari** KBA exhibits moderate deforestation with fluctuations over the years. However, recent data indicate some stabilization in tree cover loss, possibly due to reforestation and monitoring efforts targeting specific endemic bird species.\n",
       "\n",
       "Overall, while some KBAs show signs of abatement in deforestation, others continue to face significant challenges. The variability in deforestation intensity across these regions highlights the complex interplay of environmental, socio-economic, and conservation factors impacting forest dynamics. Continued monitoring and adaptive management are essential to sustain and enhance these positive trends where they occur."
      ],
      "text/plain": [
       "<IPython.core.display.Markdown object>"
      ]
     },
     "metadata": {},
     "output_type": "display_data"
    }
   ],
   "source": [
    "USER_PROMPT = \"\"\"Do any of the areas show signs of abatement of deforestation in the last 5 years?\"\"\"\n",
    "\n",
    "# Interact with ChatGPT\n",
    "response = chat_with_gpt(api_key=API_KEY, prompt=USER_PROMPT, system_prompt=SYSTEM_PROMPT, df=andes_portfolio[info_columns+data_columns])\n",
    "if response:\n",
    "    print(f\"> {USER_PROMPT}\\n\\n\")\n",
    "    show_markdown(response)"
   ]
  },
  {
   "cell_type": "markdown",
   "id": "8fed42b6-16b8-4983-9a8d-4cdb5931527b",
   "metadata": {},
   "source": [
    "## Ecosystem health, conservation, and restoration"
   ]
  },
  {
   "cell_type": "code",
   "execution_count": 177,
   "id": "34f203d3-cf47-4cf8-a8f4-3cd4c4b8b6e9",
   "metadata": {},
   "outputs": [
    {
     "name": "stdout",
     "output_type": "stream",
     "text": [
      "> Tell me about my portfolio.\n",
      "\n",
      "\n"
     ]
    },
    {
     "data": {
      "text/markdown": [
       "The portfolio encompasses several Key Biodiversity Areas (KBAs) across South America, each with unique management strategies, conservation challenges, and opportunities for the restoration of natural land. Here is a detailed analysis of the KBAs:\n",
       "\n",
       "**Bolivia: Tunari National Park**\n",
       "\n",
       "Tunari National Park, located near the cities of **Cochabamba**, **Quillacollo**, and **Sacaba**, is characterized by a diverse array of habitats due to its wide altitudinal range and human activities. The park includes high-altitude grasslands, small wetlands, and relict forests of kewiña (*Polylepis besseri*), mixed with exotic species like pine and eucalyptus. The park is managed by Bolivia's National Protected Areas Service (SERNAP) and community groups, with efforts focused on biodiversity conservation, environmental education, and sustainable tourism. Reforestation projects aim to restore kewiña forests, crucial for slope stabilization and wetland protection. The park is fully covered under conservation measures (100%). Despite this, threats such as forest fires and exploitation of wildlife persist, with community-led control groups actively working to combat these issues. Tree cover data indicates a significant gain of 1,349 hectares since 2000, with relatively low annual losses, suggesting effective management and potential recovery of forested areas.\n",
       "\n",
       "**Colombia: Eastern Risaralda Forests**\n",
       "\n",
       "This KBA includes a set of protected areas on the western slope of the Central Mountain Range, with over 30 years of recovery efforts. The area, covered by premontane and montane forests, is essential for water regulation and biodiversity conservation. Nearly 98% of the area is under protection. Despite conservation efforts, deforestation due to cattle grazing and agriculture remains a threat. Research and conservation projects by various entities have been instrumental in preserving the area's biodiversity. The KBA has witnessed a modest tree cover gain of approximately 26 hectares, with fluctuating annual losses, indicating ongoing challenges in forest management.\n",
       "\n",
       "**Colombia: Galeras Flora and Fauna Sanctuary**\n",
       "\n",
       "Located in the **Andes** mountain range, this sanctuary features cloudy Andean forests, paramo, and subparamo communities, with important hydrological networks. Managed by the National Natural Parks of Colombia, the sanctuary involves local communities in conservation efforts, particularly through the ECOANDINO project. The area is well-protected, with over 98% coverage. The sanctuary has experienced minimal tree cover gain, but also low annual losses, indicating stable forest conditions.\n",
       "\n",
       "**Peru: Reserva Paisajística Nor Yauyos Cochas**\n",
       "\n",
       "This KBA spans several provinces and features wet puna grassland, periglacial zones, and Andean shrublands. It is partially managed by the National Service of Protected Natural Areas (SERNANP), with proposals for further conservation areas. Despite a high percentage of natural grassland, the area has experienced negligible tree cover gain and losses, reflecting its primary grassland ecosystem rather than forested areas.\n",
       "\n",
       "**Ecuador: Engabao-Engunga-Zapotal-Olmedo**\n",
       "\n",
       "This coastal KBA, characterized by deciduous forests and shrublands, faces challenges in protection status, with community-based management efforts. The area has seen limited tree cover gain and minimal losses, suggesting a stable but potentially vulnerable ecosystem due to its arid environment.\n",
       "\n",
       "**Bolivia: Tacacoma-Quiabaya and Sorata Valley**\n",
       "\n",
       "Located in the **Larecaja** and **Camacho** Provinces, this KBA features diverse vegetation formations across a wide altitudinal range. It lacks formal management or conservation activities, though tourism is significant. The area has experienced negligible tree cover gain and fluctuating losses, highlighting the need for strategic management to protect its unique ecosystems.\n",
       "\n",
       "**Peru: Granada**\n",
       "\n",
       "Situated in the **Amazonas** department, this KBA combines jalca zones and high montane forests. Potential management by the Regional Government of Amazonas could enhance conservation efforts. The area has seen no tree cover gain and varying losses, indicating challenges in forest restoration.\n",
       "\n",
       "**Peru: Bosque de Protección San Matías San Carlos**\n",
       "\n",
       "This KBA, covering a mix of Yunga forests and secondary vegetation, is managed by SERNANP. It has experienced significant tree cover loss, particularly in recent years, underscoring the need for intensified management efforts to curb deforestation.\n",
       "\n",
       "**Peru: Estuario de Virrilá**\n",
       "\n",
       "A coastal KBA recognized as a RAMSAR site, featuring wetlands and dry forests. Management by the Provincial Municipality of Sechura could bolster conservation. There is no tree cover data, reflecting its primary wetland ecosystem.\n",
       "\n",
       "**Peru: Alto Huayabamba**\n",
       "\n",
       "This KBA, overlapping with conservation concessions, features diverse ecosystems and is potentially managed by SERNANP or SERFOR. The area has experienced considerable tree cover loss, signaling ongoing deforestation challenges despite conservation efforts.\n",
       "\n",
       "Overall, the portfolio's KBAs demonstrate varying levels of management effectiveness and conservation challenges."
      ],
      "text/plain": [
       "<IPython.core.display.Markdown object>"
      ]
     },
     "metadata": {},
     "output_type": "display_data"
    }
   ],
   "source": [
    "SYSTEM_PROMPT = \"\"\"\n",
    "You are a helpful data analysis assistant that produces insights against KBAs, supported by data analysis from the provided csv.\n",
    "Your responses should be scientific and informative in tone, and structured as a summary report.\n",
    "Do not use bullet points. Do not comment on individal KBAs.\n",
    "\n",
    "Format country and place names in bold.\n",
    "Format habitats names in bold.\n",
    "Format species names in italics, and refer to its common name where possible.\n",
    "\n",
    "Summarise the how the portfiolio is being manages, focusing on restoration of natural land:\n",
    " - Use siteDescription, howIsTheSiteManaged and landUseRegimesAtSite, indigenousGroups for general info about the KBA\n",
    " - Use habitatDescription to describe the habitats present\n",
    " - Use pa/OecmCoverage(%) to describe the amount of area being conserved, if known\n",
    " - Use threatsDescription to describe threats to natural ecosystems and biodiveristy\n",
    " - landUseRegimesAtSite\n",
    " - howIsTheSiteManaged\n",
    "\n",
    "Also include the following data in your description:\n",
    " - umd_tree_cover_extent_2000__ha: tree canopy cover area in hectares\n",
    " - umd_tree_cover_gain__ha\n",
    " - umd_tree_cover_loss_20{i}__ha: the annual tree cover loss where 2000<i≤2023\n",
    "\n",
    "Comment on how site management is combatting threats and highlighting ways species and habitats benefit.\n",
    "Include some tree cover gain calculations where appropriate, e.g. relative tree cover gain (umd_tree_cover_gain__ha/umd_tree_cover_extent_2000__ha) or\n",
    "downard trends in deforestation in recent years as indicators of recovery.\n",
    "\"\"\"\n",
    "\n",
    "data_columns =  [\"umd_tree_cover_extent_2000__ha\", \"umd_tree_cover_gain__ha\"] + [f\"umd_tree_cover_loss_{i}__ha\" for i in range(2001,2024)]\n",
    "info_columns = [\n",
    "     \"Country\",\n",
    "     \"IntName\",\n",
    "    \"sitecode\",\n",
    "    \"pa/OecmCoverage(%)\",\n",
    "    \"siteDescription\",\n",
    "    \"habitatDescription\",\n",
    "    \"landUseRegimesAtSite\",\n",
    "    \"howIsTheSiteManaged\",\n",
    "    \"indigenousGroups\",\n",
    "]\n",
    "\n",
    "USER_PROMPT = \"\"\"Tell me about my portfolio.\"\"\"\n",
    "\n",
    "# Interact with ChatGPT\n",
    "response = chat_with_gpt(api_key=API_KEY, prompt=USER_PROMPT, system_prompt=SYSTEM_PROMPT, df=andes_portfolio[info_columns+data_columns])\n",
    "if response:\n",
    "    print(f\"> {USER_PROMPT}\\n\\n\")\n",
    "    show_markdown(response)"
   ]
  },
  {
   "cell_type": "code",
   "execution_count": 178,
   "id": "8c980231-7b15-4c83-a3fa-ec1dd8a8efed",
   "metadata": {},
   "outputs": [
    {
     "name": "stdout",
     "output_type": "stream",
     "text": [
      "> Are there signs of restoration in my portfolio? Be succinct.\n",
      "\n",
      "\n"
     ]
    },
    {
     "data": {
      "text/markdown": [
       "The portfolio of Key Biodiversity Areas (KBAs) across South America presents a complex picture of management and restoration efforts with varying degrees of protection and conservation activities.\n",
       "\n",
       "In **Bolivia**, the **Tunari National Park** is under substantial management efforts with a 100% area coverage by protected or conserved status. The park is managed by the Bolivian National Protected Areas Service (SERNAP) and local organizations like Asociación Armonía, which focus on reforestation projects to recover *Polylepis besseri* forests. These efforts are crucial as the area is threatened by deforestation for agriculture and livestock. The tree cover data indicates a small but notable tree cover gain relative to the 2000 extent, with 1349.5 hectares gained against 8043.8 hectares in 2000. This gain, alongside a downward trend in annual loss, suggests positive restoration impacts.\n",
       "\n",
       "In **Colombia**, the **Eastern Risaralda Forests** show significant conservation due to over 30 years of recovery efforts. The area has 97.8% coverage by protected areas, and ongoing projects by various conservation entities contribute to its restoration. Despite these efforts, notable deforestation linked to agriculture persists with recent years showing substantial tree cover loss. However, a relative tree cover gain is observed, albeit minimal, suggesting some restoration success.\n",
       "\n",
       "The **Galeras Flora and Fauna Sanctuary** in Colombia also reflects strong protection efforts with 98.4% coverage. Managed by National Natural Parks of Colombia, the sanctuary benefits from environmental guidance and community participation, although it shows limited tree cover gain with a minimal loss rate, indicating stable forest conditions rather than dynamic restoration.\n",
       "\n",
       "In **Peru**, the **Reserva Paisajística Nor Yauyos Cochas** is partially managed with 65% coverage by protected areas. The area is notable for its diverse habitats including wet puna grasslands and Andean shrubland. However, tree cover data is sparse, with negligible change over the years, suggesting limited forest restoration activity.\n",
       "\n",
       "The **Bosque de Protección San Matías San Carlos** in Peru, with 56.9% coverage, is under national protection management. Despite this, a large tree cover loss has been observed in recent years, questioning the effectiveness of restoration efforts.\n",
       "\n",
       "In **Ecuador**, the **Engabao-Engunga-Zapotal-Olmedo** area lacks formal protection but is managed by local communities. The area has shown minimal tree cover gain with some loss, highlighting the challenges in achieving restoration without formal conservation frameworks.\n",
       "\n",
       "Overall, the portfolio shows varying signs of restoration success with some areas, like **Tunari National Park** in Bolivia, exhibiting promising recovery trends. Effective site management and community involvement appear to be key in combating threats and promoting restoration, although challenges remain in areas with limited formal conservation status or high anthropogenic pressures."
      ],
      "text/plain": [
       "<IPython.core.display.Markdown object>"
      ]
     },
     "metadata": {},
     "output_type": "display_data"
    }
   ],
   "source": [
    "USER_PROMPT = \"\"\"Are there signs of restoration in my portfolio? Be succinct.\"\"\"\n",
    "\n",
    "# Interact with ChatGPT\n",
    "response = chat_with_gpt(api_key=API_KEY, prompt=USER_PROMPT, system_prompt=SYSTEM_PROMPT, df=andes_portfolio[info_columns+data_columns])\n",
    "if response:\n",
    "    print(f\"> {USER_PROMPT}\\n\\n\")\n",
    "    show_markdown(response)"
   ]
  },
  {
   "cell_type": "code",
   "execution_count": 179,
   "id": "5c46c036-7d1b-4467-998c-d9d5c053023b",
   "metadata": {},
   "outputs": [
    {
     "name": "stdout",
     "output_type": "stream",
     "text": [
      "> Which area is the showing the most recovery of natural lands. Be succinct.\n",
      "\n",
      "\n"
     ]
    },
    {
     "data": {
      "text/markdown": [
       "Among the key biodiversity areas (KBAs) analyzed, the **Tunari National Park** in **Bolivia** demonstrates the most significant recovery of natural lands. The area is managed by Bolivia's National Protected Areas Service (SERNAP) and has seen active restoration efforts, particularly in the reforestation of the native **kewiña (Polylepis besseri)** forests. These efforts are part of a broader Forest Management Plan presented in May 2023 aimed at restoring native forest on the southern slope of the park. The park's forest cover is under threat from agriculture and livestock farming, which are prevalent among the local communities, yet these communities also play a role in conservation by organizing control groups to prevent environmental crimes. \n",
       "\n",
       "In terms of tree cover, the area had an initial tree canopy cover of 8,044 hectares in 2000. Since then, there has been a tree cover gain of approximately 1,350 hectares, indicating a relative tree cover gain of about 16.8% of the initial cover. This gain is substantial, given the conservation efforts in place and the active management strategies focused on biodiversity conservation, environmental education, sustainable tourism, and community participation. The ongoing reforestation projects, combined with the involvement of local communities in conservation efforts, contribute significantly to the recovery of natural lands in **Tunari National Park**."
      ],
      "text/plain": [
       "<IPython.core.display.Markdown object>"
      ]
     },
     "metadata": {},
     "output_type": "display_data"
    }
   ],
   "source": [
    "USER_PROMPT = \"\"\"Which area is the showing the most recovery of natural lands. Be succinct.\"\"\"\n",
    "\n",
    "# Interact with ChatGPT\n",
    "response = chat_with_gpt(api_key=API_KEY, prompt=USER_PROMPT, system_prompt=SYSTEM_PROMPT, df=andes_portfolio[info_columns+data_columns])\n",
    "if response:\n",
    "    print(f\"> {USER_PROMPT}\\n\\n\")\n",
    "    show_markdown(response)"
   ]
  },
  {
   "cell_type": "code",
   "execution_count": null,
   "id": "1bebb2bd-1623-4460-8167-a47b0509a280",
   "metadata": {},
   "outputs": [],
   "source": []
  }
 ],
 "metadata": {
  "kernelspec": {
   "display_name": "Python 3 (ipykernel)",
   "language": "python",
   "name": "python3"
  },
  "language_info": {
   "codemirror_mode": {
    "name": "ipython",
    "version": 3
   },
   "file_extension": ".py",
   "mimetype": "text/x-python",
   "name": "python",
   "nbconvert_exporter": "python",
   "pygments_lexer": "ipython3",
   "version": "3.11.6"
  }
 },
 "nbformat": 4,
 "nbformat_minor": 5
}
