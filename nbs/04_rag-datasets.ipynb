{
 "cells": [
  {
   "cell_type": "markdown",
   "id": "0",
   "metadata": {},
   "source": [
    "Date: 14 Nov, 2024"
   ]
  },
  {
   "cell_type": "code",
   "execution_count": null,
   "id": "1",
   "metadata": {},
   "outputs": [],
   "source": [
    "import sys\n",
    "from dotenv import load_dotenv\n",
    "\n",
    "sys.path.append(\"..\")\n",
    "load_dotenv(\"../.env\")"
   ]
  },
  {
   "cell_type": "code",
   "execution_count": null,
   "id": "2",
   "metadata": {},
   "outputs": [],
   "source": [
    "import os\n",
    "import pandas as pd\n",
    "import requests\n",
    "from pprint import pprint as pp"
   ]
  },
  {
   "cell_type": "code",
   "execution_count": null,
   "id": "3",
   "metadata": {},
   "outputs": [],
   "source": [
    "headers = {\n",
    "    \"x-api-key\": os.getenv(\"WRI_API_KEY\"),\n",
    "    \"Authorization\": f\"Bearer {os.getenv('WRI_BEARER_TOKEN')}\",\n",
    "}"
   ]
  },
  {
   "cell_type": "markdown",
   "id": "4",
   "metadata": {},
   "source": [
    "### Create a catalog for datasets that have metadata"
   ]
  },
  {
   "cell_type": "code",
   "execution_count": null,
   "id": "5",
   "metadata": {},
   "outputs": [],
   "source": [
    "url = \"https://data-api.globalforestwatch.org/datasets\"\n",
    "datasets = requests.get(url, headers=headers).json()"
   ]
  },
  {
   "cell_type": "code",
   "execution_count": null,
   "id": "6",
   "metadata": {},
   "outputs": [],
   "source": [
    "def format_dataset_metadata(dataset):\n",
    "    \"\"\"\n",
    "    Formats dataset metadata into a readable string.\n",
    "    \n",
    "    Args:\n",
    "        dataset (dict): Dictionary containing dataset information with metadata\n",
    "        \n",
    "    Returns:\n",
    "        str: Formatted metadata string or None if required fields are missing\n",
    "    \"\"\"\n",
    "    try:\n",
    "        metadata = dataset.get(\"metadata\")\n",
    "        if not metadata or not metadata.get(\"overview\"):\n",
    "            return None\n",
    "            \n",
    "        # Define the fields to include and their labels\n",
    "        fields = [\n",
    "            (\"title\", \"Title\"),\n",
    "            (\"overview\", \"Overview\"),\n",
    "            (\"cautions\", \"Caution\"),\n",
    "            (\"function\", \"Function\"),\n",
    "            (\"geographic_coverage\", \"Geographic Coverage\"),\n",
    "            (\"tags\", \"Tags\")\n",
    "        ]\n",
    "        \n",
    "        # Build the content string\n",
    "        content_parts = []\n",
    "        for field_name, label in fields:\n",
    "            value = metadata.get(field_name)\n",
    "            if value:\n",
    "                # Handle tags specially if they're in a list\n",
    "                if field_name == \"tags\" and isinstance(value, list):\n",
    "                    value = \", \".join(value)\n",
    "                content_parts.append(f\"{label}: {value}\")\n",
    "        \n",
    "        return \"\\n\".join(content_parts)\n",
    "        \n",
    "    except Exception as e:\n",
    "        print(f\"Error processing dataset metadata: {e}\")\n",
    "        return None\n",
    "\n",
    "def save_datasets_to_csv(datasets, output_file):\n",
    "    \"\"\"\n",
    "    Saves dataset information to a CSV file using pandas.\n",
    "    \n",
    "    Args:\n",
    "        datasets (dict): Dictionary containing dataset information\n",
    "        output_file (str): Name of the output CSV file\n",
    "    \"\"\"\n",
    "    try:\n",
    "        # Create lists to store data\n",
    "        dataset_ids = []\n",
    "        formatted_contents = []\n",
    "        \n",
    "        # Process each dataset\n",
    "        for dataset in datasets[\"data\"]:\n",
    "            dataset_id = dataset.get(\"dataset\")\n",
    "            formatted_content = format_dataset_metadata(dataset)\n",
    "            \n",
    "            if dataset_id and formatted_content:\n",
    "                dataset_ids.append(dataset_id)\n",
    "                formatted_contents.append(formatted_content)\n",
    "        \n",
    "        # Create DataFrame\n",
    "        df = pd.DataFrame({\n",
    "            'dataset': dataset_ids,\n",
    "            'content': formatted_contents\n",
    "        })\n",
    "        \n",
    "        # Save to CSV\n",
    "        df.to_csv(output_file, index=False, encoding='utf-8')\n",
    "        print(f\"Successfully saved to {output_file}\")\n",
    "        \n",
    "        return df  # Return DataFrame for potential further analysis\n",
    "        \n",
    "    except Exception as e:\n",
    "        print(f\"Error saving CSV file: {e}\")\n",
    "        return None"
   ]
  },
  {
   "cell_type": "code",
   "execution_count": null,
   "id": "7",
   "metadata": {},
   "outputs": [],
   "source": [
    "# Example usage:\n",
    "df = save_datasets_to_csv(datasets, \"../data/wri-datasets.csv\")"
   ]
  },
  {
   "cell_type": "code",
   "execution_count": null,
   "id": "8",
   "metadata": {},
   "outputs": [],
   "source": [
    "print(df.iloc[70].content)"
   ]
  },
  {
   "cell_type": "markdown",
   "id": "9",
   "metadata": {},
   "source": [
    "### Create a vectorstore for WRI datasets"
   ]
  },
  {
   "cell_type": "code",
   "execution_count": null,
   "id": "10",
   "metadata": {},
   "outputs": [],
   "source": [
    "from langchain_ollama.embeddings import OllamaEmbeddings\n",
    "from langchain_chroma import Chroma"
   ]
  },
  {
   "cell_type": "code",
   "execution_count": null,
   "id": "11",
   "metadata": {},
   "outputs": [],
   "source": [
    "db = \"chroma_db\"\n",
    "os.makedirs(db, exist_ok=True)"
   ]
  },
  {
   "cell_type": "code",
   "execution_count": null,
   "id": "12",
   "metadata": {},
   "outputs": [],
   "source": [
    "embedder = OllamaEmbeddings(model=\"nomic-embed-text\")"
   ]
  },
  {
   "cell_type": "code",
   "execution_count": null,
   "id": "13",
   "metadata": {},
   "outputs": [],
   "source": [
    "texts = df['content'].tolist()\n",
    "metadatas = [{'dataset': dataset} for dataset in df['dataset'].tolist()]\n",
    "ids = [f\"doc_{i}\" for i in range(len(texts))]"
   ]
  },
  {
   "cell_type": "code",
   "execution_count": null,
   "id": "14",
   "metadata": {},
   "outputs": [],
   "source": [
    "%%time\n",
    "vectorstore = Chroma.from_texts(\n",
    "    texts=texts,\n",
    "    embedding=embedder,\n",
    "    metadatas=metadatas,\n",
    "    ids=ids,\n",
    "    persist_directory=db\n",
    ")"
   ]
  },
  {
   "cell_type": "code",
   "execution_count": null,
   "id": "15",
   "metadata": {},
   "outputs": [],
   "source": [
    "db = Chroma(\n",
    "        persist_directory=\"../data/chroma_db\", \n",
    "        embedding_function=embedder\n",
    ")"
   ]
  },
  {
   "cell_type": "code",
   "execution_count": null,
   "id": "16",
   "metadata": {},
   "outputs": [],
   "source": [
    "retriver = db.as_retriever(k=5)"
   ]
  },
  {
   "cell_type": "code",
   "execution_count": null,
   "id": "17",
   "metadata": {},
   "outputs": [],
   "source": [
    "docs = retriver.invoke(\"I am interested in preserving mangroves in Argentina\", k=3)"
   ]
  },
  {
   "cell_type": "code",
   "execution_count": null,
   "id": "18",
   "metadata": {},
   "outputs": [],
   "source": [
    "for doc in docs:\n",
    "    print(doc.metadata)\n",
    "    print(doc.page_content)"
   ]
  },
  {
   "cell_type": "code",
   "execution_count": null,
   "id": "19",
   "metadata": {},
   "outputs": [],
   "source": []
  }
 ],
 "metadata": {
  "kernelspec": {
   "display_name": "Python 3 (ipykernel)",
   "language": "python",
   "name": "python3"
  },
  "language_info": {
   "codemirror_mode": {
    "name": "ipython",
    "version": 3
   },
   "file_extension": ".py",
   "mimetype": "text/x-python",
   "name": "python",
   "nbconvert_exporter": "python",
   "pygments_lexer": "ipython3",
   "version": "3.11.4"
  }
 },
 "nbformat": 4,
 "nbformat_minor": 5
}
