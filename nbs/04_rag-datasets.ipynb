{
 "cells": [
  {
   "cell_type": "markdown",
   "id": "88e3c64e-763a-41c2-9324-b4a280c8fa5a",
   "metadata": {},
   "source": [
    "Date: 14 Nov, 2024"
   ]
  },
  {
   "cell_type": "code",
   "execution_count": 1,
   "id": "a22cabc9-d030-43f8-a69d-bb64ad9d6f54",
   "metadata": {},
   "outputs": [
    {
     "data": {
      "text/plain": [
       "True"
      ]
     },
     "execution_count": 1,
     "metadata": {},
     "output_type": "execute_result"
    }
   ],
   "source": [
    "import sys\n",
    "from dotenv import load_dotenv\n",
    "\n",
    "sys.path.append(\"..\")\n",
    "load_dotenv(\"../.env\")"
   ]
  },
  {
   "cell_type": "code",
   "execution_count": 2,
   "id": "f2dc9a97-d168-4197-b7e6-56885adb2c0a",
   "metadata": {},
   "outputs": [],
   "source": [
    "import os\n",
    "import pandas as pd\n",
    "import requests\n",
    "from pprint import pprint as pp"
   ]
  },
  {
   "cell_type": "code",
   "execution_count": 3,
   "id": "3ab7ae00-6473-4454-b560-ff95e0378193",
   "metadata": {},
   "outputs": [],
   "source": [
    "headers = {\n",
    "    \"x-api-key\": os.getenv(\"WRI_API_KEY\"),\n",
    "    \"Authorization\": f\"Bearer {os.getenv('WRI_BEARER_TOKEN')}\",\n",
    "}"
   ]
  },
  {
   "cell_type": "markdown",
   "id": "8a50c0bd-6c31-402d-948f-685b90dae7e2",
   "metadata": {},
   "source": [
    "### Create a catalog for datasets that have metadata"
   ]
  },
  {
   "cell_type": "code",
   "execution_count": 4,
   "id": "7872d545-c42b-4669-9479-ed6fb214c03f",
   "metadata": {},
   "outputs": [],
   "source": [
    "url = \"https://data-api.globalforestwatch.org/datasets\"\n",
    "datasets = requests.get(url, headers=headers).json()"
   ]
  },
  {
   "cell_type": "code",
   "execution_count": 5,
   "id": "7749b961-e7fd-4a0f-9121-a5a862fd8adc",
   "metadata": {},
   "outputs": [],
   "source": [
    "def format_dataset_metadata(dataset):\n",
    "    \"\"\"\n",
    "    Formats dataset metadata into a readable string.\n",
    "    \n",
    "    Args:\n",
    "        dataset (dict): Dictionary containing dataset information with metadata\n",
    "        \n",
    "    Returns:\n",
    "        str: Formatted metadata string or None if required fields are missing\n",
    "    \"\"\"\n",
    "    try:\n",
    "        metadata = dataset.get(\"metadata\")\n",
    "        if not metadata or not metadata.get(\"overview\"):\n",
    "            return None\n",
    "            \n",
    "        # Define the fields to include and their labels\n",
    "        fields = [\n",
    "            (\"title\", \"Title\"),\n",
    "            (\"overview\", \"Overview\"),\n",
    "            (\"cautions\", \"Caution\"),\n",
    "            (\"function\", \"Function\"),\n",
    "            (\"geographic_coverage\", \"Geographic Coverage\"),\n",
    "            (\"tags\", \"Tags\")\n",
    "        ]\n",
    "        \n",
    "        # Build the content string\n",
    "        content_parts = []\n",
    "        for field_name, label in fields:\n",
    "            value = metadata.get(field_name)\n",
    "            if value:\n",
    "                # Handle tags specially if they're in a list\n",
    "                if field_name == \"tags\" and isinstance(value, list):\n",
    "                    value = \", \".join(value)\n",
    "                content_parts.append(f\"{label}: {value}\")\n",
    "        \n",
    "        return \"\\n\".join(content_parts)\n",
    "        \n",
    "    except Exception as e:\n",
    "        print(f\"Error processing dataset metadata: {e}\")\n",
    "        return None\n",
    "\n",
    "def save_datasets_to_csv(datasets, output_file):\n",
    "    \"\"\"\n",
    "    Saves dataset information to a CSV file using pandas.\n",
    "    \n",
    "    Args:\n",
    "        datasets (dict): Dictionary containing dataset information\n",
    "        output_file (str): Name of the output CSV file\n",
    "    \"\"\"\n",
    "    try:\n",
    "        # Create lists to store data\n",
    "        dataset_ids = []\n",
    "        formatted_contents = []\n",
    "        \n",
    "        # Process each dataset\n",
    "        for dataset in datasets[\"data\"]:\n",
    "            dataset_id = dataset.get(\"dataset\")\n",
    "            formatted_content = format_dataset_metadata(dataset)\n",
    "            \n",
    "            if dataset_id and formatted_content:\n",
    "                dataset_ids.append(dataset_id)\n",
    "                formatted_contents.append(formatted_content)\n",
    "        \n",
    "        # Create DataFrame\n",
    "        df = pd.DataFrame({\n",
    "            'dataset': dataset_ids,\n",
    "            'content': formatted_contents\n",
    "        })\n",
    "        \n",
    "        # Save to CSV\n",
    "        df.to_csv(output_file, index=False, encoding='utf-8')\n",
    "        print(f\"Successfully saved to {output_file}\")\n",
    "        \n",
    "        return df  # Return DataFrame for potential further analysis\n",
    "        \n",
    "    except Exception as e:\n",
    "        print(f\"Error saving CSV file: {e}\")\n",
    "        return None"
   ]
  },
  {
   "cell_type": "code",
   "execution_count": 6,
   "id": "c8a3ac0d-0da6-48dc-804d-7507c1f08668",
   "metadata": {},
   "outputs": [
    {
     "name": "stdout",
     "output_type": "stream",
     "text": [
      "Successfully saved to ../data/wri-datasets.csv\n"
     ]
    }
   ],
   "source": [
    "# Example usage:\n",
    "df = save_datasets_to_csv(datasets, \"../data/wri-datasets.csv\")"
   ]
  },
  {
   "cell_type": "code",
   "execution_count": 7,
   "id": "732ae2dd-c279-4ca3-9352-642f543c61a4",
   "metadata": {},
   "outputs": [
    {
     "name": "stdout",
     "output_type": "stream",
     "text": [
      "Title: Deforestation alerts (GLAD-S2)\n",
      "Overview: This data set is a forest loss alert product developed by the [GLAD](https://glad.geog.umd.edu/) (Global Land Analysis and Discovery) lab at the University of Maryland. GLAD-S2 alerts utilize data from the European Space Agency’s Sentinel-2 mission, which provides optical imagery at a 10m spatial resolution with a 5-day revisit time. The shorter revisit time, when compared to GLAD Landsat alerts, reduces the time to detect forest loss and between the initial detection of forest loss and classification as high confidence. This is particularly advantageous in wet and tropical regions, where persistent cloud cover may delay detections for weeks to months. GLAD-S2 alerts are available for primary forests in the Amazon basin from January 1st 2019 to present, updated daily.<br><br>New Sentinel-2 images are analyzed as soon as they are acquired. Cloud, shadow, and water are filtered out of each new image, and a forest loss algorithm is applied to all remaining clear land observations. The algorithm relies on the spectral data in each new image in combination with spectral metrics from a baseline period of the previous two years.<br><br>Alerts become high confidence when at least two of four subsequent observations are flagged as forest loss (this corresponds to “high,” “medium,” and “low” confidence loss on the GLAD app linked below). The alert date represents the date of forest loss detection. Users can choose to display only high confidence alerts on the map, but keep in mind this will filter out the most recent detections of forest loss. Additionally, forest loss will not be detected again on pixels with high confidence alerts. Alerts that have not become high confidence within 180 days are removed from the data set.\n",
      "Caution: - Results are masked to only within the primary forest mask of [Turubanova et al (2018)](https://iopscience.iop.org/article/10.1088/1748-9326/aacd1c) in the Amazon river basin, with 2001-2018 forest loss from [Hansen et al. (2013)](https://science.sciencemag.org/content/342/6160/850) removed.<br><br>- Alerts that have been detected in two out of four consecutive images are classified as high confidence. Pixels with high confidence alerts cannot be alerted again.<br><br>- The accuracy of this product has not been assessed\n",
      "Function: Identifies areas of primary forest loss in near real time using Sentinel-2 imagery\n",
      "Geographic Coverage: Amazon basin\n",
      "Tags: Forest Change\n"
     ]
    }
   ],
   "source": [
    "print(df.iloc[70].content)"
   ]
  },
  {
   "cell_type": "markdown",
   "id": "d3b33023-cec0-4a03-b31e-25c6ecf07676",
   "metadata": {},
   "source": [
    "### Create a vectorstore for WRI datasets"
   ]
  },
  {
   "cell_type": "code",
   "execution_count": 8,
   "id": "9b866230-eccd-4fd0-bf86-d5e5eadf78f5",
   "metadata": {},
   "outputs": [],
   "source": [
    "from langchain_ollama.embeddings import OllamaEmbeddings\n",
    "from langchain_chroma import Chroma"
   ]
  },
  {
   "cell_type": "code",
   "execution_count": 9,
   "id": "231d0330-56c3-44f7-bed7-048358d6182a",
   "metadata": {},
   "outputs": [],
   "source": [
    "db = \"chroma_db\"\n",
    "os.makedirs(db, exist_ok=True)"
   ]
  },
  {
   "cell_type": "code",
   "execution_count": 10,
   "id": "e7f08384-ab34-4eab-a341-86acb6b3d8c3",
   "metadata": {},
   "outputs": [],
   "source": [
    "embedder = OllamaEmbeddings(model=\"nomic-embed-text\")"
   ]
  },
  {
   "cell_type": "code",
   "execution_count": 11,
   "id": "47d37eab-636e-4947-8b2e-5bceb8b9b4d9",
   "metadata": {},
   "outputs": [],
   "source": [
    "texts = df['content'].tolist()\n",
    "metadatas = [{'dataset': dataset} for dataset in df['dataset'].tolist()]\n",
    "ids = [f\"doc_{i}\" for i in range(len(texts))]"
   ]
  },
  {
   "cell_type": "code",
   "execution_count": 12,
   "id": "8fb23786-7edd-4a2e-b52b-317adb55f0de",
   "metadata": {},
   "outputs": [
    {
     "name": "stdout",
     "output_type": "stream",
     "text": [
      "CPU times: user 295 ms, sys: 21.8 ms, total: 317 ms\n",
      "Wall time: 12.2 s\n"
     ]
    }
   ],
   "source": [
    "%%time\n",
    "vectorstore = Chroma.from_texts(\n",
    "    texts=texts,\n",
    "    embedding=embedder,\n",
    "    metadatas=metadatas,\n",
    "    ids=ids,\n",
    "    persist_directory=db\n",
    ")"
   ]
  },
  {
   "cell_type": "code",
   "execution_count": 14,
   "id": "24c72069-7b24-48c8-9077-743ee9d38ae2",
   "metadata": {},
   "outputs": [],
   "source": [
    "db = Chroma(\n",
    "        persist_directory=\"chroma_db\", \n",
    "        embedding_function=embedder\n",
    ")"
   ]
  },
  {
   "cell_type": "code",
   "execution_count": 15,
   "id": "9dc9b1f0-a0cc-46a1-abd5-ccf16469c634",
   "metadata": {},
   "outputs": [],
   "source": [
    "retriver = db.as_retriever(k=5)"
   ]
  },
  {
   "cell_type": "code",
   "execution_count": 16,
   "id": "69639464-7aa9-46b1-bf29-da5d4ee40fbb",
   "metadata": {},
   "outputs": [],
   "source": [
    "docs = retriver.invoke(\"I am interested in preserving mangroves in Argentina\", k=3)"
   ]
  },
  {
   "cell_type": "code",
   "execution_count": 17,
   "id": "bc093261-97f6-4627-8d43-b46e60b2ed11",
   "metadata": {},
   "outputs": [
    {
     "name": "stdout",
     "output_type": "stream",
     "text": [
      "{'dataset': 'arg_otbn_forest_loss'}\n",
      "Title: Argentinian National Monitoring System of Native Forests\n",
      "Overview: The Argentinian National Monitoring System of Native Forests quantifies deforestation in Argentina’s native forests since 2007. The dataset was initially created to contribute to the implementation of Argentina’s Native Forest Law (Law N°26331), which seeks to establish the minimum environmental protections for the conservation, restoration, and management of Argentina’s native forests. Additionally, the National Monitoring System of Native Forests aids in ensuring Argentina’s compliance with international agreements on climate change and forest protection.\n",
      "Caution: The original data of the National Monitoring System of Native Forests is not completely annualized and reports forest loss for certain Argentinean regions pre-2017 in a series of date ranges that span multiple years. To visualize this data, multi-year ranges were transformed into annualized values by assigning the deforestation total to the final year of each range. Annual deforestation data from 2007-2017 should be interpreted with caution. The original data files can be accessed on the [Ministry of the Environment and Sustainable Development’s website] (https://www.argentina.gob.ar/ambiente/bosques/monitoreo-bosques-nativos)\n",
      "Function: Displays deforestation in Argentinean native forests from 2007-2022 as defined by governmental sources.\n",
      "Geographic Coverage: Argentina\n",
      "Tags: Conservation\n",
      "{'dataset': 'per_protected_areas'}\n",
      "Title: Peru protected areas\n",
      "Overview: This layer shows three different levels of protected areas as well as their buffer zones. <br><br>**National protected areas** are managed by the national government, under the jurisdiction of the National Service of Natural Protected Areas (SERNANP). These areas are divided in three categories of use: indirect use, direct use, and reserved zone. In indirect areas, the extraction of natural resources or other types of environmental modification are not allowed. These areas only permit non-manipulative scientific investigation and tourist, recreational, educational, and cultural activities under regulated conditions. In direct use areas, the use of natural resources is allowed, primarily by local people, under the guidelines of a Management Plan approved and supervised by the relevant national authority. Reserved Zones are established as a transitory category in areas that have the conditions necessary to be considered as a natural protected area, but that require additional study to determine their extension and category.<br><br>**Regional protected areas** are bound by the same laws established for national protected areas, but are managed by regional governments. Regional protected areas are not divided into categories, but this does not mean that their conservation objectives are all the same.<br><br>**Private protected areas** are conservation areas that are created partially or totally on private property. The environmental, biological, or scenic properties of this land are complementary to the coverage of national PAs, supporting biodiversity conservation and increasing the opportunities for scientific investigation, education, and tourism. The recognition of private PAs is based in an agreement between the State and the owner of the land with the objective of conserving biodiversity for a renewable 10+ year period. <br><br>**Buffer zones** are areas adjacent to natural protected areas that, because of their nature and location, require special treatment to guarantee the conservation of the protected area. The activities in the buffer zone should not put the objectives of the protected area at risk. All use of natural resources in the buffer zone requires prior approval by SERNANP.\n",
      "Function: Shows the location of national, regional, and private protected areas in Peru and buffer zones\n",
      "Geographic Coverage: Peru\n",
      "{'dataset': 'cifor_peatlands'}\n",
      "Title: Tropical and Subtropical Peatland Distribution\n",
      "Overview: Distribution of peatland that covers the tropics and sub tropics, excluding small islands. It was mapped in 231 meters spatial resolution. Peat is here defined as any soil having at least 30cm of decomposed or semi-decomposed organic material with at least 50% of organic matter. This corresponds to 29% of carbon content using 1.72 as the transformation factor. The peatland map is produced by adding the peat forming wetlands: mangrove (20), swamp/bog (30), Fen (40), riverine (50), and floodswamps (60) (note: the number in parentheses refer to pixel code of each class in Wetlands dataset). Our map of peatlands was contrasted against n=275 geo-positioned soil profiles containing peat, with 65% of agreement. Further fieldwork is however needed to validate our map. Mangroves are here considered to host the thresholds of depth and organic matter content needed for peat definition, although mineral soil may prevail. Mangroves contribute with ca. 180,000 km2 to the 1.7 million km2 of peatlands (11%), which would need further ground validation (i.e. in areas like Indonesian Papua have large extents of mangrove that contribute to peat, which would need ground-truthing to validate if they contain peat as defined here).\n",
      "Geographic Coverage: Tropics and Subtropics\n",
      "{'dataset': 'arg_native_forest_land_plan'}\n",
      "Title: Ordenamiento Territorial de Bosques Nativos\n",
      "Overview: Native Forest Classification<br>According to the Constitution of Argentina, the management of natural resources is under the jurisdiction of each individual province, but these must abide by minimum standards defined at the national level. With the purpose of protecting forested landscapes, in 2007, Argentina enacted the National Law N. 26.331 on Minimum Standards of Environmental Protections of Native Forests. This piece of legislation proposes the Territorial Planning of Native Forests (OTBN by its Spanish acronym) as the central tool of forest management. <br>This legislation defines native forests as “all natural forest ecosystems composed predominantly by mature trees of native species, with diverse associated flora and fauna, and their respective environmental components – soil, subsoil, hydric system, atmospheric system – which together form an interdependent system with unique characteristics and multiple functions, which in its natural state is in a dynamic equilibrium and that offers diverse ecosystem services in addition to a diverse set of natural resources for economic use. This definition considers both primary native forests, where there has been no human intervention, as well as secondary forests, forest systems formed after deforestation events, as well as those resulting from restauration activities.”<br>This definition of native forests includes forest ecosystems in different stages of development. Additionally, palm groves are also considered native forests. The following terms are defined as:<br>a) Native mature tree species: A woody plant species native to its respective region with a central trunk that branches out above the ground.<br><br>The 230/12 Resolution of the COFEMA, which defines the guidelines for the consideration, identification, and mapping of native forests for the OTBN, states:<br>Observation # 1.1: Within this definition and mapping of native forest land cover classes that were non-forested were included due to the functional interdependency they have with forested ecosystems, as well as their function as buffer areas, and/or because they provide ecosystem services like those of a native forest.<br>Guideline # 1.1: Use the definition of forest presented in Law N° 26.331 and its regulatory decree to identify and exclude from the OTBN land classes of non-forested vegetation. <br>Guideline # 1.2: The thresholds of minimum size, height and tree cover that determine a native forest are:<br>• 0.5 hectares of continuous forested land<br>• 3m in height<br>• 20% tree canopy cover.<br>Article 6 of the 26.331 Law determines that each province must realize their own implementation of OTBN guidelines via a democratic process that assigns native forests within their territory into a conservation category: <br>- **Category I (Red)**: Very high conservation value. These lands must not be transformed. The use of these lands is limited to being indigenous community territories and areas of scientific research. These zones may undergo activities such as maintenance, protection, data recollection, and others that do not later their intrinsic characteristics. This includes sustainable tourism activities, which must be carried out under Conservation Plans. Additionally, these zones could be targets of ecological restauration programs when faced with natural or human-caused disturbances. <br>- **Category II (Yellow)**: Median conservation value zones, that, although might have some degradation, can have high conservation value with the implementation of restauration activities. Their use is limited to sustainable resource management, tourism, data recollection and scientific research. Deforestation activities are not permitted.<br>- **Category III (Green)**: These are zones of low conservation value that can be partially or completely transformed in line with the standards of this legislation.<br>Uncategorized forests: Within this category are forested lands that do not fall into any of the classifications above. As a general rule, deforestation must be avoided in these areas, unless there is proper authorization. <br>According to what is established in articles 16 and 17 of the Law 26.331, and article 9 of its regulatory decree 91/09, all intervention in native forests must be backed by a detailed planification of all activities under development. This planification must be include a sustainable resource management plan, conservation plan, and plans for the management and conservation of a land category, or plans for land use change. The potential of developing different types of plans depends on the conservation categories assigned to native forests.\n",
      "Caution: - The original data, provided as vector shapefile data, was rasterized to 30 m for visualization purposes. Raster data sets are made up of a grid of square pixels, while vector data is made up of lines and curves (or paths). For more information, [see this guide](http://gif.berkeley.edu/documents/GIS_Data_Formats.pdf).<br>- Shapefile data is provided by the 23 provinces, as each is responsible for carrying out an update of OTBN areas (5 years). Please refer to the respective provincial agency for inquiries regarding data quality or future updates.<br>Full methodology is available in the citation below<br>\n",
      "Function: Displays Argentine forests by OTBN category (Territorial Planning of Native Forests)\n",
      "Geographic Coverage: Argentina\n"
     ]
    }
   ],
   "source": [
    "for doc in docs:\n",
    "    print(doc.metadata)\n",
    "    print(doc.page_content)"
   ]
  },
  {
   "cell_type": "code",
   "execution_count": null,
   "id": "78c864c7-3ba3-4d2d-a503-9903f1b1ef50",
   "metadata": {},
   "outputs": [],
   "source": []
  }
 ],
 "metadata": {
  "kernelspec": {
   "display_name": "Python 3 (ipykernel)",
   "language": "python",
   "name": "python3"
  },
  "language_info": {
   "codemirror_mode": {
    "name": "ipython",
    "version": 3
   },
   "file_extension": ".py",
   "mimetype": "text/x-python",
   "name": "python",
   "nbconvert_exporter": "python",
   "pygments_lexer": "ipython3",
   "version": "3.11.10"
  }
 },
 "nbformat": 4,
 "nbformat_minor": 5
}
