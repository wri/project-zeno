{
 "cells": [
  {
   "cell_type": "code",
   "execution_count": 1,
   "id": "4a38a8eb-72cf-4d43-ae9e-9d49b2e6a4fd",
   "metadata": {},
   "outputs": [],
   "source": [
    "import ee\n",
    "from google.oauth2.service_account import Credentials\n",
    "\n",
    "# Path to the service account JSON key file\n",
    "service_account_key = \"../ee-wri-lcl-zeno-2599d0871370.json\"\n",
    "\n",
    "# Specify the required OAuth scopes for Earth Engine\n",
    "scopes = [\n",
    "    \"https://www.googleapis.com/auth/earthengine\",\n",
    "    \"https://www.googleapis.com/auth/cloud-platform\",\n",
    "]\n",
    "\n",
    "# Create credentials with the specified scopes\n",
    "credentials = Credentials.from_service_account_file(service_account_key, scopes=scopes)\n",
    "\n",
    "# Initialize Earth Engine with the service account credentials\n",
    "ee.Initialize(credentials)"
   ]
  },
  {
   "cell_type": "markdown",
   "id": "47488842-60ff-4f04-809d-e3739ac6a95c",
   "metadata": {},
   "source": [
    "## Generating temporary tile urls using GEE"
   ]
  },
  {
   "cell_type": "code",
   "execution_count": 54,
   "id": "d28785fc-7686-4a77-998b-326a09376ec2",
   "metadata": {},
   "outputs": [],
   "source": [
    "def get_url(image, band=\"b1\", viz_params={}):\n",
    "    selected_image = image.select(band) if band else image\n",
    "    mid = selected_image.getMapId(viz_params)\n",
    "    return mid[\"tile_fetcher\"].url_format"
   ]
  },
  {
   "cell_type": "code",
   "execution_count": 12,
   "id": "2842a4db-4e71-4a73-a9d6-31df1c54b1d9",
   "metadata": {},
   "outputs": [
    {
     "data": {
      "text/plain": [
       "{'type': 'Image',\n",
       " 'bands': [{'id': 'classification',\n",
       "   'data_type': {'type': 'PixelType',\n",
       "    'precision': 'int',\n",
       "    'min': 0,\n",
       "    'max': 255},\n",
       "   'dimensions': [1439601, 540001],\n",
       "   'crs': 'EPSG:4326',\n",
       "   'crs_transform': [0.00025, 0, -179.9, 0, -0.00025, 75]},\n",
       "  {'id': 'natural',\n",
       "   'data_type': {'type': 'PixelType', 'precision': 'int', 'min': 0, 'max': 1},\n",
       "   'crs': 'EPSG:4326',\n",
       "   'crs_transform': [0.00025, 0, -179.9, 0, -0.00025, 75]}],\n",
       " 'version': 1725397479424399,\n",
       " 'id': 'WRI/SBTN/naturalLands/v1/2020',\n",
       " 'properties': {'system:time_start': 1577836800000,\n",
       "  'classification_class_values': [2,\n",
       "   3,\n",
       "   4,\n",
       "   5,\n",
       "   6,\n",
       "   7,\n",
       "   8,\n",
       "   9,\n",
       "   10,\n",
       "   11,\n",
       "   12,\n",
       "   13,\n",
       "   14,\n",
       "   15,\n",
       "   16,\n",
       "   17,\n",
       "   18,\n",
       "   19,\n",
       "   20,\n",
       "   21],\n",
       "  'natural_class_values': [0, 1],\n",
       "  'system:footprint': {'type': 'LinearRing',\n",
       "   'coordinates': [[-180, -90],\n",
       "    [180, -90],\n",
       "    [180, 90],\n",
       "    [-180, 90],\n",
       "    [-180, -90]]},\n",
       "  'system:time_end': 1609459200000,\n",
       "  'natural_class_palette': ['969696', 'A8DDB5'],\n",
       "  'system:asset_size': 20189186972,\n",
       "  'classification_class_palette': ['246E24',\n",
       "   'B9B91E',\n",
       "   '6BAED6',\n",
       "   '06A285',\n",
       "   'FEFECC',\n",
       "   'ACD1E8',\n",
       "   '589558',\n",
       "   '093D09',\n",
       "   'DBDB7B',\n",
       "   '99991A',\n",
       "   'D3D3D3',\n",
       "   'D3D3D3',\n",
       "   'D3D3D3',\n",
       "   'D3D3D3',\n",
       "   'D3D3D3',\n",
       "   'D3D3D3',\n",
       "   'D3D3D3',\n",
       "   'D3D3D3',\n",
       "   'D3D3D3',\n",
       "   'D3D3D3'],\n",
       "  'system:index': '2020'}}"
      ]
     },
     "execution_count": 12,
     "metadata": {},
     "output_type": "execute_result"
    }
   ],
   "source": [
    "## Instatiate image obj\n",
    "image = ee.Image(\"WRI/SBTN/naturalLands/v1/2020\")\n",
    "\n",
    "## get info (sometimes this includes visualisation info)\n",
    "image.getInfo()"
   ]
  },
  {
   "cell_type": "code",
   "execution_count": 19,
   "id": "c39f47fa-c029-4a4c-b311-2736261ba559",
   "metadata": {},
   "outputs": [
    {
     "data": {
      "text/plain": [
       "'https://earthengine.googleapis.com/v1/projects/earthengine-legacy/maps/57c9739e7f6e1b5b3e2437fa983d9dc7-758ad6720b933b18744d961d6a9b5a80/tiles/{z}/{x}/{y}'"
      ]
     },
     "execution_count": 19,
     "metadata": {},
     "output_type": "execute_result"
    }
   ],
   "source": [
    "## define viz params\n",
    "band = \"classification\"\n",
    "viz_params = {\n",
    "    \"min\": 2,\n",
    "    \"max\": 21,\n",
    "    \"palette\": [\n",
    "        \"246E24\",\n",
    "        \"B9B91E\",\n",
    "        \"6BAED6\",\n",
    "        \"06A285\",\n",
    "        \"FEFECC\",\n",
    "        \"ACD1E8\",\n",
    "        \"589558\",\n",
    "        \"093D09\",\n",
    "        \"DBDB7B\",\n",
    "        \"99991A\",\n",
    "        \"D3D3D3\", \"D3D3D3\", \"D3D3D3\", \"D3D3D3\", \"D3D3D3\", \"D3D3D3\", \"D3D3D3\", \"D3D3D3\", \"D3D3D3\", \"D3D3D3\"\n",
    "    ],\n",
    "}\n",
    "\n",
    "url = get_url(image, band, viz_params)\n",
    "url"
   ]
  },
  {
   "cell_type": "code",
   "execution_count": 25,
   "id": "d25a0266-3ed0-47b2-8125-20b34169138a",
   "metadata": {},
   "outputs": [
    {
     "data": {
      "text/plain": [
       "'https://earthengine.googleapis.com/v1/projects/earthengine-legacy/maps/57c9739e7f6e1b5b3e2437fa983d9dc7-758ad6720b933b18744d961d6a9b5a80/tiles/8/78/143'"
      ]
     },
     "execution_count": 25,
     "metadata": {},
     "output_type": "execute_result"
    }
   ],
   "source": [
    "tile_url = url.replace(\"{z}/{x}/{y}\", \"8/78/143\")\n",
    "tile_url"
   ]
  },
  {
   "cell_type": "code",
   "execution_count": 26,
   "id": "28cabb65-2879-41e0-8043-8f65f41a7812",
   "metadata": {},
   "outputs": [
    {
     "data": {
      "image/png": "[encoded data removed]",
      "text/plain": [
       "<IPython.core.display.Image object>"
      ]
     },
     "execution_count": 26,
     "metadata": {},
     "output_type": "execute_result"
    }
   ],
   "source": [
    "from IPython.display import Image\n",
    "\n",
    "Image(url=tile_url, embed=True, format=\"png\")"
   ]
  },
  {
   "cell_type": "code",
   "execution_count": 27,
   "id": "64de0143-01e6-4d35-bf57-3813c86de6be",
   "metadata": {},
   "outputs": [
    {
     "data": {
      "text/plain": [
       "'https://earthengine.googleapis.com/v1/projects/earthengine-legacy/maps/9ac35ac5573d594a7ecf512f2b5eeabd-fbe15d09b0cac8e9b85430f327ea36c0/tiles/{z}/{x}/{y}'"
      ]
     },
     "execution_count": 27,
     "metadata": {},
     "output_type": "execute_result"
    }
   ],
   "source": [
    "## define viz params\n",
    "band = \"natural\"\n",
    "viz_params = {\n",
    "    \"min\": 0,\n",
    "    \"max\": 1,\n",
    "    \"palette\": [\"969696\", \"A8DDB5\"],\n",
    "}\n",
    "\n",
    "url = get_url(image, band, viz_params)\n",
    "url"
   ]
  },
  {
   "cell_type": "code",
   "execution_count": 29,
   "id": "d952ed60-e59e-4639-af7f-39ef9c1aeb58",
   "metadata": {},
   "outputs": [
    {
     "data": {
      "image/png": "[encoded data removed]",
      "text/plain": [
       "<IPython.core.display.Image object>"
      ]
     },
     "execution_count": 29,
     "metadata": {},
     "output_type": "execute_result"
    }
   ],
   "source": [
    "tile_url = url.replace(\"{z}/{x}/{y}\", \"8/78/143\")\n",
    "Image(url=tile_url, embed=True, format=\"png\")"
   ]
  },
  {
   "cell_type": "markdown",
   "id": "c4c9d43c-2540-4273-82dc-429ad5837dcb",
   "metadata": {},
   "source": [
    "## Land Cover 2020"
   ]
  },
  {
   "cell_type": "code",
   "execution_count": 39,
   "id": "f5c1ecec-7206-4cc0-b0d4-cf93162fe0c0",
   "metadata": {},
   "outputs": [
    {
     "data": {
      "text/plain": [
       "{'type': 'Image',\n",
       " 'bands': [{'id': 'b1',\n",
       "   'data_type': {'type': 'PixelType',\n",
       "    'precision': 'int',\n",
       "    'min': 0,\n",
       "    'max': 255},\n",
       "   'dimensions': [1440000, 560000],\n",
       "   'crs': 'EPSG:4326',\n",
       "   'crs_transform': [0.00025, 0, -180, 0, -0.00025, 80]}],\n",
       " 'version': 1694471792005900.0,\n",
       " 'id': 'projects/glad/GLCLU2020/v2/LCLUC_2020',\n",
       " 'properties': {'system:footprint': {'type': 'LinearRing',\n",
       "   'coordinates': [[-180, -90],\n",
       "    [180, -90],\n",
       "    [180, 90],\n",
       "    [-180, 90],\n",
       "    [-180, -90]]},\n",
       "  'system:asset_size': 69823746933}}"
      ]
     },
     "execution_count": 39,
     "metadata": {},
     "output_type": "execute_result"
    }
   ],
   "source": [
    "image = ee.Image(\"projects/glad/GLCLU2020/v2/LCLUC_2020\")\n",
    "image.getInfo()"
   ]
  },
  {
   "cell_type": "code",
   "execution_count": 40,
   "id": "5916029a-81d4-448e-a93c-b6eda425da36",
   "metadata": {},
   "outputs": [
    {
     "data": {
      "text/plain": [
       "'https://earthengine.googleapis.com/v1/projects/earthengine-legacy/maps/580bd9acc2f500d565829d4fc29cb7e3-edcd24d9f8dbaa4f64bdb4b498baf692/tiles/{z}/{x}/{y}'"
      ]
     },
     "execution_count": 40,
     "metadata": {},
     "output_type": "execute_result"
    }
   ],
   "source": [
    "## define viz params\n",
    "band = \"b1\"\n",
    "viz_params = {\"min\":0,\"max\":255,\"palette\":[\"FEFECC\",\"FAFAC3\",\"F7F7BB\",\"F4F4B3\",\"F1F1AB\",\"EDEDA2\",\"EAEA9A\",\"E7E792\",\"E4E48A\",\n",
    "\"E0E081\",\"DDDD79\",\"DADA71\",\"D7D769\",\"D3D360\",\"D0D058\",\"CDCD50\",\"CACA48\",\"C6C63F\",\"C3C337\",\"C0C02F\",\"BDBD27\",\"B9B91E\",\"B6B616\",\n",
    "\"B3B30E\",\"B0B006\",\"609C60\",\"5C985C\",\"589558\",\"549254\",\"508E50\",\"4C8B4C\",\"488848\",\"448544\",\"408140\",\"3C7E3C\",\"387B38\",\"347834\",\n",
    "\"317431\",\"2D712D\",\"296E29\",\"256B25\",\"216721\",\"1D641D\",\"196119\",\"155E15\",\"115A11\",\"0D570D\",\"095409\",\"065106\",\"643700\",\"643a00\",\n",
    "\"643d00\",\"644000\",\"644300\",\"644600\",\"644900\",\"654c00\",\"654f00\",\"655200\",\"655500\",\"655800\",\"655a00\",\"655d00\",\"656000\",\"656300\",\n",
    "\"666600\",\"666900\",\"666c00\",\"666f00\",\"667200\",\"667500\",\"667800\",\"667b00\",\"ff99ff\",\"FC92FC\",\"F98BF9\",\"F685F6\",\"F37EF3\",\"F077F0\",\n",
    "\"ED71ED\",\"EA6AEA\",\"E763E7\",\"E45DE4\",\"E156E1\",\"DE4FDE\",\"DB49DB\",\"D842D8\",\"D53BD5\",\"D235D2\",\"CF2ECF\",\"CC27CC\",\"C921C9\",\"C61AC6\",\n",
    "\"C313C3\",\"C00DC0\",\"BD06BD\",\"bb00bb\",\"000003\",\"000004\",\"000005\",\"BFC0C0\",\"B7BDC2\",\"AFBBC4\",\"A8B8C6\",\"A0B6C9\",\"99B3CB\",\"91B1CD\",\n",
    "\"89AFD0\",\"82ACD2\",\"7AAAD4\",\"73A7D6\",\"6BA5D9\",\"64A3DB\",\"5CA0DD\",\"549EE0\",\"4D9BE2\",\"4599E4\",\"3E96E6\",\"3694E9\",\"2E92EB\",\"278FED\",\n",
    "\"1F8DF0\",\"188AF2\",\"1088F4\",\"0986F7\",\"55A5A5\",\"53A1A2\",\"519E9F\",\"4F9B9C\",\"4D989A\",\"4B9597\",\"499294\",\"478F91\",\"458B8F\",\"43888C\",\n",
    "\"418589\",\"3F8286\",\"3D7F84\",\"3B7C81\",\"39797E\",\"37767B\",\"357279\",\"336F76\",\"316C73\",\"2F6970\",\"2D666E\",\"2B636B\",\"296068\",\"285D66\",\n",
    "\"bb93b0\",\"B78FAC\",\"B48CA9\",\"B189A6\",\"AE85A2\",\"AA829F\",\"A77F9C\",\"A47B99\",\"A17895\",\"9E7592\",\"9A718F\",\"976E8C\",\"946B88\",\"916885\",\n",
    "\"8D6482\",\"8A617F\",\"875E7B\",\"845A78\",\"815775\",\"7D5472\",\"7A506E\",\"774D6B\",\"744A68\",\"714765\",\"de7cbb\",\"DA77B7\",\"D772B3\",\"D46EAF\",\n",
    "\"D169AB\",\"CE64A8\",\"CB60A4\",\"C85BA0\",\"C4579C\",\"C15298\",\"BE4D95\",\"BB4991\",\"B8448D\",\"B54089\",\"B23B86\",\"AF3682\",\"AB327E\",\"A82D7A\",\n",
    "\"A52976\",\"A22473\",\"9F1F6F\",\"9C1B6B\",\"991667\",\"961264\",\"000000\",\"000000\",\"000000\",\n",
    "\"1964EB\",\"1555E4\",\"1147DD\",\"0E39D6\",\"0A2ACF\",\"071CC8\",\"030EC1\",\"0000BA\",\n",
    "\"0000BA\",\"040464\",\"0000FF\",\"3051cf\",\"000000\",\"000000\",\"000000\",\"000000\",\n",
    "\"000000\",\"000000\",\"000000\",\"000000\",\"000000\",\"000000\",\"000000\",\"000000\",\n",
    "\"000000\",\"000000\",\"000000\",\"000000\",\"000000\",\"000000\",\"000000\",\"000000\",\n",
    "\"547FC4\",\"4D77BA\",\"466FB1\",\"4067A7\",\"395F9E\",\"335895\",\"335896\",\"335897\",\"ff2828\",\"ffffff\",\"d0ffff\",\"ffe0d0\",\"ff7d00\",\"fac800\",\"c86400\",\n",
    "\"fff000\",\"afcd96\",\"afcd96\",\"64dcdc\",\"00ffff\",\"00ffff\",\"00ffff\",\"111133\",\"000000\"]}\n",
    "\n",
    "url = get_url(image, band, viz_params)\n",
    "url"
   ]
  },
  {
   "cell_type": "code",
   "execution_count": 41,
   "id": "00b2dfd4-ba2a-40c7-a6f3-ffde2ebdd78b",
   "metadata": {},
   "outputs": [
    {
     "data": {
      "image/png": "[encoded data removed]",
      "text/plain": [
       "<IPython.core.display.Image object>"
      ]
     },
     "execution_count": 41,
     "metadata": {},
     "output_type": "execute_result"
    }
   ],
   "source": [
    "tile_url = url.replace(\"{z}/{x}/{y}\", \"9/168/291\")\n",
    "Image(url=tile_url, embed=True, format=\"png\")"
   ]
  },
  {
   "cell_type": "markdown",
   "id": "7d166893-9f2f-4e79-b394-15a778e7f030",
   "metadata": {},
   "source": [
    "## Dominant Grasslands 2022"
   ]
  },
  {
   "cell_type": "code",
   "execution_count": 42,
   "id": "a4cfc2c1-5e5f-41de-a0db-16ae5505548b",
   "metadata": {},
   "outputs": [
    {
     "data": {
      "text/plain": [
       "{'type': 'Image',\n",
       " 'bands': [{'id': 'dominant_class',\n",
       "   'data_type': {'type': 'PixelType',\n",
       "    'precision': 'int',\n",
       "    'min': 0,\n",
       "    'max': 255},\n",
       "   'dimensions': [1436000, 528000],\n",
       "   'crs': 'EPSG:4326',\n",
       "   'crs_transform': [0.0002499999999999676,\n",
       "    0,\n",
       "    -180,\n",
       "    0,\n",
       "    -0.0002499999999999676,\n",
       "    76]}],\n",
       " 'version': 1728588528278964,\n",
       " 'id': 'projects/global-pasture-watch/assets/ggc-30m/v1/grassland_c/2022',\n",
       " 'properties': {'system:time_start': 1640995200000,\n",
       "  'system:footprint': {'type': 'LinearRing',\n",
       "   'coordinates': [[36.13620481797695, 76.00012545508356],\n",
       "    [-31.70212663560705, 76.00012548045406],\n",
       "    [-125.65909268944382, 76.00012546048005],\n",
       "    [179.9990898386791, 76.00012504906192],\n",
       "    [179.99967717309065, -56.00012509362095],\n",
       "    [-136.7025418063928, -56.000125432397105],\n",
       "    [-100.06633693134253, -56.00012547614944],\n",
       "    [-43.97262606682938, -56.000125449556],\n",
       "    [-5.408199668238945, -56.000125433999116],\n",
       "    [36.48679062986134, -56.000125445898554],\n",
       "    [64.35835326574026, -56.000125476100735],\n",
       "    [105.9027578845895, -56.00012544073593],\n",
       "    [154.10829082528286, -56.00012541534024],\n",
       "    [179.00032288484374, -56.000125156571606],\n",
       "    [179.00091034238685, 76.00012503333166],\n",
       "    [87.49700905296818, 76.0001254503305],\n",
       "    [36.13620481797695, 76.00012545508356]]},\n",
       "  'system:time_end': 1672531199000,\n",
       "  'system:index': '2022'}}"
      ]
     },
     "execution_count": 42,
     "metadata": {},
     "output_type": "execute_result"
    }
   ],
   "source": [
    "image = ee.Image(\"projects/global-pasture-watch/assets/ggc-30m/v1/grassland_c/2022\")\n",
    "image.getInfo()"
   ]
  },
  {
   "cell_type": "code",
   "execution_count": 43,
   "id": "4de9940b-dcc1-47b0-ae9b-620e5001de10",
   "metadata": {},
   "outputs": [
    {
     "data": {
      "text/plain": [
       "'https://earthengine.googleapis.com/v1/projects/earthengine-legacy/maps/a2d18892780fffb34b1c63f98f7fce97-9de08a2678cbeb9d36b732520fa2adc6/tiles/{z}/{x}/{y}'"
      ]
     },
     "execution_count": 43,
     "metadata": {},
     "output_type": "execute_result"
    }
   ],
   "source": [
    "## define viz params\n",
    "band = \"dominant_class\"\n",
    "viz_params = {\n",
    "    \"min\":0,\n",
    "    \"max\":2,\n",
    "    \"palette\":[\"ffffff\", \"ff9916\", \"ffcd73\"]\n",
    "}\n",
    "\n",
    "url = get_url(image, band, viz_params)\n",
    "url"
   ]
  },
  {
   "cell_type": "code",
   "execution_count": 44,
   "id": "d2c2ee2e-f3f9-4a21-828f-d4f2bc018231",
   "metadata": {},
   "outputs": [
    {
     "data": {
      "image/png": "[encoded data removed]",
      "text/plain": [
       "<IPython.core.display.Image object>"
      ]
     },
     "execution_count": 44,
     "metadata": {},
     "output_type": "execute_result"
    }
   ],
   "source": [
    "tile_url = url.replace(\"{z}/{x}/{y}\", \"9/168/291\")\n",
    "Image(url=tile_url, embed=True, format=\"png\")"
   ]
  },
  {
   "cell_type": "markdown",
   "id": "08bfade9-4f95-447b-85cd-bd4a1e07176b",
   "metadata": {},
   "source": [
    "## Forest type"
   ]
  },
  {
   "cell_type": "code",
   "execution_count": 59,
   "id": "48c00e47-324b-4baa-92de-2d69a64125ff",
   "metadata": {},
   "outputs": [
    {
     "data": {
      "text/plain": [
       "{'type': 'Image',\n",
       " 'bands': [{'id': 'Map',\n",
       "   'data_type': {'type': 'PixelType',\n",
       "    'precision': 'int',\n",
       "    'min': 0,\n",
       "    'max': 255},\n",
       "   'crs': 'EPSG:4326',\n",
       "   'crs_transform': [1, 0, 0, 0, 1, 0]}]}"
      ]
     },
     "execution_count": 59,
     "metadata": {},
     "output_type": "execute_result"
    }
   ],
   "source": [
    "image = ee.ImageCollection(\"JRC/GFC2020_subtypes/V0\").mosaic()\n",
    "image.getInfo()"
   ]
  },
  {
   "cell_type": "code",
   "execution_count": 62,
   "id": "f44a9082-2ce9-4ab9-89c7-5f51da2ade18",
   "metadata": {},
   "outputs": [
    {
     "data": {
      "text/plain": [
       "'https://earthengine.googleapis.com/v1/projects/earthengine-legacy/maps/871ab6d21ac87dab4b0329dca66187e0-a637e52ae36fc3462fdc37bad623787a/tiles/{z}/{x}/{y}'"
      ]
     },
     "execution_count": 62,
     "metadata": {},
     "output_type": "execute_result"
    }
   ],
   "source": [
    "## define viz params\n",
    "band = None\n",
    "viz_params = {\n",
    "    \"min\":0,\n",
    "    \"max\":20,\n",
    "    \"palette\": [\"ffffff\",\n",
    "                \"78c679\",\n",
    "                \"00000000\", \"00000000\", \"00000000\", \"00000000\", \"00000000\", \"00000000\", \"00000000\", \"00000000\",\n",
    "                \"006837\",\n",
    "                \"00000000\", \"00000000\", \"00000000\", \"00000000\", \"00000000\", \"00000000\", \"00000000\", \"00000000\", \"00000000\",\n",
    "                \"cc6600\"\n",
    "    ]\n",
    "}\n",
    "\n",
    "url = get_url(image, band, viz_params)\n",
    "url"
   ]
  },
  {
   "cell_type": "code",
   "execution_count": 63,
   "id": "45fbf4cb-8dd8-4a00-9522-9965befd9a45",
   "metadata": {},
   "outputs": [
    {
     "data": {
      "image/png": "[encoded data removed]",
      "text/plain": [
       "<IPython.core.display.Image object>"
      ]
     },
     "execution_count": 63,
     "metadata": {},
     "output_type": "execute_result"
    }
   ],
   "source": [
    "tile_url = url.replace(\"{z}/{x}/{y}\", \"9/168/291\")\n",
    "Image(url=tile_url, embed=True, format=\"png\")"
   ]
  },
  {
   "cell_type": "markdown",
   "id": "0459b98f-b1c0-4ce5-bf70-26515af84668",
   "metadata": {},
   "source": [
    "## Tree canopy height"
   ]
  },
  {
   "cell_type": "code",
   "execution_count": 64,
   "id": "7490436d-40c0-43c5-86e6-5261255a5597",
   "metadata": {},
   "outputs": [
    {
     "data": {
      "text/plain": [
       "{'type': 'Image',\n",
       " 'bands': [{'id': 'cover_code',\n",
       "   'data_type': {'type': 'PixelType',\n",
       "    'precision': 'int',\n",
       "    'min': 0,\n",
       "    'max': 255},\n",
       "   'crs': 'EPSG:4326',\n",
       "   'crs_transform': [1, 0, 0, 0, 1, 0]}]}"
      ]
     },
     "execution_count": 64,
     "metadata": {},
     "output_type": "execute_result"
    }
   ],
   "source": [
    "image = ee.ImageCollection(\"projects/meta-forest-monitoring-okw37/assets/CanopyHeight\").mosaic()\n",
    "image.getInfo()"
   ]
  },
  {
   "cell_type": "code",
   "execution_count": 65,
   "id": "a777ef39-2578-42b5-aec9-37f81640ab7f",
   "metadata": {},
   "outputs": [
    {
     "data": {
      "text/plain": [
       "'https://earthengine.googleapis.com/v1/projects/earthengine-legacy/maps/645a96325b003098c33291a38732e151-0252cae0983f50a8c85c99adb3994d77/tiles/{z}/{x}/{y}'"
      ]
     },
     "execution_count": 65,
     "metadata": {},
     "output_type": "execute_result"
    }
   ],
   "source": [
    "## define viz params\n",
    "band = None\n",
    "viz_params = {\n",
    "    \"min\":0,\n",
    "    \"max\":25,\n",
    "    \"palette\": [\"f7fcf5\", \"f1faee\", \"ecf8e8\", \"e6f5e1\", \"ddf2d8\", \"d3eecd\",\n",
    "    \"caeac3\", \"bee5b8\", \"b2e0ac\", \"a5db9f\", \"98d594\", \"8ace88\",\n",
    "    \"7cc87c\", \"6bc072\", \"5bb86a\", \"4bb062\", \"3ea75a\", \"339c52\",\n",
    "    \"2a924a\", \"208843\", \"157f3b\", \"097532\", \"006b2b\", \"005e26\",\n",
    "    \"005120\", \"00441b\"\n",
    "    ]\n",
    "}\n",
    "\n",
    "url = get_url(image, band, viz_params)\n",
    "url"
   ]
  },
  {
   "cell_type": "code",
   "execution_count": 66,
   "id": "b93dcc11-7684-4fcf-8a5f-0a40aba3df79",
   "metadata": {},
   "outputs": [
    {
     "data": {
      "image/png": "[encoded data removed]",
      "text/plain": [
       "<IPython.core.display.Image object>"
      ]
     },
     "execution_count": 66,
     "metadata": {},
     "output_type": "execute_result"
    }
   ],
   "source": [
    "tile_url = url.replace(\"{z}/{x}/{y}\", \"9/168/291\")\n",
    "Image(url=tile_url, embed=True, format=\"png\")"
   ]
  },
  {
   "cell_type": "markdown",
   "id": "d0eb9d3a-b331-4f77-952e-d8c061027812",
   "metadata": {},
   "source": [
    "## DIST Alerts and drivers"
   ]
  },
  {
   "cell_type": "code",
   "execution_count": 70,
   "id": "89b4c591-8ec6-4b1b-a791-2a1e4b9f96a8",
   "metadata": {},
   "outputs": [],
   "source": [
    "VEGDISTSTATUS = ee.ImageCollection(\"projects/glad/HLSDIST/current/VEG-DIST-STATUS\").mosaic()\n",
    "VEGDISTDATE = ee.ImageCollection(\"projects/glad/HLSDIST/current/VEG-DIST-DATE\").mosaic()\n",
    "VEGDISTCOUNT = ee.ImageCollection(\"projects/glad/HLSDIST/current/VEG-DIST-COUNT\").mosaic()\n",
    "VEGANOMMAX = ee.ImageCollection(\"projects/glad/HLSDIST/current/VEG-ANOM-MAX\").mosaic()"
   ]
  },
  {
   "cell_type": "code",
   "execution_count": 105,
   "id": "4b0620d1-c982-48e6-a647-95870c72d55d",
   "metadata": {},
   "outputs": [
    {
     "data": {
      "text/plain": [
       "1469"
      ]
     },
     "execution_count": 105,
     "metadata": {},
     "output_type": "execute_result"
    }
   ],
   "source": [
    "from datetime import datetime\n",
    "\n",
    "\n",
    "def days_since_dec_31_2020(input_date: str):\n",
    "    # Define the reference date\n",
    "    reference_date = datetime(2020, 12, 31)\n",
    "    # Convert input date string to a datetime object\n",
    "    try:\n",
    "        input_datetime = datetime.strptime(input_date, \"%Y-%m-%d\")\n",
    "    except ValueError:\n",
    "        raise ValueError(\"Input date must be in the format 'YYYY-MM-DD'\")\n",
    "\n",
    "    # Calculate the difference in days\n",
    "    days_difference = (input_datetime - reference_date).days\n",
    "    return days_difference\n",
    "\n",
    "# Example usage\n",
    "input_date = \"2025-01-08\"  # Replace with your input date\n",
    "result = days_since_dec_31_2020(input_date)\n",
    "result"
   ]
  },
  {
   "cell_type": "code",
   "execution_count": 106,
   "id": "410f394b-51bb-4e63-b4f8-78e54f8061f6",
   "metadata": {},
   "outputs": [],
   "source": [
    "start = \"2024-01-01\"\n",
    "end = \"2024-06-01\"\n",
    "\n",
    "lower_limit = days_since_dec_31_2020(start)\n",
    "upper_limit = days_since_dec_31_2020(end)\n",
    "\n",
    "datemask = VEGDISTDATE.gte(lower_limit).And(image.lte(upper_limit))\n",
    "confmask = VEGDISTCOUNT.gte(2).And(VEGANOMMAX.gt(50))\n",
    "\n",
    "image = VEGDISTSTATUS.updateMask(datemask).updateMask(confmask)"
   ]
  },
  {
   "cell_type": "code",
   "execution_count": 107,
   "id": "2b186d78-4226-4dfc-b6b7-9dbf3b8a23bc",
   "metadata": {},
   "outputs": [
    {
     "data": {
      "text/plain": [
       "'https://earthengine.googleapis.com/v1/projects/earthengine-legacy/maps/d6e2ae15128ac0ec34251ebfce89297a-5ea98590bede0ea533dc2ac164264358/tiles/{z}/{x}/{y}'"
      ]
     },
     "execution_count": 107,
     "metadata": {},
     "output_type": "execute_result"
    }
   ],
   "source": [
    "## define viz params\n",
    "band = \"b1\"\n",
    "viz_params = {\n",
    "    \"min\":0,\n",
    "    \"max\":1,\n",
    "    \"palette\": [\"white\", \"black\"]\n",
    "}\n",
    "\n",
    "url = get_url(image, band, viz_params)\n",
    "url"
   ]
  },
  {
   "cell_type": "code",
   "execution_count": 108,
   "id": "5c2b388e-a780-4eaa-83da-49f480064613",
   "metadata": {},
   "outputs": [
    {
     "data": {
      "image/png": "[encoded data removed]",
      "text/plain": [
       "<IPython.core.display.Image object>"
      ]
     },
     "execution_count": 108,
     "metadata": {},
     "output_type": "execute_result"
    }
   ],
   "source": [
    "tile_url = url.replace(\"{z}/{x}/{y}\", \"7/44/72\")\n",
    "Image(url=tile_url, embed=True, format=\"png\")"
   ]
  },
  {
   "cell_type": "markdown",
   "id": "452311e5-da59-4f4e-a1b4-482698adad59",
   "metadata": {},
   "source": [
    "## Drivers"
   ]
  },
  {
   "cell_type": "code",
   "execution_count": 82,
   "id": "d2e51199-935c-4107-91a9-9fb380cdd643",
   "metadata": {},
   "outputs": [],
   "source": [
    "wf_collection = ee.ImageCollection.fromImages(\n",
    "  [ee.Image(\"projects/wri-dist-alert-drivers/assets/wildfire/dist-alert-wildfire-africa-nov2023-oct2024_v01\"),\n",
    "  ee.Image(\"projects/wri-dist-alert-drivers/assets/wildfire/dist-alert-wildfire-europe-nov2023-oct2024_v01\"),\n",
    "  ee.Image(\"projects/wri-dist-alert-drivers/assets/wildfire/dist-alert-wildfire-latam-nov2023-oct2024_v01\"),\n",
    "  ee.Image(\"projects/wri-dist-alert-drivers/assets/wildfire/dist-alert-wildfire-ne-asia-nov2023-oct2024_v01\"),\n",
    "  ee.Image(\"projects/wri-dist-alert-drivers/assets/wildfire/dist-alert-wildfire-north-am-nov2023-oct2024_v01\"),\n",
    "  ee.Image(\"projects/wri-dist-alert-drivers/assets/wildfire/dist-alert-wildfire-se-asia-oceania-nov2023-oct2024_v01\")]\n",
    ")\n",
    "\n",
    "cc_collection = ee.ImageCollection.fromImages(\n",
    "  [ee.Image(\"projects/ee-jamesmaccarthy-wri/assets/dist-alert-crop-cycle-africa-nov2023-oct2024-tiles-all\"),\n",
    "  ee.Image(\"projects/ee-jamesmaccarthy-wri/assets/dist-alert-crop-cycle-europe-nov2023-oct2024-tiles-all\"),\n",
    "  ee.Image(\"projects/ee-jamesmaccarthy-wri/assets/dist-alert-crop-cycle-latam-nov2023-oct2024-tiles-all\"),\n",
    "  ee.Image(\"projects/ee-jamesmaccarthy-wri/assets/dist-alert-crop-cycle-northam-nov2023-oct2024-tiles-all\"),\n",
    "  ee.Image(\"projects/ee-jamesmaccarthy-wri/assets/dist-alert-crop-cycle-seasia_oceania-nov2023-oct2024-tiles-all\"),\n",
    "  ee.Image(\"projects/ee-jamesmaccarthy-wri/assets/dist-alert-crop-cycle-neasia-nov2023-oct2024-tiles-all\")]\n",
    ")\n",
    "\n",
    "fl_collection = ee.ImageCollection.fromImages(\n",
    "  [ee.Image(\"projects/ee-jamesmaccarthy-wri/assets/dist-alert-flooding-africa-nov2023-oct2024-tiles-all\"),\n",
    "  ee.Image(\"projects/ee-jamesmaccarthy-wri/assets/dist-alert-flooding-europe-nov2023-oct2024-tiles-all\"),\n",
    "  ee.Image(\"projects/ee-jamesmaccarthy-wri/assets/dist-alert-flooding-latam-nov2023-oct2024-tiles-all\"),\n",
    "  ee.Image(\"projects/ee-jamesmaccarthy-wri/assets/dist-alert-flooding-northam-nov2023-oct2024-tiles-all\"),\n",
    "  ee.Image(\"projects/ee-jamesmaccarthy-wri/assets/dist-alert-flooding-seasia-oceania-nov2023-oct2024-tiles-all\"),\n",
    "  ee.Image(\"projects/ee-jamesmaccarthy-wri/assets/dist-alert-flooding-neasia-nov2023-oct2024-tiles-all\")]\n",
    ")\n",
    "\n",
    "cv_collection = ee.ImageCollection.fromImages(\n",
    "  [ee.Image(\"projects/wri-dist-alert-drivers/assets/conversion/dist-alert-conversion-africa-nov2023-oct2024_v01\"),\n",
    "  ee.Image(\"projects/wri-dist-alert-drivers/assets/conversion/dist-alert-conversion-europe-nov2023-oct2024_v01\"),\n",
    "  ee.Image(\"projects/wri-dist-alert-drivers/assets/conversion/dist-alert-conversion-latam-nov2023-oct2024_v01\"),\n",
    "  ee.Image(\"projects/wri-dist-alert-drivers/assets/conversion/dist-alert-conversion-ne-asia-nov2023-oct2024_v01\"),\n",
    "  ee.Image(\"projects/wri-dist-alert-drivers/assets/conversion/dist-alert-conversion-north-am-nov2023-oct2024_v01\"),\n",
    "  ee.Image(\"projects/wri-dist-alert-drivers/assets/conversion/dist-alert-conversion-se-asia-oceania-nov2023-oct2024_v01\")]\n",
    ")"
   ]
  },
  {
   "cell_type": "code",
   "execution_count": 109,
   "id": "26e27a24-26ee-47ea-a4eb-9663e3143b0a",
   "metadata": {},
   "outputs": [],
   "source": [
    "natLands = ee.Image(\"WRI/SBTN/naturalLands/v1/2020\").select(\"natural\")\n",
    "\n",
    "wildfire = wf_collection.mosaic() \\\n",
    "                  .neq(0) \\\n",
    "                  .updateMask(datemask) \\\n",
    "                  .updateMask(confmask) \\\n",
    "                  .updateMask(natLands)\n",
    "\n",
    "crop_cycle = cc_collection.mosaic().updateMask(datemask).updateMask(confmask)\n",
    "\n",
    "flooding = fl_collection.mosaic() \\\n",
    "                            .updateMask(datemask) \\\n",
    "                            .updateMask(confmask) \\\n",
    "                            .updateMask(crop_cycle.unmask(2).neq(1)) \\\n",
    "                            .updateMask(wildfire.eq(0).unmask(1)) \\\n",
    "\n",
    "conversion = cv_collection.mosaic().updateMask(datemask).updateMask(confmask) \\\n",
    "                            .updateMask(natLands) \\\n",
    "                            .updateMask(crop_cycle.unmask(2).neq(1)) \\\n",
    "                            .updateMask(wildfire.unmask(2).neq(1))\n",
    "\n",
    "unclassified = cv_collection.mosaic().updateMask(datemask).updateMask(confmask) \\\n",
    "                            .updateMask(natLands.eq(0)) \\\n",
    "                            .updateMask(crop_cycle.unmask(2).neq(1)) \\\n",
    "                            .updateMask(wildfire.unmask(2).neq(1))"
   ]
  },
  {
   "cell_type": "code",
   "execution_count": 102,
   "id": "a087d2af-55fc-4ac1-bd84-0eaa2cba2199",
   "metadata": {},
   "outputs": [
    {
     "data": {
      "text/plain": [
       "'https://earthengine.googleapis.com/v1/projects/earthengine-legacy/maps/0cd8a776f02da996ff631a721a7692d3-6806cab1ed478a8be59201d837b2aa89/tiles/{z}/{x}/{y}'"
      ]
     },
     "execution_count": 102,
     "metadata": {},
     "output_type": "execute_result"
    }
   ],
   "source": [
    "viz_params = {\n",
    "  \"min\": 0,\n",
    "  \"max\": 1,\n",
    "  \"palette\": [\"00000000\", \"red\"]\n",
    "}\n",
    "\n",
    "url = get_url(wildfire, None, viz_params)\n",
    "url"
   ]
  },
  {
   "cell_type": "code",
   "execution_count": 104,
   "id": "6fb1d8f1-9475-4eb5-853d-0519cd475701",
   "metadata": {},
   "outputs": [
    {
     "data": {
      "image/png": "[encoded data removed]",
      "text/plain": [
       "<IPython.core.display.Image object>"
      ]
     },
     "execution_count": 104,
     "metadata": {},
     "output_type": "execute_result"
    }
   ],
   "source": [
    "tile_url = url.replace(\"{z}/{x}/{y}\", \"7/44/72\")\n",
    "Image(url=tile_url, embed=True, format=\"png\")"
   ]
  },
  {
   "cell_type": "code",
   "execution_count": 110,
   "id": "f0f91d07-d2a5-41f0-9e3c-31836f284385",
   "metadata": {},
   "outputs": [
    {
     "data": {
      "text/plain": [
       "'https://earthengine.googleapis.com/v1/projects/earthengine-legacy/maps/f45a976305d45ac14c8eab49bc8ea6a6-6a5ff9c5804b0ddcd34ad6ac9033abad/tiles/{z}/{x}/{y}'"
      ]
     },
     "execution_count": 110,
     "metadata": {},
     "output_type": "execute_result"
    }
   ],
   "source": [
    "viz_params = {\n",
    "  \"min\": 0,\n",
    "  \"max\": 1,\n",
    "  \"palette\": [\"00000000\", \"orange\"]\n",
    "}\n",
    "\n",
    "url = get_url(crop_cycle, None, viz_params)\n",
    "url"
   ]
  },
  {
   "cell_type": "code",
   "execution_count": 111,
   "id": "d4c80148-a83b-4f05-8441-c9ac9fa851af",
   "metadata": {},
   "outputs": [
    {
     "data": {
      "image/png": "[encoded data removed]",
      "text/plain": [
       "<IPython.core.display.Image object>"
      ]
     },
     "execution_count": 111,
     "metadata": {},
     "output_type": "execute_result"
    }
   ],
   "source": [
    "tile_url = url.replace(\"{z}/{x}/{y}\", \"7/44/72\")\n",
    "Image(url=tile_url, embed=True, format=\"png\")"
   ]
  },
  {
   "cell_type": "code",
   "execution_count": 112,
   "id": "384bf0a9-ff73-4638-9bdf-2f18abc77f7c",
   "metadata": {},
   "outputs": [
    {
     "data": {
      "text/plain": [
       "'https://earthengine.googleapis.com/v1/projects/earthengine-legacy/maps/42488dd8b903cd7819bb1c5291d9aa31-a7c56c4c571c5a9d517a0d7071982590/tiles/{z}/{x}/{y}'"
      ]
     },
     "execution_count": 112,
     "metadata": {},
     "output_type": "execute_result"
    }
   ],
   "source": [
    "viz_params = {\n",
    "  \"min\": 0,\n",
    "  \"max\": 1,\n",
    "  \"palette\": [\"00000000\", \"blue\"]\n",
    "}\n",
    "\n",
    "url = get_url(flooding, None, viz_params)\n",
    "url"
   ]
  },
  {
   "cell_type": "code",
   "execution_count": 113,
   "id": "45ca4d0a-a52c-41cf-83a0-76772ec7c66d",
   "metadata": {},
   "outputs": [
    {
     "data": {
      "image/png": "[encoded data removed]",
      "text/plain": [
       "<IPython.core.display.Image object>"
      ]
     },
     "execution_count": 113,
     "metadata": {},
     "output_type": "execute_result"
    }
   ],
   "source": [
    "tile_url = url.replace(\"{z}/{x}/{y}\", \"7/44/72\")\n",
    "Image(url=tile_url, embed=True, format=\"png\")"
   ]
  },
  {
   "cell_type": "code",
   "execution_count": 114,
   "id": "d788b42a-ec90-455e-b441-0c69933ac011",
   "metadata": {},
   "outputs": [
    {
     "data": {
      "text/plain": [
       "'https://earthengine.googleapis.com/v1/projects/earthengine-legacy/maps/7a2d8ceccb87a7feb6d3e9658e2df88d-c0faf4570237d19265c5ed3de5305d55/tiles/{z}/{x}/{y}'"
      ]
     },
     "execution_count": 114,
     "metadata": {},
     "output_type": "execute_result"
    }
   ],
   "source": [
    "viz_params = {\n",
    "  \"min\": 0,\n",
    "  \"max\": 1,\n",
    "  \"palette\": [\"00000000\", \"magenta\"]\n",
    "}\n",
    "\n",
    "url = get_url(conversion, None, viz_params)\n",
    "url"
   ]
  },
  {
   "cell_type": "code",
   "execution_count": 115,
   "id": "a691b913-32f4-44a3-8fed-0e38a58e6916",
   "metadata": {},
   "outputs": [
    {
     "data": {
      "image/png": "[encoded data removed]",
      "text/plain": [
       "<IPython.core.display.Image object>"
      ]
     },
     "execution_count": 115,
     "metadata": {},
     "output_type": "execute_result"
    }
   ],
   "source": [
    "tile_url = url.replace(\"{z}/{x}/{y}\", \"7/44/72\")\n",
    "Image(url=tile_url, embed=True, format=\"png\")"
   ]
  },
  {
   "cell_type": "code",
   "execution_count": 116,
   "id": "06a69cfc-36e4-4b5b-bd76-c807c7b73881",
   "metadata": {},
   "outputs": [
    {
     "data": {
      "text/plain": [
       "'https://earthengine.googleapis.com/v1/projects/earthengine-legacy/maps/9fd7e17e24b256e75679ef71fd8362d0-9e5ad0e61246464735924a3dbe387f8f/tiles/{z}/{x}/{y}'"
      ]
     },
     "execution_count": 116,
     "metadata": {},
     "output_type": "execute_result"
    }
   ],
   "source": [
    "viz_params = {\n",
    "  \"min\": 0,\n",
    "  \"max\": 1,\n",
    "  \"palette\": [\"00000000\", \"purple\"]\n",
    "}\n",
    "\n",
    "url = get_url(unclassified, None, viz_params)\n",
    "url"
   ]
  },
  {
   "cell_type": "code",
   "execution_count": 117,
   "id": "6e046cf4-6886-496c-9fe9-34749b4936f1",
   "metadata": {},
   "outputs": [
    {
     "data": {
      "image/png": "[encoded data removed]",
      "text/plain": [
       "<IPython.core.display.Image object>"
      ]
     },
     "execution_count": 117,
     "metadata": {},
     "output_type": "execute_result"
    }
   ],
   "source": [
    "tile_url = url.replace(\"{z}/{x}/{y}\", \"7/44/72\")\n",
    "Image(url=tile_url, embed=True, format=\"png\")"
   ]
  },
  {
   "cell_type": "code",
   "execution_count": null,
   "id": "96d1bea9-d13b-438a-aff8-e02bee9c1468",
   "metadata": {},
   "outputs": [],
   "source": []
  }
 ],
 "metadata": {
  "kernelspec": {
   "display_name": "Python 3 (ipykernel)",
   "language": "python",
   "name": "python3"
  },
  "language_info": {
   "codemirror_mode": {
    "name": "ipython",
    "version": 3
   },
   "file_extension": ".py",
   "mimetype": "text/x-python",
   "name": "python",
   "nbconvert_exporter": "python",
   "pygments_lexer": "ipython3",
   "version": "3.11.6"
  }
 },
 "nbformat": 4,
 "nbformat_minor": 5
}
